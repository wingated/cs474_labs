{
 "cells": [
  {
   "cell_type": "markdown",
   "id": "cf164328-f7cf-45ff-a516-6de1fe9a4d7b",
   "metadata": {
    "id": "cf164328-f7cf-45ff-a516-6de1fe9a4d7b"
   },
   "source": [
    "# Deep Learning Part 2: Modules and the Training Pipeline\n",
    "\n",
    "## Grading Standards:\n",
    "* Intro (10%)\n",
    "* Linear regression (60%)\n",
    "    * Module (10%)\n",
    "    * Linear layer (20%)\n",
    "    * SGD, MSE (10%)\n",
    "    * Train (20%)\n",
    "* Non-linear regression (30%)\n",
    "    * Stacked linear (10%)\n",
    "    * Deep network (10%)\n",
    "    * Sequential (10%)\n",
    "___\n",
    "\n",
    "In this lab, we will be utilizing PyTorch modules to create neural networks, which we will use to solve a simple nonlinear regression problem. This will guide you through the deep learning training and validation loops which you will use in some form in every deep learning project."
   ]
  },
  {
   "cell_type": "code",
   "execution_count": null,
   "id": "4dc36448-348b-4597-bd32-699b40d9828b",
   "metadata": {
    "id": "4dc36448-348b-4597-bd32-699b40d9828b"
   },
   "outputs": [],
   "source": [
    "import torch\n",
    "import torch.nn as nn # Contains torch modules (network layers)\n",
    "import torch.nn.functional as F # Contains stateless functional versions of modules\n",
    "\n",
    "import matplotlib.pyplot as plt"
   ]
  },
  {
   "cell_type": "markdown",
   "id": "66d29fdf-fa9a-4d3f-9de3-545f88294736",
   "metadata": {
    "id": "66d29fdf-fa9a-4d3f-9de3-545f88294736"
   },
   "source": [
    "In order to have reproducible results, we'll set the random seed. Because cells in notebooks can be run in any order, we'll need to set the seed multiple times: whenever the cell uses random operations. If you were to run your code in a script, you could just set the seed at the top."
   ]
  },
  {
   "cell_type": "code",
   "execution_count": null,
   "id": "5e5da4ae-225e-4d4c-ba77-1963eb95647f",
   "metadata": {
    "id": "5e5da4ae-225e-4d4c-ba77-1963eb95647f"
   },
   "outputs": [],
   "source": [
    "torch.manual_seed(0) # Sets random seed for all PyTorch operations"
   ]
  },
  {
   "cell_type": "markdown",
   "id": "dc92954a-fa36-40c2-bd01-63e63df1fafd",
   "metadata": {
    "id": "dc92954a-fa36-40c2-bd01-63e63df1fafd"
   },
   "source": [
    "---\n",
    "### GPUs and Cuda\n",
    "Generally, as programmers, we run everything on the CPU.\n",
    "CPUs are designed to perform all sorts of calculations, but they are very slow for linear algebra tensor operations.\n",
    "The GPU was designed to perform efficient math on large tensors (originally for rendering graphics).\n",
    "Because deep learning is all tensor math, we can use the GPU to speed up our networks!\n",
    "While you can do all labs on the CPU, training and validation will be very slow, so we recommend using the GPU.\n",
    "\n",
    "Cuda is the library used to interact with Nvidia GPUs.\n",
    "Google Colab and Kaggle offer free GPU usage (with some limitations) if you don't have a CUDA-compatible GPU.\n",
    "\n",
    "**To use the GPU on Colab go to 'Runtime' at the top and then click 'Change runtime type'.**\n",
    "Execute the cell below and make sure cuda is available."
   ]
  },
  {
   "cell_type": "code",
   "execution_count": null,
   "id": "4bfb899e",
   "metadata": {
    "id": "4bfb899e"
   },
   "outputs": [],
   "source": [
    "print(f\"Cuda is available: {torch.cuda.is_available()}\")"
   ]
  },
  {
   "cell_type": "markdown",
   "id": "4df3d8a0",
   "metadata": {
    "id": "4df3d8a0"
   },
   "source": [
    "We can check to see what device (`cpu` or `cuda`) a tensors is on by looking at its `.device` variable.\n",
    "Go ahead a print out what device `a` is on."
   ]
  },
  {
   "cell_type": "code",
   "execution_count": null,
   "id": "7d4907aa",
   "metadata": {
    "id": "7d4907aa"
   },
   "outputs": [],
   "source": [
    "a = torch.tensor(1)\n",
    "\n",
    "# TODO: print out a's device.\n"
   ]
  },
  {
   "cell_type": "markdown",
   "id": "6b3afd63",
   "metadata": {
    "id": "6b3afd63"
   },
   "source": [
    "By default all tensors start on the CPU.\n",
    "To put a device on the GPU you can use the `.cuda()` function. Go ahead and put `a` on the GPU by using `a = a.cuda()` and print out the device.\n",
    "\n",
    "*Note: `.cuda()` returns a COPY of the tensor so assignment is necessary.*"
   ]
  },
  {
   "cell_type": "code",
   "execution_count": null,
   "id": "84a599db-0b65-40ec-aa2f-7d62fdb6e9d4",
   "metadata": {
    "id": "84a599db-0b65-40ec-aa2f-7d62fdb6e9d4"
   },
   "outputs": [],
   "source": [
    "# TODO: Put `a` on the GPU.\n",
    "\n",
    "assert str(a.device) == 'cuda:0'"
   ]
  },
  {
   "cell_type": "markdown",
   "id": "0a536100-436f-47c0-b8c8-55a4c5bd0770",
   "metadata": {
    "id": "0a536100-436f-47c0-b8c8-55a4c5bd0770"
   },
   "source": [
    "Now that our tensor is on the GPU, every operation we perform with it will be on the GPU and the resulting tensors will also be on the GPU."
   ]
  },
  {
   "cell_type": "code",
   "execution_count": null,
   "id": "0389c7f3",
   "metadata": {
    "id": "0389c7f3"
   },
   "outputs": [],
   "source": [
    "b = a+1\n",
    "print(b)"
   ]
  },
  {
   "cell_type": "markdown",
   "id": "dc709ee0-8773-4baa-ae2f-850749658aa6",
   "metadata": {
    "id": "dc709ee0-8773-4baa-ae2f-850749658aa6"
   },
   "source": [
    "PyTorch makes using the GPU easy and almost invisible. This makes it easy to forget which device your tensor is on.\n",
    "\n",
    "You can only perform tensor operations with tensors on the same device. If you try to do an operation between tensors on the CPU and GPU (or between different GPUs) you will get the following error:"
   ]
  },
  {
   "cell_type": "code",
   "execution_count": null,
   "id": "39584e84-c40c-49c1-81f8-d4e709216147",
   "metadata": {
    "id": "39584e84-c40c-49c1-81f8-d4e709216147"
   },
   "outputs": [],
   "source": [
    "# NOTE: This code SHOULD throw an error (if cuda is available)\n",
    "b_cpu = torch.ones(1)\n",
    "b_gpu = torch.ones(1).cuda()\n",
    "print('Adding two tensors on the GPU gives us a GPU tensor:')\n",
    "print(a + b_gpu)\n",
    "print('Adding two tensors on different devices gives us this error:')\n",
    "print(a + b_cpu)"
   ]
  },
  {
   "cell_type": "markdown",
   "id": "bf8db3fd",
   "metadata": {
    "id": "bf8db3fd"
   },
   "source": [
    "If you want to put a tensor back on the CPU you can use the `.cpu()` function. Go ahead and put `a` on the CPU and print out the device.\n",
    "\n",
    "*Note: `.cpu()` returns a COPY of the tensor so assignment is necessary.*"
   ]
  },
  {
   "cell_type": "code",
   "execution_count": null,
   "id": "dce5914a",
   "metadata": {
    "id": "dce5914a"
   },
   "outputs": [],
   "source": [
    "# TODO: Put `a` on the CPU.\n",
    "\n",
    "assert str(a.device) == \"cpu\""
   ]
  },
  {
   "cell_type": "markdown",
   "id": "65bf5027-e258-4e64-919e-a30d2635c91a",
   "metadata": {
    "id": "65bf5027-e258-4e64-919e-a30d2635c91a"
   },
   "source": [
    "Only PyTorch operates on the GPU. Some operations, like printing the tensor, automatically copies the tensor on the CPU, but others, like `.numpy()` can't work unless the tensor is already on the CPU."
   ]
  },
  {
   "cell_type": "code",
   "execution_count": null,
   "id": "e76b3ad6-2446-4130-8a3b-491bc4518c11",
   "metadata": {
    "id": "e76b3ad6-2446-4130-8a3b-491bc4518c11"
   },
   "outputs": [],
   "source": [
    "print('CPU tensor to NumPy works:')\n",
    "print(a.cpu().numpy())\n",
    "print('GPU tensor to NumPy fails:')\n",
    "print(a.cuda().numpy())"
   ]
  },
  {
   "cell_type": "markdown",
   "id": "d5314a9e",
   "metadata": {
    "id": "d5314a9e"
   },
   "source": [
    "You can also put a tensor on a device using the `.to()` function.\n",
    "First create a cuda `device` object with `device = torch.device('cuda')` (You can similarly create a cpu device with `torch.device('cpu')`).\n",
    "Then set `a = a.to(device)`."
   ]
  },
  {
   "cell_type": "code",
   "execution_count": null,
   "id": "6580e895",
   "metadata": {
    "id": "6580e895"
   },
   "outputs": [],
   "source": [
    "# TODO: Create a cuda device\n",
    "device = None\n",
    "\n",
    "# TODO: Set a to device\n",
    "\n",
    "assert 'cuda' in str(a.device)"
   ]
  },
  {
   "cell_type": "markdown",
   "id": "18d3baa2",
   "metadata": {
    "id": "18d3baa2"
   },
   "source": [
    "This is the best way to set tensors to a device since sometimes you may want to switch from being on the GPU to the CPU, for debugging purposes, and now instead of manually changing all `.cuda()` to `.cpu()` you just need to change the global variable `device` to be a `torch.device('cpu')` and all of your code will work automatically.\n",
    "\n",
    "Pay close attention to what devices your tensors are on and you will avoid a lot of errors."
   ]
  },
  {
   "cell_type": "markdown",
   "id": "1c90cb1d-67f0-482f-88b8-d5b680d31122",
   "metadata": {
    "id": "1c90cb1d-67f0-482f-88b8-d5b680d31122"
   },
   "source": [
    "---\n",
    "\n",
    "## Plotting Helper Functions"
   ]
  },
  {
   "cell_type": "code",
   "execution_count": null,
   "id": "503dab29-c356-4b07-8eb9-861c4e782871",
   "metadata": {
    "id": "503dab29-c356-4b07-8eb9-861c4e782871"
   },
   "outputs": [],
   "source": [
    "# Plots each (x,y) point, a prediction if a network is provided, and the ground-truth function if provided\n",
    "def plot_data(x, y, network=None, gt_func=None, title=''):\n",
    "    plt.plot(x, y, marker='.', linewidth=0, color='black') # plots the real points\n",
    "    if network is not None:\n",
    "        dense_x = torch.linspace(x.min(), x.max(), 1000).unsqueeze(1) # Evenly-spaced predicted x values\n",
    "        with torch.no_grad(): # this will be explained in the `validation` function\n",
    "            y_hat = network(dense_x.to(device)).cpu() # non-pytorch libraries like matplotlib need tensors to be on the CPU!\n",
    "        plt.plot(dense_x, y_hat, label='network prediction')\n",
    "\n",
    "        if gt_func is not None:\n",
    "            plt.plot(dense_x, gt_func(dense_x), label='true function')\n",
    "            plt.legend()\n",
    "\n",
    "    plt.title(title)\n",
    "    plt.xlabel('x')\n",
    "    plt.ylabel('y')\n",
    "    plt.show()\n",
    "\n",
    "def plot_loss(losses, title=''):\n",
    "    plt.plot(losses)\n",
    "    plt.xlabel(\"training step\")\n",
    "    plt.ylabel(\"MSE loss\")\n",
    "    plt.title(title)\n",
    "    plt.show()"
   ]
  },
  {
   "cell_type": "markdown",
   "id": "b1be6a98-6655-44de-a589-68de443b2e73",
   "metadata": {
    "id": "b1be6a98-6655-44de-a589-68de443b2e73"
   },
   "source": [
    "---\n",
    "\n",
    "# Linear Regression"
   ]
  },
  {
   "cell_type": "markdown",
   "id": "2e079267-17ed-486d-b1ac-5c2108575e73",
   "metadata": {
    "id": "2e079267-17ed-486d-b1ac-5c2108575e73"
   },
   "source": [
    "You will now solve a linear regression problem, like in lab 1.\n",
    "If you recall from lab 1, solving a regression problem involved multiple iterations of the following steps:\n",
    "1. Applying the slope formula, $Wx + b$, to get our predicted output\n",
    "2. Getting our loss\n",
    "3. Calling backward\n",
    "4. Updating our slope and intercept tensors with their gradients\n",
    "\n",
    "We will be doing the exact same thing, but we will now do it in a more PyTorch-specific way, using `torch.nn`.\n",
    "\n",
    "PyTorch's neural network library `torch.nn` has lots of functionality for building neural networks.\n",
    "There are two important classes in the `nn` library: `Parameter` and `Module`.\n",
    "A `Parameter` is just a `Tensor` with a little extra functionality.\n",
    "A `Module` is a class that can contains `Parameter`s (e.g. weights) and other `Module`s and performs a function on them through the `Module.forward()` function.\n",
    "In PyTorch neural networks inherit the `Module` class and it will be composed of layers that also inherit `Module` class.\n",
    "\n",
    "Let's build a dummy module below to see some of the functionality of a `Module` class."
   ]
  },
  {
   "cell_type": "code",
   "execution_count": null,
   "id": "a2c1d143",
   "metadata": {
    "id": "a2c1d143"
   },
   "outputs": [],
   "source": [
    "class DummyModule(nn.Module):\n",
    "    def __init__(self):\n",
    "        # TODO: It is VERY IMPORTANT you add `super().__init__()` to all nn.Module constructors you create.\n",
    "        pass\n",
    "        # TODO: Create a self.parameter1 variable with weights [1., 1.]. You can instantiate a `Parameter` by calling `nn.Parameter()` and passing a tensor inside.\n",
    "        self.parameter1 = None\n",
    "        # TODO: Create a self.parameter2 variable with weights [2., 2.].\n",
    "        self.parameter2 = None\n",
    "\n",
    "    def forward(self, x):\n",
    "        # TODO: Add self.parameter1 to x and then multiply the result by self.parameter2 and return the output.\n",
    "        pass\n",
    "\n",
    "dummy = DummyModule()"
   ]
  },
  {
   "cell_type": "markdown",
   "id": "6511e21b",
   "metadata": {
    "id": "6511e21b"
   },
   "source": [
    "Print out whether `dummy.parameter1` requires grad or not."
   ]
  },
  {
   "cell_type": "code",
   "execution_count": null,
   "id": "6167bb36",
   "metadata": {
    "id": "6167bb36"
   },
   "outputs": [],
   "source": []
  },
  {
   "cell_type": "markdown",
   "id": "f59bdc1a",
   "metadata": {
    "id": "f59bdc1a"
   },
   "source": [
    "By default a `Parameter` has `.requires_grad` set to true.\n",
    "\n",
    "Let's see the parameters in `dummy`; call `dummy.parameters()` and output its contents.\n",
    "\n",
    "*Note: `.parameters()` returns a generator so in order to see its contents you need to either convert it to a list, e.g. `list()`, or iterate through it with a for loop.*"
   ]
  },
  {
   "cell_type": "code",
   "execution_count": null,
   "id": "b63b2551",
   "metadata": {
    "id": "b63b2551"
   },
   "outputs": [],
   "source": []
  },
  {
   "cell_type": "markdown",
   "id": "f46c093f",
   "metadata": {
    "id": "f46c093f"
   },
   "source": [
    "We can even view each parameter's name by calling `dummy.named_parameters()`. Call `dummy.named_parameters()` below and output its contents."
   ]
  },
  {
   "cell_type": "code",
   "execution_count": null,
   "id": "0cecf8b1",
   "metadata": {
    "id": "0cecf8b1"
   },
   "outputs": [],
   "source": []
  },
  {
   "cell_type": "markdown",
   "id": "86b36edc",
   "metadata": {
    "id": "86b36edc"
   },
   "source": [
    "Now use the `.forward()` function, however do not call `.forward()` directly, instead you should use the `.__call__()` function.\n",
    "PyTorch has extra functionality added in the `.__call__()` function, mainly adding hooks, and so you should **never** call `.forward()` directly.\n",
    "Execute the cell below as an example of what we mean."
   ]
  },
  {
   "cell_type": "code",
   "execution_count": null,
   "id": "404bfc75",
   "metadata": {
    "id": "404bfc75"
   },
   "outputs": [],
   "source": [
    "class Foward_vs_Call_Example:\n",
    "    def __call__(self, x):\n",
    "        print('Do something important before .foward()')\n",
    "        self.forward(x)\n",
    "        print('Do something important after .forward()')\n",
    "\n",
    "    def forward(self, x):\n",
    "        print(f'forward function using {x}')\n",
    "\n",
    "example = Foward_vs_Call_Example()\n",
    "x = \"tensor\""
   ]
  },
  {
   "cell_type": "markdown",
   "id": "302c4321",
   "metadata": {
    "id": "302c4321"
   },
   "source": [
    "Call `example.forward()` and pass in `x`."
   ]
  },
  {
   "cell_type": "code",
   "execution_count": null,
   "id": "693cd02e",
   "metadata": {
    "id": "693cd02e"
   },
   "outputs": [],
   "source": []
  },
  {
   "cell_type": "markdown",
   "id": "f7ad8fe0",
   "metadata": {
    "id": "f7ad8fe0"
   },
   "source": [
    "Now call `example.__call__()` and pass in `x`. You shouldn't explicitly write `example.__call__()`, running `example()` is the same as calling `example.__call__()`."
   ]
  },
  {
   "cell_type": "code",
   "execution_count": null,
   "id": "a185cb96",
   "metadata": {
    "id": "a185cb96"
   },
   "outputs": [],
   "source": []
  },
  {
   "cell_type": "markdown",
   "id": "82af8365",
   "metadata": {
    "id": "82af8365"
   },
   "source": [
    "Using the `.__call__()` function, execute `DummyModule`'s `forward()` functionality to execute operations on tensors `a` and `b` below."
   ]
  },
  {
   "cell_type": "code",
   "execution_count": null,
   "id": "b3f3157e",
   "metadata": {
    "id": "b3f3157e"
   },
   "outputs": [],
   "source": [
    "a = torch.tensor([1., 1.])\n",
    "b = torch.tensor([-1., 2.])\n",
    "\n",
    "# TODO: Execute `DummyModule` forward on tensor a\n",
    "answer = None\n",
    "\n",
    "assert torch.equal(answer, torch.tensor([4., 4.]))\n",
    "\n",
    "# TODO: Execute `DummyModule` forward on tensor b\n",
    "answer = None\n",
    "\n",
    "assert torch.equal(answer, torch.tensor([0., 6.]))"
   ]
  },
  {
   "cell_type": "markdown",
   "id": "02a61453",
   "metadata": {
    "id": "02a61453"
   },
   "source": [
    "Another nice utility of a `Module` is that you can put all of its parameters on a device by using the `.to()` function.\n",
    "Set `dummy = dummy.to(device)` and print out the devices that `parameter1` and `parameter2` are on to validate this is true."
   ]
  },
  {
   "cell_type": "code",
   "execution_count": null,
   "id": "4200225d",
   "metadata": {
    "id": "4200225d"
   },
   "outputs": [],
   "source": []
  },
  {
   "cell_type": "markdown",
   "id": "223b8e2f",
   "metadata": {
    "id": "223b8e2f"
   },
   "source": [
    "Now that you understand the `Parameter` and `Module` classes a little better, build a linear layer `Module` (called `LinearLayer`) so we can do linear regression.\n",
    "The `LinearLayer` will perform an affine transformation, i.e. $Wx + b$.\n",
    "However, the shape of `x` will be `(B, Z_in)`, where `B` is the 'batch size' and `Z_in` is our 'input feature size' and the expected shape of our output is `(B, Z_out)`, where `B` is the 'batch size' and `Z_out` is the 'output feature size', therefore, your `LinearLayer` should perform $xW$ matrix multiplication, since $(B \\times Z_{in}) \\cdot (Z_{in} \\times Z_{out}) \\rightarrow (B \\times Z_{out})$, to ensure that the batch size remains in the 0th dimension.\n",
    "\n",
    "Follow the TODOs down below.\n",
    "\n",
    "```python\n",
    "class LinearLayer(nn.Module):\n",
    "    def __init__(self, input_feature_size, output_feature_size):\n",
    "        # TODO 1: It is VERY IMPORTANT you add `super().__init__()` to all nn.Module constructors you create.\n",
    "        # TODO 2: Initialize a self.weight Parameter with shape (input_feature_size, output_feature_size)\n",
    "        # TODO 3: Use the nn.init.xavier_uniform_() function to set the weights in the self.weight\n",
    "        # TODO 4: Initialize a self.bias Parameter with shape (output_feature_size,)\n",
    "        # TODO 5: Use the nn.init.uniform_() function to set the weights in the self.bias between -1 and 1\n",
    "\n",
    "    def forward(self, x):\n",
    "        # TODO: Implement the affine transformation Wx + b correctly and return the output\n",
    "```\n",
    "\n",
    "You can find helpful resources and documentation on `nn.init.xavier_uniform_()` and `nn.init.uniform_()` online.\n",
    "\n",
    "*Note: In PyTorch a function that ends with '_' will perform the operation inplace.*"
   ]
  },
  {
   "cell_type": "code",
   "execution_count": null,
   "id": "bc345d24",
   "metadata": {
    "id": "bc345d24"
   },
   "outputs": [],
   "source": [
    "class LinearLayer(nn.Module):\n",
    "    def __init__(self, input_feature_size, output_feature_size):\n",
    "        pass\n",
    "\n",
    "    def forward(self, x):\n",
    "        pass\n"
   ]
  },
  {
   "cell_type": "markdown",
   "id": "6478cae4",
   "metadata": {
    "id": "6478cae4"
   },
   "source": [
    "Execute the code below to assert that your functionality works correctly."
   ]
  },
  {
   "cell_type": "code",
   "execution_count": null,
   "id": "3b399a3a",
   "metadata": {
    "id": "3b399a3a"
   },
   "outputs": [],
   "source": [
    "def test_LinearLayer():\n",
    "    x = [[0, 0, 0],\n",
    "         [1, 1, 1],\n",
    "         [2, 2, 2],\n",
    "         [0, 1, 2]]\n",
    "    x = torch.tensor(x, dtype=torch.float32)\n",
    "\n",
    "    batch_size, in_features = x.shape\n",
    "    out_features = 2\n",
    "\n",
    "    layer = LinearLayer(in_features, out_features)\n",
    "    y = layer(x)\n",
    "    assert y.shape == torch.Size([batch_size, out_features])\n",
    "\n",
    "    layer.weight.data = torch.tensor([[2, 0],[0, 1], [1, 1]], dtype=torch.float32)\n",
    "    layer.bias.data = torch.tensor([0, 1], dtype=torch.float32)\n",
    "\n",
    "    y = layer(x)\n",
    "    assert torch.equal(y, torch.tensor([[0, 1], [3, 3], [6, 5], [2, 4]]))\n",
    "\n",
    "test_LinearLayer()"
   ]
  },
  {
   "cell_type": "markdown",
   "id": "ef2aaf74",
   "metadata": {
    "id": "ef2aaf74"
   },
   "source": [
    "Now that we have `LinearLayer` built, let's create an `SGD` optimizer that will update the parameters in `LinearLayer`."
   ]
  },
  {
   "cell_type": "code",
   "execution_count": null,
   "id": "833b5c81-9e36-4b1a-80ea-b2fbad389293",
   "metadata": {
    "id": "833b5c81-9e36-4b1a-80ea-b2fbad389293"
   },
   "outputs": [],
   "source": [
    "class SGD:\n",
    "    def __init__(self, parameters, lr):\n",
    "        # TODO: Store the parameters. Note that parameters could either be a list of Tensors or a generator, so you should cast parameters as a list before setting it to self.parameters.\n",
    "        pass\n",
    "        # TODO: Store the learning rate.\n",
    "        pass\n",
    "\n",
    "    def zero_grad(self):\n",
    "        \"\"\"\n",
    "        To avoid gradients from accumulating let zero_grad() zero out all the gradients in self.parameters\n",
    "        \"\"\"\n",
    "        pass\n",
    "\n",
    "    def step(self):\n",
    "        \"\"\"\n",
    "        This is where you will take you gradient steps for each of your parameters.\n",
    "        Remember to use '.data', subtract the gradients, and use your learning rate\n",
    "        \"\"\"\n",
    "        pass\n"
   ]
  },
  {
   "cell_type": "markdown",
   "id": "5c623332",
   "metadata": {
    "id": "5c623332"
   },
   "source": [
    "Execute the cell below to test that your implementation works correctly."
   ]
  },
  {
   "cell_type": "code",
   "execution_count": null,
   "id": "22986965",
   "metadata": {
    "id": "22986965"
   },
   "outputs": [],
   "source": [
    "def test_sgd():\n",
    "    linear_layer = LinearLayer(1, 1)\n",
    "    linear_layer.weight.data = torch.tensor([[1.]])\n",
    "    linear_layer.weight.grad = torch.tensor([[.5]])\n",
    "\n",
    "    linear_layer.bias.data = torch.tensor([0.])\n",
    "    linear_layer.bias.grad = torch.tensor([1.])\n",
    "\n",
    "    optimizer = SGD(linear_layer.parameters(), .1)\n",
    "\n",
    "    # TESTING STEP\n",
    "    optimizer.step()\n",
    "    assert torch.equal(linear_layer.weight, torch.tensor([[.95]]))\n",
    "    assert torch.equal(linear_layer.bias, torch.tensor([-.1]))\n",
    "\n",
    "    # TESTING ZERO_GRAD\n",
    "    optimizer.zero_grad()\n",
    "    assert linear_layer.weight.grad is None or torch.equal(linear_layer.weight.grad, torch.zeros_like(linear_layer.weight.grad))\n",
    "    assert linear_layer.bias.grad is None or torch.equal(linear_layer.bias.grad, torch.zeros_like(linear_layer.bias.grad))\n",
    "\n",
    "test_sgd()"
   ]
  },
  {
   "cell_type": "markdown",
   "id": "ab0e1229-89b4-4d96-84d2-52e5d340ff44",
   "metadata": {
    "id": "ab0e1229-89b4-4d96-84d2-52e5d340ff44"
   },
   "source": [
    "Finally, implement the loss function necessary to train our network. We will use mean squared error (MSE):\n",
    "$$\\textrm{MSE}(\\hat{y}, y) = \\frac{1}{\\lvert y \\rvert} \\sum_{k=0}^{\\lvert y \\rvert - 1} (\\hat{y}_k - y_k)^2$$\n",
    "\n",
    "Do **not** use a for loop in your implementation, use `torch.mean()` instead.\n",
    "You can use `nn.functional.mse_loss()` to validate your implementation works."
   ]
  },
  {
   "cell_type": "code",
   "execution_count": null,
   "id": "619fecf6-ed12-48bb-8c0e-ecc666bc520b",
   "metadata": {
    "id": "619fecf6-ed12-48bb-8c0e-ecc666bc520b"
   },
   "outputs": [],
   "source": [
    "def mse_loss(y_hat, y):\n",
    "    pass"
   ]
  },
  {
   "cell_type": "markdown",
   "id": "1fb6b7d0",
   "metadata": {
    "id": "1fb6b7d0"
   },
   "source": [
    "Now that we have the necessary components to learn linear regression, let's generate some data."
   ]
  },
  {
   "cell_type": "code",
   "execution_count": null,
   "id": "44582bec",
   "metadata": {
    "id": "44582bec"
   },
   "outputs": [],
   "source": [
    "torch.manual_seed(0)\n",
    "# Creating a linear regression dataset\n",
    "linear_x = (torch.rand(100, 1) - .5) * 10\n",
    "linear_m = torch.randn(1)\n",
    "linear_b = torch.randn(1)\n",
    "linear_y = linear_m * linear_x + linear_b + torch.randn(100,1)*.01\n",
    "\n",
    "print(\"True function: y = {:.4f}x + {:.4f}\".format(linear_m.item(), linear_b.item()))"
   ]
  },
  {
   "cell_type": "code",
   "execution_count": null,
   "id": "0c62a96b",
   "metadata": {
    "id": "0c62a96b"
   },
   "outputs": [],
   "source": [
    "plot_data(linear_x, linear_y, title=\"Linear Dataset\")"
   ]
  },
  {
   "cell_type": "markdown",
   "id": "398e5244",
   "metadata": {
    "id": "398e5244"
   },
   "source": [
    "Now implement the following training function.\n",
    "There are two things to note:\n",
    "1. Because the loss $L$ has gradient information attached (remember the computation graph), do not blindly append $L$, otherwise we will continually create thousands of computation graphs and the data will never be freed. While calling `L.detach()` would avoid this issue, since we only care about the loss value, call `L.item()` which will return the loss as a float.\n",
    "2. Other than in the comments we do not explicitly mention the SGD optimizer. It is implicit and therefore, you can either pass in the optimizer or initialize it inside the training loop. Passing it in is the preferred method, so we will opt for that.\n",
    "\n",
    "\n",
    "![SimpleNNTrain.PNG](data:image/png;base64,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)"
   ]
  },
  {
   "cell_type": "code",
   "execution_count": null,
   "id": "041b3bdd-c2f0-4b6e-be67-f15da4fae343",
   "metadata": {
    "id": "041b3bdd-c2f0-4b6e-be67-f15da4fae343"
   },
   "outputs": [],
   "source": [
    "def train(network, optimizer, x, y, training_steps):\n",
    "    # TODO: Implement training loop\n",
    "    pass\n"
   ]
  },
  {
   "cell_type": "markdown",
   "id": "642da26a-c98a-47fb-a15d-951419f8dc1e",
   "metadata": {
    "id": "642da26a-c98a-47fb-a15d-951419f8dc1e"
   },
   "source": [
    "Now, we'll create a single-layer regression model. For the data to fit into the model, we must provide the correct `input_feature_size` parameter. For the prediction to match the true labels and fit into the loss function with the label, we must provide the correct `output_feature_size` parameter. In this case, we have a single x-value as an input and a single y-value as an output, so `input_feature_size=1` and `output_feature_size=1`."
   ]
  },
  {
   "cell_type": "markdown",
   "id": "b525c36f-bf71-455c-8a93-ce1e14f8a0c8",
   "metadata": {
    "id": "b525c36f-bf71-455c-8a93-ce1e14f8a0c8"
   },
   "source": [
    "Initialize a `LinearLayer` and a `SGD` optimizer (learning rate of .1) and train your network for 50 steps."
   ]
  },
  {
   "cell_type": "code",
   "execution_count": null,
   "id": "c5775b67-2fbb-4be3-bdee-ecd086f903da",
   "metadata": {
    "id": "c5775b67-2fbb-4be3-bdee-ecd086f903da"
   },
   "outputs": [],
   "source": [
    "# TODO: Initialize a LinearLayer\n",
    "linear_network = None\n",
    "\n",
    "# TODO: Initialize an SGD Optimizer with a learning rate of .1\n",
    "\n",
    "# TODO: Train linear_network for 50 steps using your train function, store your training losses in `train_losses` for plotting\n",
    "train_losses = None\n",
    "\n",
    "plot_loss(train_losses, title=\"Loss on Linear Dataset\")"
   ]
  },
  {
   "cell_type": "markdown",
   "id": "e75d2933-a7fe-4a75-97d0-6d5e5fa5464a",
   "metadata": {
    "id": "e75d2933-a7fe-4a75-97d0-6d5e5fa5464a"
   },
   "source": [
    "Your loss plot should be decreasing in a curve: it decreases very quickly at first and starts to level off."
   ]
  },
  {
   "cell_type": "code",
   "execution_count": null,
   "id": "50360c9e-dfc8-4783-bc36-8433a32e7b68",
   "metadata": {
    "id": "50360c9e-dfc8-4783-bc36-8433a32e7b68"
   },
   "outputs": [],
   "source": [
    "# Plot your fit on the data\n",
    "plot_data(linear_x, linear_y, linear_network, title=\"Linear Layer Fit on Linear Dataset\")"
   ]
  },
  {
   "cell_type": "markdown",
   "id": "a447c4d4-4e7a-4f63-8897-5c4100073d42",
   "metadata": {
    "id": "a447c4d4-4e7a-4f63-8897-5c4100073d42"
   },
   "source": [
    "### Nonlinear Regression\n",
    "\n",
    "Some problems cannot be effectively solved by a linear model. We can create more complex nonlinear models by stacking linear layers and nonlinear activation functions.\n",
    "\n",
    "Here, we have a nonlinear function we'd like to approximate. Try to solve it with a one-layer linear model."
   ]
  },
  {
   "cell_type": "code",
   "execution_count": null,
   "id": "49d67f64-c81c-4e30-85f4-a1be4115bda1",
   "metadata": {
    "id": "49d67f64-c81c-4e30-85f4-a1be4115bda1"
   },
   "outputs": [],
   "source": [
    "torch.manual_seed(0) # Sets random seed for all PyTorch operations\n",
    "sine_x = torch.rand((100,1))*8 - 4\n",
    "sine_y = torch.sin(sine_x) + torch.randn_like(sine_x)*.1 # the second part of the sum adds noise to the function\n",
    "\n",
    "plot_data(sine_x, sine_y, title=\"Sine wave dataset\")"
   ]
  },
  {
   "cell_type": "markdown",
   "id": "eb56ed43-a507-435e-930a-a6fc25f85ccb",
   "metadata": {
    "id": "eb56ed43-a507-435e-930a-a6fc25f85ccb"
   },
   "source": [
    "Initialize a `LinearLayer` and a `SGD` optimizer (learning rate of .05) and train your network for 50 steps."
   ]
  },
  {
   "cell_type": "code",
   "execution_count": null,
   "id": "217b4ae9-5d38-4122-9fb8-e64e30685154",
   "metadata": {
    "id": "217b4ae9-5d38-4122-9fb8-e64e30685154"
   },
   "outputs": [],
   "source": [
    "# TODO: Initialize a LinearLayer\n",
    "linear_network = None\n",
    "\n",
    "# TODO: Initialize an SGD Optimizer with learning rate of .05\n",
    "\n",
    "# TODO: Train linear_network for 50 steps using your train function, store your training losses in `train_losses` for plotting\n",
    "train_losses = None\n",
    "\n",
    "# Plot your losses\n",
    "plot_loss(train_losses,\"Linear Net Loss on Sine Dataset\")\n",
    "\n",
    "# Plot the fit on the dataset\n",
    "plot_data(sine_x, sine_y, linear_network, gt_func=torch.sin, title=\"Linear Net Predictions on Sine Dataset\")"
   ]
  },
  {
   "cell_type": "code",
   "execution_count": null,
   "id": "cc8addb7-0118-4424-a132-22428a81d9ed",
   "metadata": {
    "id": "cc8addb7-0118-4424-a132-22428a81d9ed"
   },
   "outputs": [],
   "source": [
    "print(\"Our network's trained prediction function is:\")\n",
    "print(\"y = {:.3f}x + {:.3f}\".format(linear_network.weight.data.item(), linear_network.bias.data.item()))"
   ]
  },
  {
   "cell_type": "markdown",
   "id": "f94cbec8-86b3-4dde-bdfe-ff1ed078dcc5",
   "metadata": {
    "id": "f94cbec8-86b3-4dde-bdfe-ff1ed078dcc5"
   },
   "source": [
    "A linear network can only create a linear prediction, which isn't very useful for complex problems. Let's create a deeper network with multiple layers called `StackedLinear`.\n",
    "`StackedLinear` should have 3 `LinearLayer`s:\n",
    "- Layer 1 should map tensors from `(B, Z_in)` to `(B, H)` where `H` is the hidden size.\n",
    "- Layer 2 should map tensors from `(B, H)` to `(B, H)`.\n",
    "- Layer 3 should map tensors from `(B, H)` to `(B, Z_out)`."
   ]
  },
  {
   "cell_type": "code",
   "execution_count": null,
   "id": "f8f8aa26-3ccb-4648-9f82-78cd4b2df946",
   "metadata": {
    "id": "f8f8aa26-3ccb-4648-9f82-78cd4b2df946"
   },
   "outputs": [],
   "source": [
    "class StackedLinear(nn.Module):\n",
    "    def __init__(self, input_feature_size, output_feature_size, hidden_size):\n",
    "        #TODO: Create three linear layers called `self.lin1`, `self.lin2`, and `self.lin3`\n",
    "        pass\n",
    "\n",
    "    def forward(self, x):\n",
    "        # TODO: Pass x through self.lin1\n",
    "        # TODO: Pass the output of self.lin1 into self.lin2\n",
    "        # TODO: Pass the output of self.lin2 into self.lin3 and return its output\n",
    "        pass"
   ]
  },
  {
   "cell_type": "markdown",
   "id": "00e2ac5e-4592-43cc-9694-caf80aa8012c",
   "metadata": {
    "id": "00e2ac5e-4592-43cc-9694-caf80aa8012c"
   },
   "source": [
    "To see some other functionality that a `Module` has, create a `StackedLinear` object called `stacked_net` and print out `stacked_net`"
   ]
  },
  {
   "cell_type": "code",
   "execution_count": null,
   "id": "c2351c37-1ab0-4f5b-9700-c62117cf4e2a",
   "metadata": {
    "id": "c2351c37-1ab0-4f5b-9700-c62117cf4e2a"
   },
   "outputs": [],
   "source": []
  },
  {
   "cell_type": "markdown",
   "id": "714efafb-04f6-4ebf-a4ed-9983a7953c7e",
   "metadata": {
    "id": "714efafb-04f6-4ebf-a4ed-9983a7953c7e"
   },
   "source": [
    "Printing out a `Module` is a simple way to see what the object contains.\n",
    "Furthermore, `.parameters()` is recursive, so while we haven't define any `Parameter`s inside of `StackedLinear` because `LinearLayer` has some we get them when we call `.parameters()`.\n",
    "Use `.named_parameters()` to print out the names of all the `Parameter`s in `stacked_net`."
   ]
  },
  {
   "cell_type": "code",
   "execution_count": null,
   "id": "af5833e8-8a74-432e-b213-0f7f644cb8ca",
   "metadata": {
    "id": "af5833e8-8a74-432e-b213-0f7f644cb8ca"
   },
   "outputs": [],
   "source": []
  },
  {
   "cell_type": "markdown",
   "id": "0115f0d5-980d-44f3-925f-1bc6c9419700",
   "metadata": {
    "id": "0115f0d5-980d-44f3-925f-1bc6c9419700"
   },
   "source": [
    "Now we can try to solve the nonlinear problem with our stacked network.\n",
    "Initialize a `StackedLinear` (with hidden size set to 64) and a `SGD` optimizer (learning rate of .01) and train your network for 50 steps.\n",
    "\n",
    "The `input_feature_size` and `output_feature_size` should be the same as for our one-layer linear network, since they are problem-dependent not network-dependent. `hidden_size` is a hyperparameter and one that you choose the value of. It determines the size of the tensors created as the input passes through the network layers (except for the final layer), so a higher `hidden_size` means your network has more parameters and can learn more complex functions. However, it also means your network has to perform more calculations with each pass."
   ]
  },
  {
   "cell_type": "code",
   "execution_count": null,
   "id": "fceddf00-02ae-48f8-b15b-b8730549635f",
   "metadata": {
    "id": "fceddf00-02ae-48f8-b15b-b8730549635f"
   },
   "outputs": [],
   "source": [
    "# TODO: Set PyTorch's seed to 0 to ensure reproducibility\n",
    "\n",
    "# TODO: Initialize a StackedLinear (set hidden_size to 64) called stacked_net.\n",
    "stacked_net = None\n",
    "\n",
    "# TODO: Intialize SGD optimizer with a learning rate of .01\n",
    "\n",
    "# TODO: train stacked_net for 50 steps and store training losses as `train_losses`\n",
    "train_losses = None\n",
    "\n",
    "# Plot training losses\n",
    "plot_loss(train_losses, \"Stacked Net Loss on Sine Dataset\")\n",
    "\n",
    "# Plot fit on data\n",
    "plot_data(sine_x, sine_y, stacked_net, gt_func=torch.sin, title=\"Stacked Net Predictions on Sine Dataset\")"
   ]
  },
  {
   "cell_type": "markdown",
   "id": "29eb6407-da67-4b0d-bbaa-154d69b512ba",
   "metadata": {
    "id": "29eb6407-da67-4b0d-bbaa-154d69b512ba"
   },
   "source": [
    "What gives! The output is still linear! Stacking linear functions always gives us another linear function.\n",
    "$$\\begin{align}\n",
    "& W_3(W_2(W_1x + b_1) + b_2) + b_3 \\\\\n",
    "    = & W_3(W_2 W_1x + W_2 b_1 + b_2) + b_3 \\\\\n",
    "    = & W_3 W_2 W_1x + W_3 W_2 b_1 + W_3 b_2 + b_3 \\\\\n",
    "    = & (W_3 W_2 W_1) x + (W_3 W_2 b_1 + W_3 b_2 + b_3) \\\\\n",
    "    = & Wx + b\n",
    "\\end{align}$$\n",
    "\n",
    "So despite having a stacked network with more parameters, our `stacked_net` is functionally the same as our `linear_net`! Execute the code below to see."
   ]
  },
  {
   "cell_type": "code",
   "execution_count": null,
   "id": "7029eb67-e42b-4e91-92d5-3156aacd9cc4",
   "metadata": {
    "id": "7029eb67-e42b-4e91-92d5-3156aacd9cc4"
   },
   "outputs": [],
   "source": [
    "W1, b1 = stacked_net.lin1.weight.data.T, stacked_net.lin1.bias.data\n",
    "W2, b2 = stacked_net.lin2.weight.data.T, stacked_net.lin2.bias.data\n",
    "W3, b3 = stacked_net.lin3.weight.data.T, stacked_net.lin3.bias.data\n",
    "M = (W3@W2@W1).item()\n",
    "b = (W3@W2@b1 + W3@b2 + b3).item()\n",
    "print(\"With the distributive property, our 3-layer is equivalent to a 1-layer net that implements the following function:\")\n",
    "print(\"\\ty = {:.3f}x + {:.3f}\".format(M, b))\n",
    "print(\"We verify this by plotting this function:\")\n",
    "\n",
    "# Verify that this is the same as the prediction by plotting it instead of the network predictions\n",
    "dense_x = torch.linspace(sine_x.min(), sine_x.max(), 1000).unsqueeze(1) # For dense prediction\n",
    "with torch.no_grad():\n",
    "    plt.plot(dense_x, M*dense_x+b)\n",
    "plt.plot(sine_x, sine_y, linewidth=0, marker='.', color='black')\n",
    "plt.title(\"Stacked Net: linear equivalent\")\n",
    "plt.show()"
   ]
  },
  {
   "cell_type": "markdown",
   "id": "46712856-5cb6-4460-98ab-819c74d7d41b",
   "metadata": {
    "id": "46712856-5cb6-4460-98ab-819c74d7d41b"
   },
   "source": [
    "Because there's no nonlinearity, the weight and bias tensors \"collapse\" together to effectively create a linear model. Even though our model actually has $64 + 64^2 + 64$ parameters, it is functionally equivalent to a model with 2 parameters. If we want to use deep neural networks, we need to prevent our parameter tensors from collapsing together, which we can do by adding nonlinearity."
   ]
  },
  {
   "cell_type": "markdown",
   "id": "b8df8108-8bd9-4ad7-887e-6dfa15577664",
   "metadata": {
    "id": "b8df8108-8bd9-4ad7-887e-6dfa15577664"
   },
   "source": [
    "#### Activation Functions\n",
    "We can add nonlinearity to our network by adding nonlinear activation functions between each linear layer. These functions prevent our weight matrices from collapsing together, allowing us to get more power out of deeper networks! There are a lot of choices for activation functions: we plot out a few common options below:"
   ]
  },
  {
   "cell_type": "code",
   "execution_count": null,
   "id": "3accab1a-ee87-4f75-97f5-5736efca24ee",
   "metadata": {
    "id": "3accab1a-ee87-4f75-97f5-5736efca24ee"
   },
   "outputs": [],
   "source": [
    "# Run this cell to see how different activation functions act on inputs.\n",
    "# Note that they are all element-wise functions.\n",
    "\n",
    "x = torch.linspace(-10, 10, 100)\n",
    "# PyTorch gives activation functions as `nn.Module` classes or as `nn.functional` functions. Because they don't have parameters, either one is valid.\n",
    "plt.plot(x, F.sigmoid(x))\n",
    "plt.xlabel('x')\n",
    "plt.ylabel('σ(x)')\n",
    "plt.title(\"Sigmoid\")\n",
    "plt.show()\n",
    "plt.plot(x, F.tanh(x))\n",
    "plt.xlabel('x')\n",
    "plt.ylabel('tanh(x)')\n",
    "plt.title(\"TanH\")\n",
    "plt.show()\n",
    "plt.plot(x, F.relu(x))\n",
    "plt.xlabel('x')\n",
    "plt.ylabel('max(x,0)')\n",
    "plt.title(\"ReLU\")\n",
    "plt.show()"
   ]
  },
  {
   "cell_type": "markdown",
   "id": "07d266e8-a5df-4cc3-84ae-510016188296",
   "metadata": {
    "id": "07d266e8-a5df-4cc3-84ae-510016188296"
   },
   "source": [
    "Ironically, the least nonlinear looking function: ReLU, is going to be our default choice for neural network activation functions.\n",
    "While it doesn't seem very nonlinear, when given large input tensors, it is nonlinear enough.\n",
    "ReLU doesn't saturate for x>0 (there's no horizontal assymptote) and its cheap to compute: `x[where x < 0] = 0; return x`."
   ]
  },
  {
   "cell_type": "markdown",
   "id": "0febee2c",
   "metadata": {
    "id": "0febee2c"
   },
   "source": [
    "Now implement a `DeepNetwork`, which is like our `StackedLinear` network, but with nonlinearities between its linear layers.\n",
    "You can use `F.relu()` to apply a nonlinear activation, where `F` is an alias for `torch.nn.functional`, which the functional version PyTorch's neural network library."
   ]
  },
  {
   "cell_type": "code",
   "execution_count": null,
   "id": "8c2a27bc-98dc-4f6a-9121-4e09ddfe23d8",
   "metadata": {
    "id": "8c2a27bc-98dc-4f6a-9121-4e09ddfe23d8"
   },
   "outputs": [],
   "source": [
    "class DeepNetwork(nn.Module): # true deep NN w/ activation functions\n",
    "    def __init__(self, input_feature_size, output_feature_size, hidden_size):\n",
    "        # TODO: create a 3 linear layers just like in StackedLinear. Don't forget 'super().__init__()'\n",
    "        pass\n",
    "\n",
    "    def forward(self, x):\n",
    "        # TODO: pass the input `x` through the network (including the activation functions) and return the network's prediction on the y value.\n",
    "        # DO NOT apply a relu before the first layer or after the last layer.\n",
    "        pass\n"
   ]
  },
  {
   "cell_type": "markdown",
   "id": "95052e83-4b61-4f77-bbea-190645997ad2",
   "metadata": {
    "id": "95052e83-4b61-4f77-bbea-190645997ad2"
   },
   "source": [
    "Now see how the activation functions help our `DeepNetwork` perform on the nonlinear problem. Initialize a `DeepNetwork` (with hidden size set to 64) and a `SGD` optimizer (learning rate of .01) and train your network for 1000 steps."
   ]
  },
  {
   "cell_type": "code",
   "execution_count": null,
   "id": "328a9e47-3a53-4d19-8661-ab01fd549683",
   "metadata": {
    "id": "328a9e47-3a53-4d19-8661-ab01fd549683"
   },
   "outputs": [],
   "source": [
    "# TODO: Set seed to 0\n",
    "\n",
    "# TODO: Initialize a DeepNetwork (set hidden_size to 64) called deep_net\n",
    "deep_net = None\n",
    "\n",
    "# TODO: Initialize an SGD optimizer with a learning rate of .01\n",
    "\n",
    "# TODO: train deep_net for 1000 steps and store training losses as `train_losses`\n",
    "train_losses = None\n",
    "\n",
    "plot_loss(train_losses, \"Deep Net Loss on Sine Dataset\")\n",
    "\n",
    "plot_data(sine_x, sine_y, deep_net, gt_func=torch.sin, title=\"Deep Net Predictions on Sine Dataset\")"
   ]
  },
  {
   "cell_type": "markdown",
   "id": "a13338ed-8b8e-4179-899c-91b56e8a2248",
   "metadata": {
    "id": "a13338ed-8b8e-4179-899c-91b56e8a2248"
   },
   "source": [
    "---\n",
    "# `nn.Sequential`\n",
    "\n",
    "As discussed, PyTorch has many useful classes in the `nn` library.\n",
    "\n",
    "1. `nn.Linear` has the same functionality as your `LinearLayer`.\n",
    "2. `nn.ReLU` is the `Module` version of `F.relu()`; it has no parameters, but it's forward function calls `F.relu()`.\n",
    "3. `nn.Sequential` is a `Module` that chains together the `.forward()` outputs of a sequence of `Module`s.\n",
    "For example, you can easily create a 2-layer neural network, with `net = nn.Sequential(nn.Linear(), nn.ReLU(), nn.Linear())` and instead of manually chaining the `.forward()` outputs of the 3 `Module`s, e.g. `linear(relu(linear(x)))`, the `nn.Sequential` object will automatically do it. `net(x)`.\n",
    "\n",
    "Recreate `deep_net` using only `nn.Sequential`, `nn.Linear`, and `nn.ReLU`.\n",
    "Train the new model using PyTorch's `torch.optim.SGD` optimizer."
   ]
  },
  {
   "cell_type": "code",
   "execution_count": null,
   "id": "bc9a5f24-df54-462f-a0e4-15c6f60e32f0",
   "metadata": {
    "id": "bc9a5f24-df54-462f-a0e4-15c6f60e32f0"
   },
   "outputs": [],
   "source": [
    "torch.manual_seed(0) # Sets random seed for all PyTorch operations\n",
    "\n",
    "deep_net = nn.Sequential(\n",
    "    # TODO: Recreate deep_net using only `nn.Sequential`, `nn.Linear`, and `nn.ReLU`\n",
    "    )\n",
    "\n",
    "# TODO: create a torch.optim.SGD optimizer for our new deep_net using a learning rate of .01\n",
    "\n",
    "# TODO: train deep_net for 1000 steps and store training losses as `train_losses`\n",
    "train_losses = None\n",
    "\n",
    "plot_loss(train_losses, \"Deep Net Loss on Sine Dataset: Custom Linear Layer\")\n",
    "\n",
    "plot_data(sine_x, sine_y, deep_net, gt_func=torch.sin, title=\"Deep Net Predictions on Sine Dataset: Custom Linear Layer\")"
   ]
  },
  {
   "cell_type": "code",
   "execution_count": null,
   "id": "bf31e156-e2c2-4cb2-bb95-8a62874278e1",
   "metadata": {
    "id": "bf31e156-e2c2-4cb2-bb95-8a62874278e1"
   },
   "outputs": [],
   "source": []
  }
 ],
 "metadata": {
  "colab": {
   "provenance": []
  },
  "kernelspec": {
   "display_name": "Python 3 (ipykernel)",
   "language": "python",
   "name": "python3"
  },
  "language_info": {
   "codemirror_mode": {
    "name": "ipython",
    "version": 3
   },
   "file_extension": ".py",
   "mimetype": "text/x-python",
   "name": "python",
   "nbconvert_exporter": "python",
   "pygments_lexer": "ipython3",
   "version": "3.10.13"
  }
 },
 "nbformat": 4,
 "nbformat_minor": 5
}
