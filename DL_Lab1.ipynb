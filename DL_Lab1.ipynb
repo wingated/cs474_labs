{
 "cells": [
  {
   "cell_type": "markdown",
   "metadata": {
    "colab_type": "text",
    "id": "view-in-github"
   },
   "source": [
    "<a href=\"https://colab.research.google.com/github/wingated/cs474_labs_f2019/blob/master/DL_Lab1.ipynb\" target=\"_parent\"><img src=\"https://colab.research.google.com/assets/colab-badge.svg\" alt=\"Open In Colab\"/></a>"
   ]
  },
  {
   "cell_type": "markdown",
   "metadata": {
    "colab_type": "text",
    "id": "bkj1_ftQtuBk"
   },
   "source": [
    "# Lab 1: Getting Started\n",
    "\n",
    "## Objective  \n",
    "Get started with Google Colab and Python. Begin producing simple visualizations of data and images.\n",
    "\n",
    "## Deliverable\n",
    "For this lab, you will submit a Colab notebook (.ipynb) via Learning Suite. This notebook consists of two parts.\n",
    "\n",
    "___\n",
    "\n",
    "### Grading\n",
    "Your notebook will be graded on the following:\n",
    "* 20% Successfully turning in a notebook with working code\n",
    "* 35% Random image with 50 random elements\n",
    "* 35% Image indicating TensorFlow success\n",
    "* 10% Tidy and legible figures, (for the future make sure to label axes where appropriate)\n",
    "\n",
    "___\n",
    "\n",
    "### Details\n",
    "Throughout this class, we will be using Google's Colaboratory environment to \n",
    "develop and test our deep neural networks. \n",
    "This consists of IPython notebooks and a standardized Python distribution. \n",
    "For this lab, you must create a Google account (or use one you already have), \n",
    "start up Colab, and write a simple Python program in it.\n",
    "\n",
    "You can do this lab and all other labs in this class on Jupyter on your own machine. This is not recommended, as the labs were written and updated for the Python distribution and packages currently used by Colab, and Colab provides a GPU that can be used to speed up deep learning. You won't lose points for not using Colab, but you may have to do extra troubleshooting.\n",
    "\n",
    "As described above, the notebook should do two things: \n",
    "1.    Generate simple random images\n",
    "2.    Display an image that you generate using the Tensorflow playground\n",
    "\n",
    "For part 1, you can generate any sort of random image that you want – \n",
    "consider random lines, random curves, random text, etc. \n",
    "Each time the program is run, it should generate a different random image. \n",
    "Your image should have at least 50 random elements \n",
    "(they can all be the same type, such as random lines, and can be created in a loop). \n",
    "We won't count the number of elements; this is just to encourage you to create \n",
    "random images with moderate complexity (ie, you can't just generate randomly colored pixels, \n",
    "as in the example below). Feel free to use any image-altering libraries, like OpenCV (cv2).\n",
    "\n",
    "For part 2, you should visit the [TensorFlow playground](https://playground.tensorflow.org/),\n",
    "and play with different settings. Most of it will be unfamiliar,\n",
    "but don't worry – you can't break it!\n",
    "\n",
    "Once you have a working classifier, take a screenshot. \n",
    "Then use your Colab notebook to display that image in-line.\n",
    "___\n",
    "\n",
    "#### Helpful Links\n",
    "\n",
    "[Google Colab](http://colab.research.google.com/) The site where you will probably be coding the labs\n",
    "\n",
    "[A Colab notebook teaching you how to use Colab notebooks](https://colab.research.google.com/drive/1TzaPS3jvRadN-URLbQ9nD1ZNoZktfNRy)\n",
    "\n",
    "[Various Colab tutorials](https://sites.google.com/site/artml2018/tutorials)\n",
    "\n",
    "___\n",
    "\n",
    "### Part 1\n",
    "\n",
    "Your notebook should generate a random image. We will run this notebook 5 times; it should generate 5 different, moderately complex images. Each image should be 512 x 288. Have fun with it!\n",
    "\n",
    "The resulting image could for example something like this:\n",
    "![](https://github.com/wingated/cs474_labs/blob/master/images/lab1.png?raw=true)\n",
    "\n",
    "**TODO:** // Here are the list of things to do for this part\n",
    "\n",
    "* Generate 512 x 288 images with 50 random elements\n",
    "\n",
    "**DONE:** // Put items from the TODO list here when you are done with them (double click on the cell, cut and paste the line). This is for your benefit as well as the TAs to help with grading.\n"
   ]
  },
  {
   "cell_type": "code",
   "execution_count": 1,
   "metadata": {
    "colab": {
     "base_uri": "https://localhost:8080/",
     "height": 305
    },
    "colab_type": "code",
    "id": "CsWiFi74EneB",
    "outputId": "3d9df797-ab6b-44d1-98a1-addafd0b0864",
    "pycharm": {
     "is_executing": false
    }
   },
   "outputs": [
    {
     "data": {
      "image/png": "[encoded data removed]",
      "text/plain": [
       "<PIL.Image.Image image mode=RGB size=512x288 at 0x7F20780E3DA0>"
      ]
     },
     "metadata": {},
     "output_type": "display_data"
    }
   ],
   "source": [
    "import IPython.display\n",
    "import PIL.Image\n",
    "import numpy as np\n",
    "import random\n",
    "import cv2\n",
    "\n",
    "# A simple function to display an image in an ipython notebook\n",
    "def nbimage(data):\n",
    "    IPython.display.display(PIL.Image.fromarray(data))\n",
    "\n",
    "# create an image consisting of random colors\n",
    "\n",
    "IMG_WIDTH = 288\n",
    "IMG_HEIGHT = 512\n",
    "\n",
    "data = np.zeros((IMG_WIDTH,IMG_HEIGHT,3), np.uint8) # a 512x512 image, with 3 color channels (R,G,B)\n",
    "\n",
    "# by default, rand creates floating point numbers between [0,1].  We need to convert that to 8-bit bytes between [0,255]\n",
    "data = (255*data).astype(np.uint8)\n",
    "\n",
    "\n",
    "# display it!\n",
    "nbimage(data)"
   ]
  },
  {
   "cell_type": "markdown",
   "metadata": {
    "colab_type": "text",
    "id": "fM3h46ZAucnV"
   },
   "source": [
    "\n",
    "___\n",
    "\n",
    "### Part 2\n",
    "\n",
    "You must play with the Tensorflow playground neural network, and figure out how to create a classifier that successfully classifies the “spiral” dataset. Take a screenshot containing the visualization of the dataset and your classifier, the network architecture, and the hyperparameters of the classifier that learned the spiral dataset.\n",
    "\n",
    "\n",
    "[TensorFlow playground](http://playground.tensorflow.org/)\n",
    "\n",
    "**TODO:**\n",
    "* Create a classifier that successfully classifies the \"spiral\" dataset\n",
    "* Display the image below\n",
    "\n",
    "**DONE:**\n"
   ]
  },
  {
   "cell_type": "markdown",
   "metadata": {},
   "source": [
    "You can display the screenshot with a URL in the cell below. If you host the image online, make sure it can be accessed by anyone with the link.\n",
    "You can also display through a code block that reads the image and displays it in the output of the cell. The currently shown output of code cells is saved in the .ipynb file, so the TAs will be able to see the results of your code when you turn in the .ipynb file."
   ]
  },
  {
   "cell_type": "markdown",
   "metadata": {
    "colab_type": "text",
    "id": "jBNhAh2hTMfi"
   },
   "source": [
    "![Image](Put the url to the image here)"
   ]
  }
 ],
 "metadata": {
  "colab": {
   "collapsed_sections": [],
   "include_colab_link": true,
   "name": "DL_Lab1.ipynb",
   "provenance": [],
   "version": "0.3.2"
  },
  "kernelspec": {
   "display_name": "Python 3",
   "language": "python",
   "name": "python3"
  },
  "language_info": {
   "codemirror_mode": {
    "name": "ipython",
    "version": 3
   },
   "file_extension": ".py",
   "mimetype": "text/x-python",
   "name": "python",
   "nbconvert_exporter": "python",
   "pygments_lexer": "ipython3",
   "version": "3.7.1"
  },
  "pycharm": {
   "stem_cell": {
    "cell_type": "raw",
    "metadata": {
     "collapsed": false
    },
    "source": []
   }
  }
 },
 "nbformat": 4,
 "nbformat_minor": 2
}
