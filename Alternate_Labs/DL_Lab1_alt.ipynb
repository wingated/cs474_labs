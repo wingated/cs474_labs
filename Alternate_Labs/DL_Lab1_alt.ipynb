{
 "cells": [
  {
   "cell_type": "markdown",
   "metadata": {
    "colab_type": "text",
    "id": "view-in-github"
   },
   "source": [
    "<a href=\"https://colab.research.google.com/github/wingated/cs474_labs_f2019/blob/master/Alternate_Labs/DL_Lab1_alt.ipynb\"><img src=\"https://colab.research.google.com/assets/colab-badge.svg\" alt=\"Open In Colab\"/></a>"
   ]
  },
  {
   "cell_type": "markdown",
   "metadata": {
    "colab_type": "text",
    "id": "bkj1_ftQtuBk"
   },
   "source": [
    "# Lab 1: Getting Started\n",
    "\n",
    "## Objective  \n",
    "Get started with Google Colab, Python, and PyTorch. See deep learning in action with TensorFlow playground.\n",
    "\n",
    "## Deliverable\n",
    "For this lab, you will submit a Colab notebook (.ipynb) via Learning Suite.\n",
    "\n",
    "___\n",
    "\n",
    "### Grading\n",
    "Your notebook will be graded on the following:\n",
    "* 50% Part 1: Completed the 10 PyTorch microtasks\n",
    "* 40% Part 2: Image indicating TensorFlow success\n",
    "* 10% Tidy and legible figures, (for the future make sure to label axes where appropriate)\n",
    "\n",
    "___\n",
    "\n",
    "### Overview of Google Colab\n",
    "Throughout this class, we recommend you use Google's Colaboratory (Colab) for the labs. If you aren't familiar with Colab or IPython notebooks, take some time to look at the tutorials linked below.\n",
    "\n",
    "Colab provides an environment that interacts with IPython notebooks (similar to Jupyter) and utilizes a standardized Python distribution.\n",
    "In addition, Colab provides a GPU we can use for deep learning. We will talk about the advantages of GPU vs CPU training in class.\n",
    "\n",
    "While you are allowed to do the labs on your own machine, using Jupyter or some other IPython notebook editor, the labs were written and updated for the current Python distribution used by Colab. You may need to do extra troubleshooting to get them working locally. Also, setting up your own GPU for deep learning may be difficult, and training on the CPU may be unbearably slow in later labs.\n",
    "\n",
    "### Lab Details\n",
    "\n",
    "This lab is intended to get you used to IPython notebooks, Colab, and a few basic deep learning principles.\n",
    "\n",
    "As described above, the notebook should do two things: \n",
    "1.    Complete all 10 microtasks\n",
    "2.    Display an image that you generate using the Tensorflow playground\n",
    "\n",
    "For part 1, you will be using the PyTorch documentation to learn how to complete simple tasks. Each task is solvable in one or two lines of code. Links are provided for each microtask to give you a guided introduction to PyTorch.\n",
    "\n",
    "For part 2, you should visit the [TensorFlow playground](http://playground.tensorflow.org/),\n",
    "and play with different settings. Most of it will be unfamiliar,\n",
    "but don't worry – you can't break it!\n",
    "Once you have a working classifier on the spiral dataset, take a screenshot. \n",
    "Then use your Colab notebook to display that image in-line.\n",
    "___\n",
    "\n",
    "#### Helpful Links\n",
    "\n",
    "[Google Colab](http://colab.research.google.com/) The site where you will probably be coding the labs\n",
    "\n",
    "[A Colab notebook teaching you how to use Colab notebooks](https://colab.research.google.com/drive/1TzaPS3jvRadN-URLbQ9nD1ZNoZktfNRy)\n",
    "\n",
    "[Various Colab tutorials](https://sites.google.com/site/artml2018/tutorials)\n",
    "\n",
    "___"
   ]
  },
  {
   "cell_type": "markdown",
   "metadata": {},
   "source": [
    "### Part 1\n",
    "\n",
    "This is a quick guided walkthrough of PyTorch tensors.\n",
    "\n",
    "PyTorch is a Python library based on the Torch machine learning framework. While other great deep learning alternatives exist, the labs we use in this course were written exclusively for PyTorch.\n",
    "\n",
    "#### Tensors\n",
    "\n",
    "The main PyTorch data structure is the tensor. A tensor in mathematics is a matrix or vector-like structure with more than 2 dimensions, though PyTorch tensors can have 0 or more dimensions. Tensors are implemented similarly to NumPy arrays, and most of what can be done with NumPy can be done with PyTorch tensors. Complete the microtasks in the cells below to learn basic PyTorch tensor manipulation. We provide links to the documentation for this lab, but you should feel comfortable searching the documentation yourself in later labs."
   ]
  },
  {
   "cell_type": "markdown",
   "metadata": {},
   "source": [
    "**TODO:** // Here are the list of things to do for this part\n",
    "\n",
    "* Complete the tensor microtasks\n",
    "\n",
    "**DONE:** // Put items from the TODO list here when you are done with them (double click on the cell, cut and paste the line). This is for your benefit as well as the TAs to help with grading.\n"
   ]
  },
  {
   "cell_type": "code",
   "execution_count": null,
   "metadata": {},
   "outputs": [],
   "source": [
    "# Import statements for microtasks: Run this cell before running the microtask cells!\n",
    "import torch\n",
    "import numpy as np"
   ]
  },
  {
   "cell_type": "markdown",
   "metadata": {},
   "source": [
    "##### Task 1\n",
    "Tensors are the the lifeblood of PyTorch.<br>\n",
    "Construct a 5x3 tensor, 'a', of zeros and of dtype long. <br>\n",
    "https://pytorch.org/docs/stable/generated/torch.zeros.html <br>\n",
    "(To create tensors of other values, see `torch.ones()` and `torch.full()`)"
   ]
  },
  {
   "cell_type": "code",
   "execution_count": null,
   "metadata": {
    "colab": {},
    "colab_type": "code",
    "id": "A9aHouhQ6cou"
   },
   "outputs": [],
   "source": [
    "# Your code here:\n",
    "\n",
    "#\n",
    "# Don't change the following prints and asserts\n",
    "print(a)\n",
    "print(a.size())\n",
    "assert a.size() == torch.Size([5, 3])\n",
    "assert type(a[0][0].item()) is int"
   ]
  },
  {
   "cell_type": "markdown",
   "metadata": {},
   "source": [
    "##### Task 2\n",
    "Many of your bugs will come from incorrect tensor dimensions. <br>\n",
    "PyTorch has several built-in functions to give you the control need. <br>\n",
    "Using only the tensor's [`.unsqueeze()`](https://pytorch.org/docs/stable/tensors.html#torch.Tensor.unsqueeze) function, turn 'a' into a 5x1x3 tensor. Hint: use the `dim=` argument"
   ]
  },
  {
   "cell_type": "code",
   "execution_count": null,
   "metadata": {
    "colab": {},
    "colab_type": "code",
    "id": "6rfOY4HqYDTP"
   },
   "outputs": [],
   "source": [
    "#\n",
    "\n",
    "#\n",
    "print(a.shape)\n",
    "assert a.shape == torch.Size([5, 1, 3])"
   ]
  },
  {
   "cell_type": "markdown",
   "metadata": {},
   "source": [
    "##### Task 3\n",
    "Each dimension means something different. <br>\n",
    "You can change the order of your dimensions without losing information. <br>\n",
    "Reshape 'a' into a 5x3x1 tensor, using the [`.view()`](https://pytorch.org/docs/stable/tensors.html#torch.Tensor.view) function"
   ]
  },
  {
   "cell_type": "code",
   "execution_count": null,
   "metadata": {
    "colab": {},
    "colab_type": "code",
    "id": "zY1SJ95Ekokk"
   },
   "outputs": [],
   "source": [
    "#\n",
    "\n",
    "#\n",
    "print(a.shape)\n",
    "assert a.shape == torch.Size([5, 3, 1])"
   ]
  },
  {
   "cell_type": "markdown",
   "metadata": {},
   "source": [
    "##### Task 4\n",
    "Dimensions of size 1 can sometimes be necessary for shape matching. <br>\n",
    "However, they can be removed without losing information. <br>\n",
    "[`squeeze()`](https://pytorch.org/docs/stable/tensors.html#torch.Tensor.squeeze) 'a' to remove dimensions of 1."
   ]
  },
  {
   "cell_type": "code",
   "execution_count": null,
   "metadata": {
    "colab": {},
    "colab_type": "code",
    "id": "_0Q_1vDtmaKW"
   },
   "outputs": [],
   "source": [
    "#\n",
    "\n",
    "#\n",
    "print(a.shape)\n",
    "assert a.size() == torch.Size([5, 3])"
   ]
  },
  {
   "cell_type": "markdown",
   "metadata": {},
   "source": [
    "##### Task 5\n",
    "You can turn any tensor into a tensor of a single dimension. <br>\n",
    "[`flatten()`](https://pytorch.org/docs/stable/tensors.html#torch.Tensor.flatten) 'a' to a single dimension."
   ]
  },
  {
   "cell_type": "code",
   "execution_count": null,
   "metadata": {
    "colab": {},
    "colab_type": "code",
    "id": "5miM1dYxnmSY"
   },
   "outputs": [],
   "source": [
    "#\n",
    "\n",
    "#\n",
    "print(a.size())\n",
    "assert  a.size() == torch.Size([15]) "
   ]
  },
  {
   "cell_type": "markdown",
   "metadata": {},
   "source": [
    "##### Task 6\n",
    "It's easy to integrate other common Python data structures. <br>\n",
    "Initialize a tensor, 'b', from a list. <br>\n",
    "Note that the constructor `torch.Tensor()` creates a tensor of a default dtype (float), while the function [`torch.tensor()`](https://pytorch.org/docs/stable/generated/torch.tensor.html#torch.tensor) either uses a specified dtype or determines the type from the data passed in."
   ]
  },
  {
   "cell_type": "code",
   "execution_count": null,
   "metadata": {
    "colab": {},
    "colab_type": "code",
    "id": "oxX1Ybcc7gDW"
   },
   "outputs": [],
   "source": [
    "my_list = [1,2,3,4,5]\n",
    "#\n",
    "\n",
    "#\n",
    "print(b)\n",
    "assert b.size() == torch.Size([5])"
   ]
  },
  {
   "cell_type": "markdown",
   "metadata": {},
   "source": [
    "##### Task 7\n",
    "GPUs will allow tensor operations to run much faster. <br>\n",
    "Assign 'a' and 'b' to run on GPU. <br>\n",
    "https://pytorch.org/docs/stable/tensors.html#torch.Tensor.cuda\n",
    "\n",
    "Note that this will not work if you don't have a cuda-enabled GPU available. You can connect to a machine with a GPU in Colab if you go to Runtime -> Change Runtime Type and set hardware accelerator to GPU, then click save."
   ]
  },
  {
   "cell_type": "code",
   "execution_count": null,
   "metadata": {
    "colab": {},
    "colab_type": "code",
    "id": "4XpqRqfG9DTr"
   },
   "outputs": [],
   "source": [
    "#\n",
    "\n",
    "#\n",
    "print(a, b)\n",
    "assert a.is_cuda and b.is_cuda"
   ]
  },
  {
   "cell_type": "markdown",
   "metadata": {},
   "source": [
    "##### Task 8\n",
    "You cannot perform operations on tensors that are on different devices (GPU and CPU), and a tensor on the GPU cannot be converted to a NumPy array or visualized with Matplotlib. <br>\n",
    "Assign 'a' and 'b' to run on CPU. <br>\n",
    "https://pytorch.org/docs/stable/tensors.html#torch.Tensor.cpu"
   ]
  },
  {
   "cell_type": "code",
   "execution_count": null,
   "metadata": {
    "colab": {},
    "colab_type": "code",
    "id": "FPD6NUDf7915"
   },
   "outputs": [],
   "source": [
    "#\n",
    "\n",
    "#\n",
    "print(a, b)\n",
    "assert not a.is_cuda and not b.is_cuda"
   ]
  },
  {
   "cell_type": "markdown",
   "metadata": {},
   "source": [
    "##### Task 9\n",
    "You will often want to convert tensors to NumPy arrays to interact with other Python libraries. <br>\n",
    "Convert 'a' to a NumPy array 'c'. <br>\n",
    "https://pytorch.org/docs/stable/tensors.html#torch.Tensor.numpy"
   ]
  },
  {
   "cell_type": "code",
   "execution_count": null,
   "metadata": {
    "colab": {},
    "colab_type": "code",
    "id": "1GMvFc2c9P_i"
   },
   "outputs": [],
   "source": [
    "#\n",
    "\n",
    "#\n",
    "print(type(c))\n",
    "assert type(c) == np.ndarray"
   ]
  },
  {
   "cell_type": "markdown",
   "metadata": {},
   "source": [
    "##### Task 10\n",
    "You may often want to convert your NumPy data back into PyTorch. <br>\n",
    "Convert NumPy array 'c' to tensor 'd'. <br>\n",
    "https://pytorch.org/docs/stable/generated/torch.from_numpy.html"
   ]
  },
  {
   "cell_type": "code",
   "execution_count": null,
   "metadata": {
    "colab": {},
    "colab_type": "code",
    "id": "EVFr_ZNgBMHL"
   },
   "outputs": [],
   "source": [
    "#\n",
    "\n",
    "#\n",
    "print(d.type())\n",
    "assert torch.is_tensor(d)"
   ]
  },
  {
   "cell_type": "markdown",
   "metadata": {
    "colab_type": "text",
    "id": "fM3h46ZAucnV"
   },
   "source": [
    "\n",
    "___\n",
    "\n",
    "### Part 2\n",
    "\n",
    "You must play with the Tensorflow playground neural network, and figure out how to create a classifier that successfully classifies the “spiral” dataset. Take a screenshot containing the visualization of the dataset and your classifier, the network architecture, and the hyperparameters of the classifier that learned the spiral dataset.\n",
    "\n",
    "\n",
    "[TensorFlow playground](http://playground.tensorflow.org/)\n",
    "\n",
    "**TODO:**\n",
    "* Create a classifier that successfully classifies the \"spiral\" dataset\n",
    "* Display the image below\n",
    "\n",
    "**DONE:**\n"
   ]
  },
  {
   "cell_type": "code",
   "execution_count": null,
   "metadata": {},
   "outputs": [],
   "source": [
    "# Run this cell to upload and display your screenshot.\n",
    "# The results of code cells are saved along with the file, so if you can see the image below, we'll see it too.\n",
    "\n",
    "import io\n",
    "from PIL import Image\n",
    "from google.colab import files\n",
    "import matplotlib.pyplot as plt\n",
    "\n",
    "file_dict = files.upload()\n",
    "print(file_dict)\n",
    "image_path = io.BytesIO(file_dict[next(iter(file_dict))])\n",
    "image = Image.open(image_path)\n",
    "plt.imshow(image, aspect='auto')\n",
    "plt.axis('off')\n",
    "plt.show()"
   ]
  }
 ],
 "metadata": {
  "colab": {
   "collapsed_sections": [],
   "include_colab_link": true,
   "name": "DL_Lab1.ipynb",
   "provenance": [],
   "version": "0.3.2"
  },
  "kernelspec": {
   "display_name": "Python 3",
   "language": "python",
   "name": "python3"
  },
  "language_info": {
   "codemirror_mode": {
    "name": "ipython",
    "version": 3
   },
   "file_extension": ".py",
   "mimetype": "text/x-python",
   "name": "python",
   "nbconvert_exporter": "python",
   "pygments_lexer": "ipython3",
   "version": "3.7.1"
  },
  "pycharm": {
   "stem_cell": {
    "cell_type": "raw",
    "metadata": {
     "collapsed": false
    },
    "source": []
   }
  }
 },
 "nbformat": 4,
 "nbformat_minor": 2
}
