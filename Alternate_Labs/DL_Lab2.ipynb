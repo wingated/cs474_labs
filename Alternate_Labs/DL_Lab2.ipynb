{
 "cells": [
  {
   "cell_type": "markdown",
   "metadata": {
    "colab_type": "text",
    "id": "ep2DPT3H32s9"
   },
   "source": [
    "<a href=\"https://colab.research.google.com/github/wingated/cs474_labs_f2019/blob/master/DL_Lab2.ipynb\" target=\"_parent\"><img src=\"https://colab.research.google.com/assets/colab-badge.svg\" alt=\"Open In Colab\"/></a>"
   ]
  },
  {
   "cell_type": "markdown",
   "metadata": {
    "colab_type": "text",
    "id": "view-in-github"
   },
   "source": [
    "# Lab 2: Intro to PyTorch\n",
    "\n",
    "## Deliverable\n",
    "\n",
    "For this lab, you will submit an IPython notebook via Learning Suite.\n",
    "This lab will be mostly boilerplate code, but you will be required to implement a few extras.\n",
    "\n",
    "**NOTE: you almost certainly will not understand most of what's going on in this lab!\n",
    "That's ok - the point is just to get you going with PyTorch.\n",
    "We'll be working on developing a deeper understanding of every part of this code\n",
    "over the course of the next two weeks.**\n",
    "\n",
    "A major goal of this lab is to help you become conversant in working through PyTorch\n",
    "tutorials and documentation.\n",
    "You should turn to the documentation first, but you may google whatever you need, as there are many great PyTorch tutorials online.\n",
    "\n",
    "This notebook will have four parts:\n",
    "\n",
    "* Part 1: Your notebook should contain the boilerplate code. See below.\n",
    "\n",
    "* Part 2: Your notebook should contain a testing loop.\n",
    "\n",
    "* Part 3: Your notebook should contain a visualization of test/training performance over time.\n",
    "\n",
    "The resulting image could, for example, look like this:\n",
    "![](http://liftothers.org/dokuwiki/lib/exe/fetch.php?cache=&w=900&h=608&tok=3092fe&media=cs501r_f2018:lab2.png)\n",
    "\n",
    "* Part 4: Your notebook should contain the completed microtasks and pass all the asserts.\n",
    "\n",
    "See the assigned readings for pointers to documentation on PyTorch.\n",
    "___\n",
    "\n",
    "### Grading standards:\n",
    "Your notebook will be graded on the following:\n",
    "\n",
    "* 40% Successfully followed lab video and typed in code\n",
    "* 20% Modified code to include a test/train split\n",
    "* 20% Modified code to include a visualization of train/test losses\n",
    "* 10% Tidy and legible figures, including labeled axes where appropriate\n",
    "* 10% Correct solutions to the microtasks\n",
    "___\n",
    "\n",
    "### Description\n",
    "Throughout this class, we will be using PyTorch to implement our deep neural networks. \n",
    "PyTorch is a deep learning framework that handles the low-level details of \n",
    "GPU integration and automatic differentiation.\n",
    "\n",
    "The goal of this lab is to help you become familiar with PyTorch. \n",
    "The four parts of the lab are outlined above.\n",
    "\n",
    "For part 1, you should watch the video below, and type in the code as it is explained to you.\n",
    "\n",
    "A more detailed outline of Part 1 is below.\n",
    "\n",
    "For part 2, you must add a validation (or testing) loop using the \n",
    "FashionMNIST dataset with train=False\n",
    "\n",
    "For part 3, you must plot the loss values.\n",
    "\n",
    "For part 4, you must complete the microtasks and pass all asserts.\n",
    "\n",
    "Optional: Demonstrate overfitting on the training data.\n",
    "\n",
    "The easiest way to do this is to limit the size of your training dataset \n",
    "so that it only returns a single batch (i.e. len(dataloader) == batch_size, \n",
    "and train for multiple epochs. For example,\n",
    "I set my batch size to 42, and augmented my dataloader to produce only 42 \n",
    "unique items by overwriting the len function to return 42. \n",
    "In my training loop, I performed a validation every epoch which basically corresponded \n",
    "to a validation every step.\n",
    "\n",
    "In practice, you will normally compute your validation loss every n steps, \n",
    "rather than at the end of every epoch. This is because some epochs can take hours, \n",
    "or even days and you don’t often want to wait that long to see your results.\n",
    "\n",
    "Testing your algorithm by using a single batch and training until overfitting \n",
    "is a great way of making sure that your model and optimizer are working the way they should!\n",
    "\n",
    "___\n",
    "\n",
    "### Part 0\n",
    "Watch Tutorial Video\n",
    "\n",
    "[https://youtu.be/E76hLX9WCLE](https://youtu.be/E76hLX9WCLE)\n",
    "\n",
    "**TODO:**\n",
    "* Watch video\n",
    "\n",
    "**DONE:**\n",
    "\n",
    "___\n",
    "\n",
    "### Part 1\n",
    "Your notebook should contain the boilerplate code. See below.\n",
    "\n",
    "**TODO:**\n",
    "\n",
    "* Replicate boilerplate from the video\n",
    "\n",
    "**DONE:**\n",
    "\n",
    "___\n",
    "\n",
    "### Part 2\n",
    "Your notebook should contain a testing (validation) loop.\n",
    "\n",
    "**TODO:**\n",
    "\n",
    "* Add a testing (validation) loop\n",
    "\n",
    "**DONE:**"
   ]
  },
  {
   "cell_type": "code",
   "execution_count": null,
   "metadata": {
    "colab": {},
    "colab_type": "code",
    "id": "QClXc9i7VRyA",
    "pycharm": {
     "is_executing": false
    }
   },
   "outputs": [],
   "source": [
    "!pip3 install torch \n",
    "!pip3 install torchvision\n",
    "!pip3 install tqdm"
   ]
  },
  {
   "cell_type": "code",
   "execution_count": null,
   "metadata": {
    "colab": {},
    "colab_type": "code",
    "id": "OU80yuvqVXwk",
    "pycharm": {
     "is_executing": false
    }
   },
   "outputs": [],
   "source": [
    "import torch\n",
    "import torch.nn as nn\n",
    "import torch.nn.functional as F\n",
    "import torch.optim as optim\n",
    "from torch.utils.data import Dataset, DataLoader\n",
    "import numpy as np\n",
    "import matplotlib.pyplot as plt\n",
    "from torchvision import transforms, utils, datasets\n",
    "from tqdm import tqdm\n",
    " \n",
    "assert torch.cuda.is_available() # You need to request a GPU from Runtime > Change Runtime Type\n",
    "\n",
    "# Write the boilerplate code from the video here\n",
    "\n",
    "# Create a dataset class that extends the torch.utils.data Dataset class here\n",
    "\n",
    "# Extend the torch.Module class to create your own neural network\n",
    "\n",
    "# Instantiate the train and validation sets\n",
    "\n",
    "# Instantiate your data loaders\n",
    "\n",
    "# Instantiate your model and loss and optimizer functions\n",
    "\n",
    "# Run your training / validation loops\n"
   ]
  },
  {
   "cell_type": "markdown",
   "metadata": {
    "colab_type": "text",
    "id": "_IZmHOvirnFn"
   },
   "source": [
    "\n",
    "___\n",
    "\n",
    "### Part 3\n",
    "Your notebook should contain a visualization of test/training\n",
    "performance over time. Use matplotlib.pyplot, and label the graph's axes.\n",
    "\n",
    "**TODO:**\n",
    "* Add a visualization of test/train performance (i.e. loss) over time.\n",
    "\n",
    "**DONE:**\n"
   ]
  },
  {
   "cell_type": "code",
   "execution_count": null,
   "metadata": {
    "colab": {},
    "colab_type": "code",
    "id": "YqYrbI5-WHb3",
    "pycharm": {
     "is_executing": false
    }
   },
   "outputs": [],
   "source": [
    "# Write your code to create a plot of your loss over time"
   ]
  },
  {
   "cell_type": "markdown",
   "metadata": {
    "colab_type": "text",
    "id": "0wW4QNYG4LE2"
   },
   "source": [
    "\n",
    "___\n",
    "\n",
    "### Part 4\n",
    "Complete the following microtasks to learn some important PyTorch skills.\n",
    "\n",
    "If you do not know how to complete one of the microtasks, use [PyTorch's documentation](https://pytorch.org/docs/stable/index.html)! PyTorch is very well documented, and you will need to learn how to use the documentation, especially in later labs.\n",
    "\n",
    "**TODO:**\n",
    "* Complete microtasks\n",
    "\n",
    "**DONE:**"
   ]
  },
  {
   "cell_type": "markdown",
   "metadata": {},
   "source": [
    "### Computation Graph Microtasks"
   ]
  },
  {
   "cell_type": "code",
   "execution_count": null,
   "metadata": {},
   "outputs": [],
   "source": [
    "# To understand how PyTorch organizes the computation graph, let's walk through \n",
    "# a quick example!\n",
    "\n",
    "# 1. First, construct a tensor 'a' that contains 10 random floats. \n",
    "# This will simulate the output layer of a network. Hint: use `torch.rand`.\n",
    "\n",
    "print(a)\n",
    "assert a.size() == torch.Size([10])"
   ]
  },
  {
   "cell_type": "code",
   "execution_count": null,
   "metadata": {},
   "outputs": [],
   "source": [
    "# 2. Now turn 'a' into an `nn.Parameter` so that it be attached to the computation\n",
    "# graph.\n",
    "\n",
    "print(a)\n",
    "assert type(a) == nn.Parameter\n",
    "\n",
    "# Notice that our original tensor 'a' is nested inside of a Parameter object.\n",
    "# The Parameter object knows that it will need to compute gradients at some point.\n",
    "\n",
    "# No need to do anything here, but this assert should pass.\n",
    "assert a.requires_grad == True"
   ]
  },
  {
   "cell_type": "code",
   "execution_count": null,
   "metadata": {},
   "outputs": [],
   "source": [
    "# 3. Let's run 'a' through a loss function. The output of the loss function is\n",
    "# just another tensor, but this tensor remembers what operations produced it.\n",
    "loss_fn = nn.CrossEntropyLoss()\n",
    "loss = loss_fn(a.unsqueeze(0), torch.Tensor([7]).long())\n",
    "print(loss)\n",
    "\n",
    "# Now, instruct the network to do a backward pass, by calling '.backward()' on the \n",
    "# result of the loss function. We should now be able to see the gradients that \n",
    "# were computed for 'a' w.r.t. the loss.\n",
    "\n",
    "assert a.grad is not None\n",
    "print(a.grad)"
   ]
  },
  {
   "cell_type": "code",
   "execution_count": null,
   "metadata": {},
   "outputs": [],
   "source": [
    "# 4. If we were to use 'a' in another operation, this might affect the computation graph.\n",
    "# To make sure that you are not adversly affecting the computation graph, call\n",
    "# `.detach()` on 'a' and assign the result to a new variable 'b'.\n",
    "\n",
    "print(a)\n",
    "print(b)\n",
    "assert a.requires_grad == True\n",
    "assert b.requires_grad == False"
   ]
  }
 ],
 "metadata": {
  "accelerator": "GPU",
  "colab": {
   "collapsed_sections": [],
   "name": "DL_Lab2.ipynb",
   "provenance": []
  },
  "kernelspec": {
   "display_name": "Python 3",
   "language": "python",
   "name": "python3"
  },
  "language_info": {
   "codemirror_mode": {
    "name": "ipython",
    "version": 3
   },
   "file_extension": ".py",
   "mimetype": "text/x-python",
   "name": "python",
   "nbconvert_exporter": "python",
   "pygments_lexer": "ipython3",
   "version": "3.7.1"
  },
  "pycharm": {
   "stem_cell": {
    "cell_type": "raw",
    "metadata": {
     "collapsed": false
    },
    "source": []
   }
  }
 },
 "nbformat": 4,
 "nbformat_minor": 2
}
