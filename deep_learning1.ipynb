{
 "cells": [
  {
   "cell_type": "markdown",
   "metadata": {
    "id": "FYabkPq6Osas"
   },
   "source": [
    "# Deep Learning Part 1: PyTorch, Autodifferentiation, and Optimization\n",
    "\n",
    "---\n",
    "\n",
    "While these labs can be completed on your own computer using Jupyter, we suggest using Google Colab. Colab provides a standardized virtual environment and allows you to request a GPU, which will let you perform deep learning much faster. If you choose to do these labs on your own computer, you may have to do extra work in getting your CUDA-compatible GPU working and getting the right versions of the packages for the labs.\n",
    "\n",
    "We won't use GPUs for this lab, but it will be vital to speed up training in some of the future labs."
   ]
  },
  {
   "cell_type": "markdown",
   "metadata": {
    "id": "F7yAMqLfOquC"
   },
   "source": [
    "# Preface: Jupyter Notebooks"
   ]
  },
  {
   "cell_type": "markdown",
   "metadata": {
    "id": "0a6MTkmnOquF"
   },
   "source": [
    "All of your labs will utilize jupyter notebooks, which are useful tools, but they have one big side effect: hidden states. Jupyter notebooks store the state of an executed cell, which can spell problems if you are not careful. To see what we mean execute cell 1 and cell 2."
   ]
  },
  {
   "cell_type": "code",
   "execution_count": null,
   "metadata": {
    "id": "jmumQeH9OquF"
   },
   "outputs": [],
   "source": [
    "# cell 1\n",
    "x = 0"
   ]
  },
  {
   "cell_type": "code",
   "execution_count": null,
   "metadata": {
    "id": "psSQuB-TOquG"
   },
   "outputs": [],
   "source": [
    "# cell 2\n",
    "x += 1"
   ]
  },
  {
   "cell_type": "markdown",
   "metadata": {
    "id": "m7FvNaj-OquH"
   },
   "source": [
    "Now print `x` below and validate that it equals 1."
   ]
  },
  {
   "cell_type": "code",
   "execution_count": null,
   "metadata": {
    "id": "PV64iTjhOquH"
   },
   "outputs": [],
   "source": [
    "x"
   ]
  },
  {
   "cell_type": "markdown",
   "metadata": {
    "id": "WxyZtWTeOquI"
   },
   "source": [
    "Now execute cell 2 again and print `x` below"
   ]
  },
  {
   "cell_type": "code",
   "execution_count": null,
   "metadata": {
    "id": "G8Wpn0YEOquI"
   },
   "outputs": [],
   "source": [
    "x"
   ]
  },
  {
   "cell_type": "markdown",
   "metadata": {
    "id": "OlXeevt7OquJ"
   },
   "source": [
    "This time `x` equals 2, which makes sense because we incremented it twice, but if an outsider looked at this code sequentially it would seem weird that x prints out 1 and 2. Since the state is hidden, an outsider can't assume code cells are run in sequential order, or that the cells weren't edited after being run.\n",
    "\n",
    "Jupyter notebooks are great for development: letting you quickly iterate on a program without executing everything sequentially, but at some point you may run into an issue with hidden state.\n",
    "\n",
    "There are two ways to reset the hidden state in this example. The quickest would be to execute cell 1 again which would reset `x` back to 0. Then if you execute cell 2 and print `x` twice with the two statements below, they should both output 1.\n",
    "\n",
    "To fully reset the state, just restart your Jupyter notebook runtime/session. This erases all data in RAM, but keeps anything stored on disk (installs, datasets, etc.). When you disconnect from the session in Colab, it deletes everything except for what is saved in your notebook file: code, text, and outputs."
   ]
  },
  {
   "cell_type": "markdown",
   "metadata": {
    "id": "hiquMGSKOquL"
   },
   "source": [
    "---\n",
    "\n",
    "# What is PyTorch and Automatic Differentiation"
   ]
  },
  {
   "cell_type": "code",
   "execution_count": null,
   "metadata": {
    "id": "YedNwhuoOquL"
   },
   "outputs": [],
   "source": [
    "import torch"
   ]
  },
  {
   "cell_type": "markdown",
   "metadata": {
    "id": "4Mwd_l3-OquM"
   },
   "source": [
    "## Part 1: Tensors and Array Operations"
   ]
  },
  {
   "cell_type": "markdown",
   "metadata": {
    "id": "PHvGT9ceOquM"
   },
   "source": [
    "Some of you may already be familiar with NumPy or vector math and so this should be a simple and brief overview.\n",
    "\n",
    "PyTorch tries to be as close to NumPy as possible."
   ]
  },
  {
   "cell_type": "markdown",
   "metadata": {
    "id": "xdxCQ0gYOquN"
   },
   "source": [
    "### Tensor creation, shapes, and data types\n",
    "\n",
    "Tensors are n-dimensional containers: 0D tensors are scalars, 1D tensors are vectors, and 2D tensors are matrices. We'll often work with tensors with more than 2 dimensions.\n",
    "\n",
    "Let start by creating a simple tensor.\n",
    "Pass in the array `[1, 2]` into the `torch.tensor()` function and store the tensor as variable `v`."
   ]
  },
  {
   "cell_type": "code",
   "execution_count": null,
   "metadata": {
    "id": "hD19cj9tOquN"
   },
   "outputs": [],
   "source": [
    "v = torch.tensor([1, 2])"
   ]
  },
  {
   "cell_type": "markdown",
   "metadata": {
    "id": "iKZqsb2yOquN"
   },
   "source": [
    "Let us look at shape and data type of `v`.\n",
    "You can view the shape of `v` with `v.shape` or calling `v.size()` and you can look at the data type of `v` with `v.dtype`.\n",
    "\n",
    "Print the shape and data type of `v` below."
   ]
  },
  {
   "cell_type": "code",
   "execution_count": null,
   "metadata": {
    "id": "FILMXnbmOquO"
   },
   "outputs": [],
   "source": []
  },
  {
   "cell_type": "markdown",
   "metadata": {
    "id": "2-ZYtRxPOquO"
   },
   "source": [
    "We see that that the shape of `v.shape = torch.Size([2])` and its dtype is `torch.int64`.\n",
    "\n",
    "Initialize a new tensor `w` with the following array `[[1.0], [2.0]]` and print out its shape and dtype."
   ]
  },
  {
   "cell_type": "code",
   "execution_count": null,
   "metadata": {
    "id": "8CEuvIr9OquO"
   },
   "outputs": [],
   "source": []
  },
  {
   "cell_type": "markdown",
   "metadata": {
    "id": "Ij9Ek7qhOquO"
   },
   "source": [
    "This time our tensor has a shape of `torch.Size([2, 1])` and its dtype is `torch.float32`."
   ]
  },
  {
   "cell_type": "markdown",
   "metadata": {
    "id": "iZ41g6YqOquO"
   },
   "source": [
    "Let's now change `v` to look like `w`.\n",
    "First we will try to make `v` share the same shape as `w`. `v` has 1 dimension and `w` has 2.\n",
    "Both `v` and `w` have a value of 2 in dimension 0 (using 0-based indexing) and `w` has a value of 1 in dimension 1.\n",
    "\n",
    "To add a dimension to `v` we can call the `v.unsqueeze()` function.\n",
    "It takes in a dimension argument (`dim`) specifying where we want to add the dimension.\n",
    "Because `v` is missing its dimension 1, specify `1` as the `dim` argument.\n",
    "\n",
    "*Note: `.unsqueeze()` returns a reshaped tensor and doesn't modify `v`.*\n",
    "\n",
    "Do not modify `v` and assign the unsqueezed tensor to the `answer` variable."
   ]
  },
  {
   "cell_type": "code",
   "execution_count": null,
   "metadata": {
    "id": "cfzdW8DoOquO"
   },
   "outputs": [],
   "source": [
    "answer = None # replace None with your solution\n",
    "\n",
    "assert answer.shape == w.shape == torch.Size([2, 1])\n",
    "assert v.shape == torch.Size([2])"
   ]
  },
  {
   "cell_type": "markdown",
   "metadata": {
    "id": "Jb8Xg05hOquP"
   },
   "source": [
    "Now let's change the `v`'s data type. This easiest method is to call is the `.float()` function.\n",
    "\n",
    "*Note: Like `.unsqueeze()`, `.float()` returns a new tensor with the specified dtype and doesn't modify `v`*.\n",
    "Do not modify v and assign the float tensor to the `answer` variable."
   ]
  },
  {
   "cell_type": "code",
   "execution_count": null,
   "metadata": {
    "id": "9B4G9NJ_OquP"
   },
   "outputs": [],
   "source": [
    "answer = None # replace None with your solution\n",
    "\n",
    "assert answer.dtype == w.dtype == torch.float32\n",
    "assert v.dtype == torch.int64"
   ]
  },
  {
   "cell_type": "markdown",
   "metadata": {
    "id": "S1FoaU2NOquP"
   },
   "source": [
    "Now let's change `w` to look like `v`, but this time let's do it in one line.\n",
    "\n",
    "First we should change `w`'s dimensions so it matches `v`.\n",
    "To remove a dimension we can call the `.squeeze()` function and specify the dimension we want to remove.\n",
    "This will only remove the dimension if it has **value of 1**, if you squeeze a dimension with a value >1, then nothing changes.\n",
    "If you do not specify a dimension, all dimensions with a value of 1 are removed.\n",
    "**It is good coding practice to specify the dimension.**\n",
    "\n",
    "To make `w` share the same dtype as `v` we can use the `.long()` (because a long is a 64-bit integer).\n",
    "\n",
    "Now convert `w` to have the same shape and dtype as `v`, in 1 line of code. Remember `.squeeze()` and `.long()` returns tensors so you can chain the functions."
   ]
  },
  {
   "cell_type": "code",
   "execution_count": null,
   "metadata": {
    "id": "4fylIEn8OquQ"
   },
   "outputs": [],
   "source": [
    "answer = None # replace None with your solution\n",
    "\n",
    "assert answer.shape == v.shape == torch.Size([2])\n",
    "assert answer.dtype == v.dtype == torch.int64"
   ]
  },
  {
   "cell_type": "markdown",
   "metadata": {
    "id": "3nseyumWOquQ"
   },
   "source": [
    "While there are many other dtypes, `torch.float32` and `torch.int64` are the main ones you will encounter."
   ]
  },
  {
   "cell_type": "markdown",
   "metadata": {
    "id": "bXyNW0IhOquQ"
   },
   "source": [
    "There are a few other helpful tensor creation functions."
   ]
  },
  {
   "cell_type": "code",
   "execution_count": null,
   "metadata": {
    "id": "wugxs7bcOquQ"
   },
   "outputs": [],
   "source": [
    "torch.zeros(size=(3, 3)) # returns a 3x3 tensor filled with 0's\n",
    "torch.ones(2) # returns a tensor with shape (2,) filled with 1's\n",
    "torch.full((3, 1), fill_value=-1) # returns a tensor with shape (3,1) filled with -1's\n",
    "torch.rand(size=(2, 2)) # returns a 2x2 tensor filled with (uniform) random floats between 0 and 1\n",
    "torch.randn(size=(2, 2)) # returns a 2x2 tensors filled with random floats drawn from a standard normal distribution\n",
    "\n",
    "torch.zeros_like(v) # returns a tensor with the same shape and dtype as v, but filled with 0's.\n",
    "# You could similarly call ones_like(), full_like(), rand_like()"
   ]
  },
  {
   "cell_type": "markdown",
   "metadata": {
    "id": "fd4FzZLaOquR"
   },
   "source": [
    "You can also easily create a tensor with a sequence of integers with the `torch.arange()` function. Just like Python's `range()` function you can specify where the sequence should start, end, and the sequence step size."
   ]
  },
  {
   "cell_type": "code",
   "execution_count": null,
   "metadata": {
    "id": "iLiKqVObOquS"
   },
   "outputs": [],
   "source": [
    "torch.arange(6) # returns a tensor with shape (6,) containing a sequence from 0 to 6 (exclusive), i.e. [0, 1, 2, 3, 4, 5]\n",
    "torch.arange(1, 7) # returns a tensor with shape (6,) containing a sequence from 1 to 7 (exclusive), i.e. [1, 2, 3, 4, 5, 6]\n",
    "torch.arange(1, 7, 2) # returns a tensor with shape (6,) containing sequence [1, 3, 5]"
   ]
  },
  {
   "cell_type": "markdown",
   "metadata": {
    "id": "Q7dgX7SlOquS"
   },
   "source": [
    "### Changing shapes"
   ]
  },
  {
   "cell_type": "markdown",
   "metadata": {
    "id": "pKGdsuSaOquT"
   },
   "source": [
    "We have explained how you can add or remove dimensions to a tensor with `.unsqueeze()` and `.squeeze()`.\n",
    "But what if we want reshape a tensor?\n",
    "\n",
    "Using the `torch.arange()` function, create a tensor, named `x`, containing a sequence from 0 to 12 (exclusive)"
   ]
  },
  {
   "cell_type": "code",
   "execution_count": null,
   "metadata": {
    "id": "vrGpHdRjOquT"
   },
   "outputs": [],
   "source": [
    "x = None # replace None with your solution\n",
    "\n",
    "assert x.equal(torch.tensor([0, 1, 2, 3, 4, 5, 6, 7, 8, 9, 10, 11]))"
   ]
  },
  {
   "cell_type": "markdown",
   "metadata": {
    "id": "9GKaLp7yOquT"
   },
   "source": [
    "Let's say we want to change our tensor sequence (vector) into a matrix such that: $$\\begin{bmatrix} 0 & 1 & 2 & 3 & 4 & 5 & 6 & 7 & 8 & 9 & 10 & 11 \\end{bmatrix} \\rightarrow \\begin{bmatrix} 0 & 1 & 2 & 3 \\\\ 4 & 5 & 6 & 7 \\\\ 8 & 9 & 10 & 11 \\end{bmatrix}$$\n",
    "\n",
    "This matrix has 3 rows and 4 columns, i.e. shape=(3,4), so we can call the `.view()` function and specify the shape we want to view sequence of data.\n",
    "**Note: `.view()` returns a tensor*. Do **not** overwrite `x`, just print out `x.view(3, 4)` and validate that we get the desired matrix."
   ]
  },
  {
   "cell_type": "code",
   "execution_count": null,
   "metadata": {
    "id": "QSATVKvKOquT"
   },
   "outputs": [],
   "source": []
  },
  {
   "cell_type": "markdown",
   "metadata": {
    "id": "qqZuUqtYOquT"
   },
   "source": [
    "Now change the shape of `x` so that: $\\begin{bmatrix} 0 & 1 & 2 & 3 & 4 & 5 & 6 & 7& 8 & 9 & 10 & 11 \\end{bmatrix} \\rightarrow \\begin{bmatrix} 0 & 1 & 2 \\\\ 3 & 4 & 5 \\\\ 6 & 7 & 8 \\\\ 9 & 10 & 11 \\end{bmatrix}$"
   ]
  },
  {
   "cell_type": "code",
   "execution_count": null,
   "metadata": {
    "id": "XkVpIIXzOquT"
   },
   "outputs": [],
   "source": []
  },
  {
   "cell_type": "markdown",
   "metadata": {
    "id": "8-x4Pg6wOquT"
   },
   "source": [
    "Now change the shape so that we that 2 matrices that are 3 by 2: $$\\begin{bmatrix} 0 & 1 & 2 & 3 & 4 & 5 & 6 & 7 & 8 & 9 & 10 & 11 \\end{bmatrix} \\rightarrow \\begin{bmatrix} \\begin{bmatrix} 0 & 1 \\\\ 2 & 3 \\\\ 4 & 5 \\end{bmatrix} \\\\ \\begin{bmatrix} 6 & 7 \\\\ 8 & 9 \\\\ 10 & 11 \\end{bmatrix} \\end{bmatrix}$$\n"
   ]
  },
  {
   "cell_type": "code",
   "execution_count": null,
   "metadata": {
    "id": "BGi3-BWgOquT"
   },
   "outputs": [],
   "source": []
  },
  {
   "cell_type": "markdown",
   "metadata": {
    "id": "q00IyV1pOquT"
   },
   "source": [
    "Notice that the memory in all three cases is contiguous, meaning we can count the numbers from left to right and top to bottom, but what if we wanted our tensor to look like:\n",
    "$$\\begin{bmatrix} 0 & 1 & 2 & 3 & 4 & 5 & 6 & 7 & 8 & 9 & 10 & 11 \\end{bmatrix} \\rightarrow \\begin{bmatrix} 0 & 4 & 8 \\\\ 1 & 5 & 9 \\\\ 2 & 6 & 10 \\\\ 3 & 7 & 11 \\end{bmatrix}$$\n",
    "We can make use of the `.transpose()` function by first making our data sequence into a 3x4 matrix and then calling `.transpose()`:\n",
    "$$\\begin{aligned}\n",
    "\\begin{bmatrix} 0 & 1 & 2 & 3 & 4 & 5 & 6 & 7 & 8 & 9 & 10 & 11 \\end{bmatrix} \\rightarrow \\begin{bmatrix} 0 & 1 & 2 & 3 \\\\ 4 & 5 & 6 & 7 \\\\ 8 & 9 & 10 & 11 \\end{bmatrix} \\\\\n",
    "\\begin{bmatrix} 0 & 1 & 2 & 3 \\\\ 4 & 5 & 6 & 7 \\\\ 8 & 9 & 10 & 11 \\end{bmatrix}^\\textrm{T} \\rightarrow \\begin{bmatrix} 0 & 4 & 8 \\\\ 1 & 5 & 9 \\\\ 2 & 6 & 10 \\\\ 3 & 7 & 11 \\end{bmatrix}\n",
    "\\end{aligned}$$\n",
    "The `.transpose()` function takes in two arguments, the two dimensions you want to transpose, this is easy in our case since there are only two dimensions (because we only have two dimension you could also use `.T`, which is an alias for `.transpose()` in two dimensions).\n",
    "\n",
    "Use `.view()` and `.transpose()` and validate your new tensor is correct."
   ]
  },
  {
   "cell_type": "code",
   "execution_count": null,
   "metadata": {
    "id": "-geOJlK7OquU"
   },
   "outputs": [],
   "source": []
  },
  {
   "cell_type": "markdown",
   "metadata": {
    "id": "PkvWYceIOquU"
   },
   "source": [
    "What if we wanted to flatten the above tensor so that:\n",
    "$$\\begin{bmatrix} 0 & 4 & 8 \\\\ 1 & 5 & 9 \\\\ 2 & 6 & 10 \\\\ 3 & 7 & 11 \\end{bmatrix} \\rightarrow \\begin{bmatrix} 0 & 4 & 8 & 1 & 5 & 9 & 2 & 6 & 10 & 3 & 7 & 11 \\end{bmatrix}$$\n",
    "\n",
    "Use the same `.view()` and `.transpose()` functions you used above, but this time tack on `.view(12)` to flatten the matrix."
   ]
  },
  {
   "cell_type": "code",
   "execution_count": null,
   "metadata": {
    "id": "ZJHNg9abOquU"
   },
   "outputs": [],
   "source": []
  },
  {
   "cell_type": "markdown",
   "metadata": {
    "id": "pqtd-Kq0OquU"
   },
   "source": [
    "You should have run into `RuntimeError: view size is not compatible with input tensor's size and stride ...`.\n",
    "This error was thrown because the transpose messed with the contiguity of our data and `.view()` ensures that our data remains contiguous.\n",
    "If however, we want to enforce our change, we can call `.reshape()`.\n",
    "Go ahead and rerun the same line of code above, but this time replace `.view(12)` with `.reshape(12)`."
   ]
  },
  {
   "cell_type": "code",
   "execution_count": null,
   "metadata": {
    "id": "HKbhfWluOquU"
   },
   "outputs": [],
   "source": []
  },
  {
   "cell_type": "markdown",
   "metadata": {
    "id": "5D5KFr-NOquU"
   },
   "source": [
    "`.view()` is faster than `.reshape()`, so you use `.reshape()` only when needed."
   ]
  },
  {
   "cell_type": "markdown",
   "metadata": {
    "id": "YXEamNTXOquV"
   },
   "source": [
    "### Broadcasting and Array Operations"
   ]
  },
  {
   "cell_type": "code",
   "execution_count": null,
   "metadata": {
    "id": "TxuBiA4HOquV"
   },
   "outputs": [],
   "source": [
    "s = torch.tensor(1)\n",
    "v1 = torch.tensor([1])\n",
    "v2 = torch.tensor([1, 2])\n",
    "v3 = torch.tensor([1, 2, 3])\n",
    "A = torch.tensor([[1, 2],\n",
    "                  [3, 4]])\n",
    "B = torch.tensor([[1, 2, 3],\n",
    "                  [4, 5, 6]])"
   ]
  },
  {
   "cell_type": "markdown",
   "metadata": {
    "id": "wNZjR5CoOquV"
   },
   "source": [
    "Print out the shape of `s`"
   ]
  },
  {
   "cell_type": "code",
   "execution_count": null,
   "metadata": {
    "id": "Q06EhiAgOquV"
   },
   "outputs": [],
   "source": [
    "s.shape"
   ]
  },
  {
   "cell_type": "markdown",
   "metadata": {
    "id": "XABSu6xtOquV"
   },
   "source": [
    "The shape of `s` is `torch.Size([])` because it has no dimensions and is therefore a scalar and so in some cases it will operate different from `v1` which is a vector of size 1."
   ]
  },
  {
   "cell_type": "markdown",
   "metadata": {
    "id": "lYysRt9yOquW"
   },
   "source": [
    "### Broadcasting\n",
    "\n",
    "Broadcasting is how array libraries, such as PyTorch and NumPy, perform arithmetic operations on two arrays with different shapes.\n",
    "\n",
    "There are two main rules to remember:\n",
    "1. If one array has fewer dimensions than another, then we **prepend** (e.g. `unsqueeze(0)`) dimensions to the smaller array until both arrays have the same number of dimensions.\n",
    "    ```python\n",
    "    x.shape == (5, 4, 2)\n",
    "    y.shape == (2, )\n",
    "    # After Step 1\n",
    "    x.shape == (5, 4, 2)\n",
    "    y.shape == (1, 1, 2)\n",
    "    ```\n",
    "2. After Step 1, both arrays must have the same value at each dimension must or one of them must have a value of one. Whenever a dimension of 1 is matched to a dimension >1, it duplicates its data to match the size of the other.\n",
    "    ```python\n",
    "    # Example will Fail\n",
    "    x.shape == (1, 4, 2, 9)\n",
    "    y.shape == (1, 1, 5, 9)\n",
    "    Matches:   (T, T, F, T)\n",
    "\n",
    "    # Example will Pass\n",
    "    x.shape == (1, 4, 2, 9)\n",
    "    y.shape == (2, 4, 1, 9)\n",
    "    Matches:   (T, T, T, T)\n",
    "    ```\n",
    "\n",
    "You do not need to implement these rules, they are done automatically, but you need to know them when you are performing operations on two arrays."
   ]
  },
  {
   "cell_type": "markdown",
   "metadata": {
    "id": "4YbP1Ja9OquX"
   },
   "source": [
    "Example 1: Adding `A + s`\n",
    "\n",
    "Because `A.shape == (2, 2)` and `s.shape == ()` then Step 1 prepends 1 to `s` twice so that it has a shape of (1, 1). Then the value of `s` gets copied on the dimensions where it has a value of 1.\n",
    "\n",
    "<!-- $\\begin{aligned}\n",
    "A + s &= \\begin{bmatrix} 1 & 2 \\\\ 3 & 4 \\end{bmatrix} + 1 \\\\  \n",
    "\\textrm{After Step 1} \\\\\n",
    "    &= \\begin{bmatrix} 1 & 2 \\\\ 3 & 4 \\end{bmatrix} + \\begin{bmatrix} \\begin{bmatrix} 1 \\end{bmatrix} \\end{bmatrix} \\\\\n",
    "\\textrm{After Step 2} \\\\\n",
    "    &= \\begin{bmatrix} 1 & 2 \\\\ 3 & 4 \\end{bmatrix} + \\begin{bmatrix} 1 & 1 \\\\ 1 & 1 \\end{bmatrix} = \\begin{bmatrix} 2 & 3 \\\\ 4 & 5 \\end{bmatrix}\n",
    "\\end{aligned}$ -->\n",
    "\n",
    "$\\begin{aligned}\n",
    "A + s &= \\begin{array}{cc} [[1 & 2]\\; \\\\ \\;[3 & 4]] \\end{array} + 1 \\\\  \n",
    "\\textrm{After Step 1} \\\\\n",
    "    &= \\begin{array}{cc} [[1 & 2]\\; \\\\ \\;[3 & 4]] \\end{array} + \\begin{array}{c} [[1]] \\end{array} \\\\  \n",
    "\\textrm{After Step 2} \\\\\n",
    "    &= \\begin{array}{cc} [[1 & 2]\\; \\\\ \\;[3 & 4]] \\end{array} + \\begin{array}{c} [[1 & 1]\\; \\\\ \\;[1 & 1]] \\end{array} = \\begin{array}{cc} [[2 & 3]\\; \\\\ \\;[4 & 5]] \\end{array} \\\\  \n",
    "\\end{aligned}$\n",
    "\n",
    "Add `A + s` below and validate you get the correct answer."
   ]
  },
  {
   "cell_type": "code",
   "execution_count": null,
   "metadata": {
    "id": "LL1of2EzOquX"
   },
   "outputs": [],
   "source": []
  },
  {
   "cell_type": "markdown",
   "metadata": {
    "id": "OMzL9MG-OquX"
   },
   "source": [
    "*Note, you can get the same result if you add by a float/integer, i.e. `A + 1`. PyTorch works well with floats and integers.*"
   ]
  },
  {
   "cell_type": "markdown",
   "metadata": {
    "id": "3_ezGsdeOquX"
   },
   "source": [
    "Example 2: Adding `B + v3`.\n",
    "\n",
    "Because `B.shape == (2, 3)` and `v3.shape == (3,)` then Step 1 prepends 1 to `v3` once so that it has a shape of (1, 3). Then the value of `v3` gets copied on the dimensions where it has a value of 1.\n",
    "\n",
    "$\\begin{aligned}\n",
    "B + v_3 &= \\begin{array}{ccc} [[1 & 2 & 3]\\; \\\\ \\;[4 & 5 & 6]] \\end{array} + \\begin{array}{ccc} [1 & 2 & 3] \\end{array} \\\\  \n",
    "\\textrm{After Step 1} \\\\\n",
    "    &= \\begin{array}{ccc} [[1 & 2 & 3]\\; \\\\ \\;[4 & 5 & 6]] \\end{array} + \\begin{array}{ccc} [[1 & 2 & 3]] \\end{array} \\\\  \n",
    "\\textrm{After Step 2} \\\\\n",
    "    &= \\begin{array}{ccc} [[1 & 2 & 3]\\; \\\\ \\;[4 & 5 & 6]] \\end{array} + \\begin{array}{ccc} [[1 & 2 & 3]\\; \\\\ \\;[1 & 2 & 3]] \\end{array} = \\begin{array}{ccc} [[2 & 4 & 6]\\; \\\\ \\;[5 & 7 & 9]] \\end{array} \\\\  \n",
    "\\end{aligned}$\n",
    "\n",
    "Add `B + v3` below and validate you get the correct answer."
   ]
  },
  {
   "cell_type": "code",
   "execution_count": null,
   "metadata": {
    "id": "rgcK8zzkOquY"
   },
   "outputs": [],
   "source": []
  },
  {
   "cell_type": "markdown",
   "metadata": {
    "id": "NCyeULhuOquY"
   },
   "source": [
    "Example 3: Adding `B + v2`\n",
    "\n",
    "We want to happen is for:\n",
    "\n",
    "$\\begin{aligned}\n",
    "B + v_2 &= \\begin{array}{ccc} [[1 & 2 & 3]\\; \\\\ \\;[4 & 5 & 6]] \\end{array} + \\begin{array}{cc} [1 & 2] \\end{array} \\\\  \n",
    "\\textrm{After Step 1} \\\\\n",
    "    &= \\begin{array}{ccc} [[1 & 2 & 3]\\; \\\\ \\;[4 & 5 & 6]] \\end{array} + \\begin{array}{c} [[1]\\; \\\\ \\;[2]] \\end{array} \\\\  \n",
    "\\textrm{After Step 2} \\\\\n",
    "    &= \\begin{array}{ccc} [[1 & 2 & 3]\\; \\\\ \\;[4 & 5 & 6]] \\end{array} + \\begin{array}{c} [[1 & 1 & 1]\\; \\\\ \\;[2 & 2 & 2]] \\end{array} = \\begin{array}{ccc} [[2 & 3 & 4]\\; \\\\ \\;[6 & 7 & 8]] \\end{array}\n",
    "\\end{aligned}$\n",
    "\n",
    "Try by first running `B + v2`"
   ]
  },
  {
   "cell_type": "code",
   "execution_count": null,
   "metadata": {
    "id": "XPDrm-lYOquY"
   },
   "outputs": [],
   "source": []
  },
  {
   "cell_type": "markdown",
   "metadata": {
    "id": "iabDzcLwOquY"
   },
   "source": [
    "This does not work.\n",
    "You should have run into the following error `RuntimeError: The size of tensor a (3) must match the size of tensor b (2) at non-singleton dimension 1.`\n",
    "\n",
    "Let's quickly parse this statement. `The size of tensor a`, i.e. `B`, `must match the size of tensor b`, i.e. `v2`, `at dimension 1`.\n",
    "`B.shape == (2, 3)` and `v2.shape == (2,)` and after Step 1 `v2.shape == (1, 2)`.\n",
    "Therefore, the value at `B`'s 1st dimension is `(3)` and the value at `v2`'s 1st dimension is `(2)`. Hence the error.\n",
    "\n",
    "We need to use an `.unsqueeze()` to fix the dimensions of `v2`. Fix the dimensions of `v2` below and validate you get the correct answer: $\\begin{array}{ccc} [[2 & 3 & 4]\\; \\\\ \\;[6 & 7 & 8]] \\end{array}$.\n"
   ]
  },
  {
   "cell_type": "code",
   "execution_count": null,
   "metadata": {
    "id": "jn4VahMbOquY"
   },
   "outputs": [],
   "source": []
  },
  {
   "cell_type": "markdown",
   "metadata": {
    "id": "PQT7kSaWOquZ"
   },
   "source": [
    "### Multiplication Notation\n",
    "$A \\times x$ versus $Ax$\n",
    "\n",
    "When we use the notation $A \\times x$ we mean we are performing elementwise multiplication, and in Python it looks like `A * x`, but if we use notation $Ax$ we mean that we are performing matrix multiplication and in Python it looks like `A @ x`."
   ]
  },
  {
   "cell_type": "markdown",
   "metadata": {
    "id": "2_wRvZXaOquZ"
   },
   "source": [
    "### Broadcasting Quiz"
   ]
  },
  {
   "cell_type": "code",
   "execution_count": null,
   "metadata": {
    "id": "6AiBkGtkOquZ"
   },
   "outputs": [],
   "source": [
    "a = torch.arange(2)\n",
    "b = torch.arange(4)"
   ]
  },
  {
   "cell_type": "markdown",
   "metadata": {
    "id": "y1gvO9idOquZ"
   },
   "source": [
    "Add `a` and `b` such that: $$\\begin{bmatrix} 0 \\\\ 1 \\end{bmatrix} + \\begin{bmatrix} 0 & 1 & 2 & 3 \\end{bmatrix} = \\begin{bmatrix}  0 & 1 & 2 & 3 \\\\ 1 & 2 & 3 & 4 \\end{bmatrix}$$"
   ]
  },
  {
   "cell_type": "code",
   "execution_count": null,
   "metadata": {
    "id": "J-MZDqB3Oqua"
   },
   "outputs": [],
   "source": [
    "answer = None # replace None with your solution\n",
    "\n",
    "assert torch.equal(answer, torch.tensor([[0, 1 , 2, 3], [1, 2, 3, 4]]))"
   ]
  },
  {
   "cell_type": "markdown",
   "metadata": {
    "id": "s9h9VXLLOqua"
   },
   "source": [
    "Change `b` into a 2x2 matrix (use `.view()`) multiply with `a` along `b`'s column dimension. $$\\begin{bmatrix} 0 & 1 \\\\ 2 & 3 \\end{bmatrix} * \\begin{bmatrix} 0 & 1 \\end{bmatrix} = \\begin{bmatrix} 0 & 1 \\\\ 0 & 3 \\end{bmatrix}$$"
   ]
  },
  {
   "cell_type": "code",
   "execution_count": null,
   "metadata": {
    "id": "S5UwpLA7Oqua"
   },
   "outputs": [],
   "source": [
    "answer  = None # replace None with your solution\n",
    "\n",
    "assert torch.equal(answer, torch.tensor([[0, 1], [0, 3]]))"
   ]
  },
  {
   "cell_type": "markdown",
   "metadata": {
    "id": "Um_34FbKOqua"
   },
   "source": [
    "Change `b` into a 2x2 matrix (use `.view()`) multiply with `a` along `b`'s row dimension. $$\\begin{bmatrix} 0 & 1 \\\\ 2 & 3 \\end{bmatrix} * \\begin{bmatrix} 0 \\\\ 1 \\end{bmatrix} = \\begin{bmatrix} 0 & 0 \\\\ 2 & 3 \\end{bmatrix}$$"
   ]
  },
  {
   "cell_type": "code",
   "execution_count": null,
   "metadata": {
    "id": "jr99bcDnOqua"
   },
   "outputs": [],
   "source": [
    "answer = None # replace None with your solution\n",
    "\n",
    "assert torch.equal(answer, torch.tensor([[0, 0], [2, 3]]))"
   ]
  },
  {
   "cell_type": "markdown",
   "metadata": {
    "id": "9rQjWhvBOqua"
   },
   "source": [
    "Change `b` into a 2x2 matrix and matrix multiply `a` such that:  $$\\begin{bmatrix} 0 & 1 \\\\ 2 & 3 \\end{bmatrix} \\begin{bmatrix} 0 \\\\ 1 \\end{bmatrix} = \\begin{bmatrix} 1 \\\\ 3 \\end{bmatrix}$$"
   ]
  },
  {
   "cell_type": "code",
   "execution_count": null,
   "metadata": {
    "id": "rfapMwiYOqua"
   },
   "outputs": [],
   "source": [
    "answer = None # replace None with your solution\n",
    "\n",
    "assert torch.equal(answer, torch.tensor([[1], [3]]))"
   ]
  },
  {
   "cell_type": "code",
   "execution_count": null,
   "metadata": {
    "id": "id5lWBlAOqua"
   },
   "outputs": [],
   "source": [
    "c = torch.zeros((1, 2))\n",
    "d = torch.zeros(3)"
   ]
  },
  {
   "cell_type": "markdown",
   "metadata": {
    "id": "pvzBZBBmOqua"
   },
   "source": [
    "Add `c` and `d` such that the resulting shape is (1, 3, 2)."
   ]
  },
  {
   "cell_type": "code",
   "execution_count": null,
   "metadata": {
    "id": "YsaJmHhuOqua"
   },
   "outputs": [],
   "source": [
    "answer = None # replace None with your solution\n",
    "\n",
    "assert answer.shape == torch.Size([1, 3, 2])"
   ]
  },
  {
   "cell_type": "markdown",
   "metadata": {
    "id": "nLYejjkzOqub"
   },
   "source": [
    "---\n",
    "\n",
    "# Automatic Differentiation"
   ]
  },
  {
   "cell_type": "markdown",
   "metadata": {
    "id": "2OflsKQLOqub"
   },
   "source": [
    "PyTorch is a machine learning library that provides us with the ability to automatically differentiate (autodiff) functions. In this section we will explore how we can make use of PyTorch's autodiff functions.\n",
    "\n",
    "To help us understand a little more about how PyTorch performs autodiff, we are going to import the `make_dot()` function below"
   ]
  },
  {
   "cell_type": "code",
   "execution_count": null,
   "metadata": {
    "id": "mtZIZnxhOquc"
   },
   "outputs": [],
   "source": [
    "!pip install torchviz # `!` signifies a bash operation rather than Python\n",
    "from torchviz import make_dot"
   ]
  },
  {
   "cell_type": "markdown",
   "metadata": {
    "id": "hjbjg9omOquc"
   },
   "source": [
    "Let's make scalar tensor `x = torch.tensor(2)` to see how PyTorch works."
   ]
  },
  {
   "cell_type": "code",
   "execution_count": null,
   "metadata": {
    "id": "CeWaetIbOquc"
   },
   "outputs": [],
   "source": [
    "x = torch.tensor(2)"
   ]
  },
  {
   "cell_type": "markdown",
   "metadata": {
    "id": "m9SHyEUtOquc"
   },
   "source": [
    "We have already talked about two important properties that a tensor has: `.shape` and `.dtype`.\n",
    "There are three more properties of a tensor we need to introduce: `.requires_grad`, `.grad`, and `.data`.\n",
    "Let's first look at whether `x` is using autograd by printing out `x.requires_grad` below."
   ]
  },
  {
   "cell_type": "code",
   "execution_count": null,
   "metadata": {
    "id": "ANbn1k5QOqud"
   },
   "outputs": [],
   "source": []
  },
  {
   "cell_type": "markdown",
   "metadata": {
    "id": "bFMR8WZlOqud"
   },
   "source": [
    "By default tensors have `x.requires_grad` set to `False`, which means we will never calculate `x`'s gradients. Let's change that by setting `x.requires_grad` to `True`."
   ]
  },
  {
   "cell_type": "code",
   "execution_count": null,
   "metadata": {
    "id": "bx2jeA_LOqud"
   },
   "outputs": [],
   "source": [
    "x.requires_grad = True"
   ]
  },
  {
   "cell_type": "markdown",
   "metadata": {
    "id": "L4_TNPhZOqud"
   },
   "source": [
    "You should run into `RuntimeError: only Tensors of floating point and complex dtype can require gradients.`\n",
    "We need to make `x` into a `torch.float32` tensor.\n",
    "Go ahead and call the `.float()` function (remember to update `x` with the output of `.float()`) and then set `x.requires_grad` to `True`."
   ]
  },
  {
   "cell_type": "code",
   "execution_count": null,
   "metadata": {
    "id": "8XMMaB_iOqud"
   },
   "outputs": [],
   "source": [
    "# convert x to float and set requires_grad to True\n",
    "\n",
    "assert x.requires_grad == True"
   ]
  },
  {
   "cell_type": "markdown",
   "metadata": {
    "id": "N_29hn0FOque"
   },
   "source": [
    "Now print out `x.grad`"
   ]
  },
  {
   "cell_type": "code",
   "execution_count": null,
   "metadata": {
    "id": "wUxuvcPhOque"
   },
   "outputs": [],
   "source": []
  },
  {
   "cell_type": "markdown",
   "metadata": {
    "id": "ADJg2DyoOque"
   },
   "source": [
    "`x` has no gradients right now because we haven't computed any derivatives.\n",
    "Let's fix that, create a simple function $y = 3x$, i.e. `y = 3*x`, and print out the value of `y`."
   ]
  },
  {
   "cell_type": "code",
   "execution_count": null,
   "metadata": {
    "id": "m3V5-IcpOque"
   },
   "outputs": [],
   "source": []
  },
  {
   "cell_type": "markdown",
   "metadata": {
    "id": "V9Q6au3dOque"
   },
   "source": [
    "Because $x = 2$ the output of $y = 3(2) = 6$.\n",
    "More than that though, there is a `grad_fn=<MulBackward0>` attached to our tensor.\n",
    "This gradient function is part of a computation graph, which is the history of operations that were necessary to compute `y`.\n",
    "PyTorch utilizes this computation graph to know how to compute the gradients of all tensors involved in making `y`."
   ]
  },
  {
   "cell_type": "markdown",
   "metadata": {
    "id": "k15Zqf4BOque"
   },
   "source": [
    "To visualize this computation graph, let's use the `make_dot()` function."
   ]
  },
  {
   "cell_type": "code",
   "execution_count": null,
   "metadata": {
    "id": "8WXaj5jsOquf"
   },
   "outputs": [],
   "source": [
    "make_dot(y, params={\"x\": x, \"y\": y})"
   ]
  },
  {
   "cell_type": "markdown",
   "metadata": {
    "id": "FyHEL0puOquf"
   },
   "source": [
    "Our computation graph starts with `x` fed into `AccumulatedGrad` (which we will discuss later), that is fed into `MulBackward0` which was the `grad_fn` attached to tensor `y`.\n",
    "`x` and `y` both have `()` underneath them specifying the shape of the tensors."
   ]
  },
  {
   "cell_type": "markdown",
   "metadata": {
    "id": "62mxG-xqOquf"
   },
   "source": [
    "Let's calculate the derivative of our function by calling `y.backward()`"
   ]
  },
  {
   "cell_type": "code",
   "execution_count": null,
   "metadata": {
    "id": "-nZKw9j-Oquf"
   },
   "outputs": [],
   "source": []
  },
  {
   "cell_type": "markdown",
   "metadata": {
    "id": "dYusyP1OOqug"
   },
   "source": [
    "We know that the derivative of our function $\\frac{dy}{dx} = \\frac{d}{dx} 3x = 3$. Print out `x.grad` to validate that PyTorch is working correctly."
   ]
  },
  {
   "cell_type": "code",
   "execution_count": null,
   "metadata": {
    "id": "6m5JUIvtOquh"
   },
   "outputs": [],
   "source": []
  },
  {
   "cell_type": "markdown",
   "metadata": {
    "id": "t_vModmQOquh"
   },
   "source": [
    "What happens if we call `y.backward()` again?"
   ]
  },
  {
   "cell_type": "code",
   "execution_count": null,
   "metadata": {
    "id": "d5GqqRi8Oqui"
   },
   "outputs": [],
   "source": [
    "# call y.backward() again\n",
    "y.backward()"
   ]
  },
  {
   "cell_type": "markdown",
   "metadata": {
    "id": "8aZIebkoOqui"
   },
   "source": [
    "You should run into a `RuntimeError: Trying to backward through the graph a second time ...` because PyTorch frees up certain resources required to compute gradients once `.backward()` is called.\n",
    "You can call `y.backward()` multiple times if you always specify `y.backward(retain_graph=True)`, but you should never do that in this class.\n",
    "If you run into this error hereafter, you most likely made a mistake."
   ]
  },
  {
   "cell_type": "markdown",
   "metadata": {
    "id": "MfPtCAKDOquj"
   },
   "source": [
    "Let's compute the derivative of $y = 3x$ again.\n",
    "This time compute `y = 3*x` first and then call `y.backward()`"
   ]
  },
  {
   "cell_type": "code",
   "execution_count": null,
   "metadata": {
    "id": "5VJoC2atOquj"
   },
   "outputs": [],
   "source": []
  },
  {
   "cell_type": "markdown",
   "metadata": {
    "id": "GuIZWe0LOquj"
   },
   "source": [
    "Now print out `x.grad`"
   ]
  },
  {
   "cell_type": "code",
   "execution_count": null,
   "metadata": {
    "id": "AaLApCvAOquj"
   },
   "outputs": [],
   "source": []
  },
  {
   "cell_type": "markdown",
   "metadata": {
    "id": "f4mMJAs_Oquk"
   },
   "source": [
    "**6?** Wasn't the derivative of $3x$ equal to 3? This occurred because PyTorch accumulates the gradients every time you call `.backward()`. Because `x.grad` was previously 3 and this new gradient is 3, then `x.grad` is now equal to 6.\n",
    "This is what `AccumulatedGrad` meant on the computation graph.\n",
    "To avoid your gradients from accumulating set `x.grad = None` (we call this zeroing out the gradients)."
   ]
  },
  {
   "cell_type": "code",
   "execution_count": null,
   "metadata": {
    "id": "cjq_hMW_Oquk"
   },
   "outputs": [],
   "source": []
  },
  {
   "cell_type": "markdown",
   "metadata": {
    "id": "x4v-1jmUOquk"
   },
   "source": [
    "Now set `y = 3*x`, call `y.backward()`, and print out `x.grad` and validate that it equals 3."
   ]
  },
  {
   "cell_type": "code",
   "execution_count": null,
   "metadata": {
    "id": "jArU10_COquk"
   },
   "outputs": [],
   "source": []
  },
  {
   "cell_type": "markdown",
   "metadata": {
    "id": "Z2ZsLY0VOqul"
   },
   "source": [
    "What about $x^2$? Set $y = x^2$, i.e. `y = x**2` and print out `y`."
   ]
  },
  {
   "cell_type": "code",
   "execution_count": null,
   "metadata": {
    "id": "mFnct0ITOqul"
   },
   "outputs": [],
   "source": []
  },
  {
   "cell_type": "markdown",
   "metadata": {
    "id": "VQgyQnz0Oqul"
   },
   "source": [
    "Because `x = 2` the output of $y = (2)^2 = 4$ and as before we have a `grad_fn=<PowBackward0>` attached to our tensor.\n",
    "\n",
    "Now let's visualize the computation graph."
   ]
  },
  {
   "cell_type": "code",
   "execution_count": null,
   "metadata": {
    "id": "vfjybVclOqul"
   },
   "outputs": [],
   "source": [
    "make_dot(y, params={\"y\": y, \"x\": x}, show_attrs=True)"
   ]
  },
  {
   "cell_type": "markdown",
   "metadata": {
    "id": "VFyy3fWiOqum"
   },
   "source": [
    "We specified `show_attrs=True` this time and we see in `PowBackward0` the exponent that was used stored in the computation graph.\n",
    "\n",
    "Let's calculate the derivative of of our function by calling `y.backward()` and don't forget to zero out your gradient first, i.e. `x.grad = None`."
   ]
  },
  {
   "cell_type": "code",
   "execution_count": null,
   "metadata": {
    "id": "pCbQA0v7Oqum"
   },
   "outputs": [],
   "source": []
  },
  {
   "cell_type": "markdown",
   "metadata": {
    "id": "HdllcOLFOqum"
   },
   "source": [
    "We know that the derivative of our function $\\frac{dy}{dx} = \\frac{d}{dx} x^2 = 2x = 2(2) = 4$, print out `x.grad` to validate."
   ]
  },
  {
   "cell_type": "code",
   "execution_count": null,
   "metadata": {
    "id": "ssbw-m_yOqum"
   },
   "outputs": [],
   "source": []
  },
  {
   "cell_type": "markdown",
   "metadata": {
    "id": "fMpRkApcOqum"
   },
   "source": [
    "Now let's calculate a multivariable derivative $a^2 (x+1)^2$.\n",
    "\n",
    "Create a scalar tensor `a` with a value of 2 and a scalar tensor `x` with a value of 3.\n",
    "Make sure both have `.requires_grad` set to `True`."
   ]
  },
  {
   "cell_type": "code",
   "execution_count": null,
   "metadata": {
    "id": "BQeX6yDxOqum"
   },
   "outputs": [],
   "source": []
  },
  {
   "cell_type": "markdown",
   "metadata": {
    "id": "LHt24ZOUOqun"
   },
   "source": [
    "Now set $y = a^2(x+1)^2$ and print out `y`. Validate that $y = a^2(x+1)^2 = (2)^2 * ((3) + 1)^2 = 4 * 4^2 = 64$."
   ]
  },
  {
   "cell_type": "code",
   "execution_count": null,
   "metadata": {
    "id": "TpiYuTO6Oqun"
   },
   "outputs": [],
   "source": []
  },
  {
   "cell_type": "markdown",
   "metadata": {
    "id": "fTXm2v0AOqun"
   },
   "source": [
    "Now let's look at the computation graph."
   ]
  },
  {
   "cell_type": "code",
   "execution_count": null,
   "metadata": {
    "id": "7s_5hXbDOqun"
   },
   "outputs": [],
   "source": [
    "make_dot(y, params={\"a\": a, \"x\": x, \"y\": y})"
   ]
  },
  {
   "cell_type": "markdown",
   "metadata": {
    "id": "yz7GFzLsOquo"
   },
   "source": [
    "Now call `y.backward()` and validate that\n",
    "\n",
    "$\\frac{dy}{dx} = \\frac{d}{dx} a^2(x+1)^2 = 2a^2(x+1) = 2(2)^2(3 + 1) = 32$\n",
    "\n",
    "$\\frac{dy}{da} = \\frac{d}{da} a^2(x+1)^2 = 2a(x+1)^2 = 2(2)(3 + 1)^2 = 64$\n",
    "\n",
    "by printing `x.grad` and `a.grad`"
   ]
  },
  {
   "cell_type": "code",
   "execution_count": null,
   "metadata": {
    "id": "5gvfw3FDOquo"
   },
   "outputs": [],
   "source": []
  },
  {
   "cell_type": "markdown",
   "metadata": {
    "id": "GY0Y3O7MOqup"
   },
   "source": [
    "Hopefully, it is clear that there all all kinds of functions you could put in that can be differentiated by PyTorch.\n",
    "Let's now work with vector and matrix differentiation.\n",
    "\n",
    "Define two new tensors:\n",
    "- `A` with data `[[0, 1, 2], [3, 4, 5]]` with `requires_grad = True`\n",
    "- `x` with data `[-1, 0, 1]` with `requires_grad = True`"
   ]
  },
  {
   "cell_type": "code",
   "execution_count": null,
   "metadata": {
    "id": "U6DfRbIbOqup"
   },
   "outputs": [],
   "source": []
  },
  {
   "cell_type": "markdown",
   "metadata": {
    "id": "lafdsEDrOqup"
   },
   "source": [
    "Now set $y = (Ax)^2$ and print out `y`. Validate that the output $y = (Ax)^2 = \\left( \\begin{bmatrix} 0 & 1 & 2 \\\\ 3 & 4 & 5 \\end{bmatrix} \\begin{bmatrix} -1 \\\\ 0 \\\\ 1 \\end{bmatrix} \\right)^2 = \\left( \\begin{bmatrix} 2 \\\\ 2 \\end{bmatrix} \\right)^2 = \\begin{bmatrix} 2^2 \\\\ 2^2 \\end{bmatrix} = \\begin{bmatrix} 4 \\\\ 4 \\end{bmatrix}$"
   ]
  },
  {
   "cell_type": "code",
   "execution_count": null,
   "metadata": {
    "id": "-fnnMcYnOquq"
   },
   "outputs": [],
   "source": []
  },
  {
   "cell_type": "markdown",
   "metadata": {
    "id": "By-pWDfcOquq"
   },
   "source": [
    "Now the \"derivative\" we are computing here is called the Jacobian, because $y$ is a vector-valued function. The Jacobian contains the derivative of every output, $y_i$, with respect to every input, $x_j$. Therefore, the Jacobian of $y$ with respect to $x$ is:\n",
    "\n",
    "$\\begin{aligned}\n",
    "J_y = \\begin{bmatrix} \\frac{\\partial y_1}{\\partial x_1} & \\frac{\\partial y_1}{\\partial x_2} & \\frac{\\partial y_1}{\\partial x_3} \\\\ \\frac{\\partial y_2}{\\partial x_1} & \\frac{\\partial y_2}{\\partial x_2} & \\frac{\\partial y_2}{\\partial x_3} \\end{bmatrix} = \\frac{\\partial y}{\\partial x} &= \\frac{\\partial}{\\partial x} \\left( \\begin{bmatrix} A_{11} & A_{12} & A_{13} \\\\ A_{21} & A_{22} & A_{23} \\end{bmatrix} \\begin{bmatrix} x_1 \\\\ x_2 \\\\ x_3 \\end{bmatrix} \\right)^2 \\\\\n",
    "    &= \\frac{\\partial}{\\partial x} \\left( \\begin{bmatrix} A_{11}x_1 + A_{12}x_2 + A_{13}x_3 \\\\ A_{21}x_1 + A_{22}x_2 + A_{23}x_3 \\end{bmatrix} \\right)^2 \\\\\n",
    "    &= \\frac{\\partial}{\\partial x} \\begin{bmatrix} (A_{11}x_1 + A_{12}x_2 + A_{13}x_3)^2 \\\\ (A_{21}x_1 + A_{22}x_2 + A_{23}x_3)^2 \\end{bmatrix} \\\\\n",
    "    &= \\begin{bmatrix} \\frac{\\partial}{\\partial x} (A_{11}x_1 + A_{12}x_2 + A_{13}x_3)^2 \\\\ \\frac{\\partial}{\\partial x} (A_{21}x_1 + A_{22}x_2 + A_{23}x_3)^2 \\end{bmatrix} \\\\\n",
    "    &= \\begin{bmatrix} \\frac{\\partial}{\\partial x_1} (A_{11}x_1 + A_{12}x_2 + A_{13}x_3)^2 & \\frac{\\partial}{\\partial x_2} (A_{11}x_1 + A_{12}x_2 + A_{13}x_3)^2 & \\frac{\\partial}{\\partial x_3} (A_{11}x_1 + A_{12}x_2 + A_{13}x_3)^2  \\\\ \\frac{\\partial}{\\partial x_1} (A_{21}x_1 + A_{22}x_2 + A_{23}x_3)^2 & \\frac{\\partial}{\\partial x_2} (A_{21}x_1 + A_{22}x_2 + A_{23}x_3)^2 & \\frac{\\partial}{\\partial x_3} (A_{21}x_1 + A_{22}x_2 + A_{23}x_3)^2 \\end{bmatrix} \\\\\n",
    "    &= \\begin{bmatrix} 2A_{11}(A_{11}x_1 + A_{12}x_2 + A_{13}x_3) & 2A_{12}(A_{11}x_1 + A_{12}x_2 + A_{13}x_3) & 2A_{13}(A_{11}x_1 + A_{12}x_2 + A_{13}x_3)  \\\\ 2A_{21}(A_{21}x_1 + A_{22}x_2 + A_{23}x_3) & 2A_{22}(A_{21}x_1 + A_{22}x_2 + A_{23}x_3) & 2A_{23}(A_{21}x_1 + A_{22}x_2 + A_{23}x_3) \\end{bmatrix} \\\\\n",
    "    &= \\begin{bmatrix} 0 & 4 & 8  \\\\ 12 & 16 & 20 \\end{bmatrix}\n",
    "\\end{aligned}$\n",
    "\n",
    "Now call `y.backward()`."
   ]
  },
  {
   "cell_type": "code",
   "execution_count": null,
   "metadata": {
    "id": "7KtI2BIYOquq"
   },
   "outputs": [],
   "source": []
  },
  {
   "cell_type": "markdown",
   "metadata": {
    "id": "V4Lg1XYvOqur"
   },
   "source": [
    "You should run into `RuntimeError: grad can be implicitly created only for scalar outputs`.\n",
    "We can only call `.backward()` on scalar tensors in pytorch; there are some detailed explanations on why online, but simple reason behind this is because backpropagating on a scalar reduces the dimensionality of our gradients making backpropagation cheaper and quicker.\n",
    "Which makes sense because `x` is a vector and the Jacobian we calculated is a matrix.\n",
    "\n",
    "We can easily circumvent this issue by summing up our `y` tensor. Set `y_sum = torch.sum(y)` and call `.backward()` on `y_sum`."
   ]
  },
  {
   "cell_type": "code",
   "execution_count": null,
   "metadata": {
    "id": "HLsGYnkgOqur"
   },
   "outputs": [],
   "source": []
  },
  {
   "cell_type": "markdown",
   "metadata": {
    "id": "Bjb6bGI4Oqur"
   },
   "source": [
    "Now let's look at the gradients from our new function.\n",
    "\n",
    "$\\begin{aligned}\n",
    "\\frac{\\partial y}{\\partial x} &= \\frac{\\partial}{\\partial x} \\sum \\left( \\begin{bmatrix} A_{11} & A_{12} & A_{13} \\\\ A_{21} & A_{22} & A_{23} \\end{bmatrix} \\begin{bmatrix} x_1 \\\\ x_2 \\\\ x_3 \\end{bmatrix} \\right)^2 \\\\\n",
    "    &= \\sum \\frac{\\partial}{\\partial x} \\left( \\begin{bmatrix} A_{11} & A_{12} & A_{13} \\\\ A_{21} & A_{22} & A_{23} \\end{bmatrix} \\begin{bmatrix} x_1 \\\\ x_2 \\\\ x_3 \\end{bmatrix} \\right)^2 \\\\\n",
    "    &= \\sum \\frac{\\partial}{\\partial x} \\left( \\begin{bmatrix} A_{11}x_1 + A_{12}x_2 + A_{13}x_3 \\\\ A_{21}x_1 + A_{22}x_2 + A_{23}x_3 \\end{bmatrix} \\right)^2 \\\\\n",
    "    & \\quad \\quad \\vdots \\\\\n",
    "    &= \\sum \\begin{bmatrix} 2A_{11}(A_{11}x_1 + A_{12}x_2 + A_{13}x_3) & 2A_{12}(A_{11}x_1 + A_{12}x_2 + A_{13}x_3) & 2A_{13}(A_{11}x_1 + A_{12}x_2 + A_{13}x_3)  \\\\ 2A_{21}(A_{21}x_1 + A_{22}x_2 + A_{23}x_3) & 2A_{22}(A_{21}x_1 + A_{22}x_2 + A_{23}x_3) & 2A_{23}(A_{21}x_1 + A_{22}x_2 + A_{23}x_3) \\end{bmatrix} \\\\\n",
    "    &= \\sum \\begin{bmatrix} 0 & 4 & 8  \\\\ 12 & 16 & 20 \\end{bmatrix} \\\\\n",
    "    &= \\begin{bmatrix} 12 & 20 & 28  \\end{bmatrix} \\\\\n",
    "\\end{aligned}$\n",
    "\n",
    "**Note that by summing the output of `y` we ended up summing our Jacobian**.\n",
    "\n",
    "I will quickly show $\\frac{\\partial y}{\\partial A}$ in abbreviated form:\n",
    "\n",
    "$\\begin{aligned}\n",
    "\\frac{\\partial y}{\\partial A} &= \\frac{\\partial}{\\partial x} \\sum \\left( Ax \\right)^2 \\\\\n",
    "    &= \\frac{\\partial}{\\partial A}  (A_1x)^2 + (A_2x)^2 \\\\\n",
    "    &= \\begin{bmatrix} \\frac{\\partial}{\\partial A_1} (A_1x)^2 + (A_2x)^2 \\\\ \\frac{\\partial}{\\partial A_2} (A_1x)^2 + (A_2x)^2  \\end{bmatrix} \\\\\n",
    "    &= \\begin{bmatrix} 2(A_1x)x^T \\\\ 2(A_2x)x^T  \\end{bmatrix} \\\\\n",
    "    &= \\begin{bmatrix} 4x^T \\\\ 4x^T  \\end{bmatrix} \\\\\n",
    "    &= \\begin{bmatrix} -4 & 0 & 4 \\\\ -4 & 0 & 4  \\end{bmatrix} \\\\\n",
    "\\end{aligned}$\n",
    "\n",
    "Print out `x.grad` and `A.grad` and validate you got the correct answer."
   ]
  },
  {
   "cell_type": "code",
   "execution_count": null,
   "metadata": {
    "id": "eFn__s7xOqur"
   },
   "outputs": [],
   "source": []
  },
  {
   "cell_type": "markdown",
   "metadata": {
    "id": "NR2bfXm-Oqus"
   },
   "source": [
    "And just for fun, let's look at the computation graph."
   ]
  },
  {
   "cell_type": "code",
   "execution_count": null,
   "metadata": {
    "id": "mCl0KiLpOqus"
   },
   "outputs": [],
   "source": [
    "make_dot(y_sum, params={\"A\": A, \"x\": x, \"y_sum\": y_sum})"
   ]
  },
  {
   "cell_type": "markdown",
   "metadata": {
    "id": "KHtkfp91Oqus"
   },
   "source": [
    "## Final Notes about Autodiff"
   ]
  },
  {
   "cell_type": "markdown",
   "metadata": {
    "id": "juaxEdn8Oqus"
   },
   "source": [
    "There are two other functions that are useful when using autodifferentiation: `.clone()` and `.detach()`.\n",
    "\n",
    "- `.clone()` gives us the ability to copy a tensor and remain on the computation graph.\n",
    "- `.detach()` gives us the ability to copy a tensor, but to become detached from computation graph, i.e. the copy will have `requires_grad = False`.\n",
    "\n",
    "To illustrate this we will initialize two tensors: $x=1$ and $y=2$"
   ]
  },
  {
   "cell_type": "code",
   "execution_count": null,
   "metadata": {
    "id": "ofw7LLdsOqut"
   },
   "outputs": [],
   "source": [
    "x = torch.tensor(1).float()\n",
    "y = torch.tensor(2).float()\n",
    "\n",
    "x.requires_grad = True\n",
    "y.requires_grad = True"
   ]
  },
  {
   "cell_type": "markdown",
   "metadata": {
    "id": "m1A6Hx_fOqut"
   },
   "source": [
    "And vizualize the computation graph of:\n",
    "```python\n",
    "z = x + y\n",
    "l = 2*z + 3*z\n",
    "```"
   ]
  },
  {
   "cell_type": "code",
   "execution_count": null,
   "metadata": {
    "id": "Hhv1_fzUOqut"
   },
   "outputs": [],
   "source": [
    "z = x + y\n",
    "l = 2*z + 3*z\n",
    "\n",
    "make_dot(l, params={\"x\": x, \"y\": y, \"l\": l})"
   ]
  },
  {
   "cell_type": "markdown",
   "metadata": {
    "id": "4076oW3wOqut"
   },
   "source": [
    "The output of `l` is $l = 2z + 3z = 5(x + y) = 15$.\n",
    "The gradients of $x$ and $y$ are then $\\frac{d}{dx} 5(x+y) = \\frac{d}{dx} 5x = 5$ and $\\frac{d}{dy} 5(x+y) = \\frac{d}{dy} 5y = 5$. Take the derivative of `l` and print out `l` and the gradients of `x` and `y` to validate this is true."
   ]
  },
  {
   "cell_type": "code",
   "execution_count": null,
   "metadata": {
    "id": "ZqbO_c1wOquu"
   },
   "outputs": [],
   "source": []
  },
  {
   "cell_type": "markdown",
   "metadata": {
    "id": "z1-5fDaIOquu"
   },
   "source": [
    "### `.clone()`\n",
    "\n"
   ]
  },
  {
   "cell_type": "markdown",
   "metadata": {
    "id": "UneExL8VOquu"
   },
   "source": [
    "Now compute the same function, but this time let `l = 2*z + 3*z.clone()`. Call `make_dot()` and visualize the computation graph."
   ]
  },
  {
   "cell_type": "code",
   "execution_count": null,
   "metadata": {
    "id": "xAL_laJhOquv"
   },
   "outputs": [],
   "source": [
    "# compute z and l\n",
    "\n",
    "make_dot(l, params={\"x\": x, \"y\": y, \"l\": l})"
   ]
  },
  {
   "cell_type": "markdown",
   "metadata": {
    "id": "qXq9ll_5Oquv"
   },
   "source": [
    "The computation graph now has `CloneBackward0` attached to, but since `.clone()` doesn't change any gradients then the output of `l` and `x.grad` and `y.grad` should all be the same as above.\n",
    "Take the derivative of `l` (don't forget to zero out the gradients of `x` and `y`) and print out `l` and the gradients of `x` and `y` to validate this is true."
   ]
  },
  {
   "cell_type": "code",
   "execution_count": null,
   "metadata": {
    "id": "DKB_z8tEOquv"
   },
   "outputs": [],
   "source": []
  },
  {
   "cell_type": "markdown",
   "metadata": {
    "id": "-JZxBdVFOquv"
   },
   "source": [
    "### `.detach()`\n",
    "\n"
   ]
  },
  {
   "cell_type": "markdown",
   "metadata": {
    "id": "DikCUy2UOquv"
   },
   "source": [
    "Once again compute the same function, but this time let `l = 2*z + 3*z.detach()`. Call `make_dot()` and visualize the computation graph."
   ]
  },
  {
   "cell_type": "code",
   "execution_count": null,
   "metadata": {
    "id": "2deQc6mxOquv"
   },
   "outputs": [],
   "source": [
    "# compute z and l\n",
    "\n",
    "make_dot(l, params={\"x\": x, \"y\": y, \"l\": l})"
   ]
  },
  {
   "cell_type": "markdown",
   "metadata": {
    "id": "2TnqIWAIOquv"
   },
   "source": [
    "The computation graph has changed because `3*z.detach()` looks like the number 9 to the compuation graph.\n",
    "The output has not changed though, $l = 2z + 9 = 2(x + y) + 9 = 6 + 9 = 15$. However, our gradients are changed because $\\frac{d}{dx} 2(x+y) + 9 = \\frac{d}{dx} 2x = 2$ and $\\frac{d}{dy} 2(x+y) + 9= \\frac{d}{dy} 2y = 2$.\n",
    "Take the derivative of `l` (don't forget to zero out the gradients of `x` and `y`) and print out `l` and the gradients of `x` and `y` to validate this is true."
   ]
  },
  {
   "cell_type": "code",
   "execution_count": null,
   "metadata": {
    "id": "MYTFhlQaOquw"
   },
   "outputs": [],
   "source": []
  },
  {
   "cell_type": "markdown",
   "metadata": {
    "id": "gH4C-ixiOquw"
   },
   "source": [
    "---\n",
    "\n",
    "# Gradient Descent Learning"
   ]
  },
  {
   "cell_type": "code",
   "execution_count": null,
   "metadata": {
    "id": "bgKzMWRTOquw"
   },
   "outputs": [],
   "source": [
    "import numpy as np\n",
    "import matplotlib.pyplot as plt\n",
    "from matplotlib import cm\n",
    "import matplotlib.animation as animation\n",
    "from typing import List"
   ]
  },
  {
   "cell_type": "markdown",
   "metadata": {
    "id": "iAXxMZaWOquw"
   },
   "source": [
    "Why do we care about using PyTorch's autodiff functionality?\n",
    "Because it can be utilized for optimization.\n",
    "Assume for example, we have $n$ data points and we want to find a line that best fits the data, differentiation can tell us how to find the best fitting line through gradient descent."
   ]
  },
  {
   "cell_type": "markdown",
   "metadata": {
    "id": "AcbyZgD-Oquw"
   },
   "source": [
    "First let's create a Random Number Generator (RNG) to make sure our experiment is reproducible"
   ]
  },
  {
   "cell_type": "code",
   "execution_count": null,
   "metadata": {
    "id": "fm668cwkOqux"
   },
   "outputs": [],
   "source": [
    "rng = np.random.default_rng(42)"
   ]
  },
  {
   "cell_type": "markdown",
   "metadata": {
    "id": "4qm5pRfgOquy"
   },
   "source": [
    "And now let's generate our data.\n",
    "The true slope to our line is $m=.3$ and the our true intercept is $b=.25$.\n",
    "Our data is 9 data points along this line with some added noise."
   ]
  },
  {
   "cell_type": "code",
   "execution_count": null,
   "metadata": {
    "id": "GslnNWE0Oquy"
   },
   "outputs": [],
   "source": [
    "true_m = .3\n",
    "true_b = .25\n",
    "x_data = np.linspace(.1, .9, 9)\n",
    "noise = rng.normal(0, 1, size=x_data.shape) * .1\n",
    "y_data = true_m*x_data + true_b + noise"
   ]
  },
  {
   "cell_type": "markdown",
   "metadata": {
    "id": "Rx8GpfbCOquy"
   },
   "source": [
    "Below are some helper functions.\n",
    "You don't need to look at them, just execute the cell below and move on."
   ]
  },
  {
   "cell_type": "code",
   "execution_count": null,
   "metadata": {
    "id": "La6b6KBGOquy"
   },
   "outputs": [],
   "source": [
    "def _add_true_fn_and_data(ax, handles, labels):\n",
    "    ax.set_xlim(-.05, 1.05)\n",
    "    ax.set_ylim(-.05, 1.05)\n",
    "    ax.set_xlabel(r\"x\")\n",
    "    ax.set_ylabel(r\"y\")\n",
    "    ax.set_title(\"Input/Output Plot\")\n",
    "    # Plot data\n",
    "    ax.scatter(x_data, y_data)\n",
    "    # Plot true function\n",
    "    xs = np.linspace(0, 1, 100)\n",
    "    true_ys = true_m*xs + true_b\n",
    "    handle, = ax.plot(xs, true_ys, label=\"true fn\")\n",
    "    handles.append(handle)\n",
    "    labels.append(\"true fn\")\n",
    "\n",
    "\n",
    "def _add_pred_fn_and_errors(pred_m, pred_b, ax, handles, labels):\n",
    "    xs = np.linspace(0, 1, 100)\n",
    "    pred_ys = pred_m * xs + pred_b\n",
    "    pred_line, = ax.plot(xs, pred_ys, label=\"pred fn\")\n",
    "    handles.append(pred_line)\n",
    "    labels.append(\"pred fn\")\n",
    "\n",
    "    pred_y = pred_m * x_data + pred_b\n",
    "    errors = pred_y - y_data\n",
    "    error_lines = []\n",
    "    for x_i, y_i, error in zip(x_data, y_data, errors):\n",
    "        error_line, = ax.plot([x_i, x_i], [y_i, y_i + error], c=\"red\", label=\"error\")\n",
    "        error_lines.append(error_line)\n",
    "    handles.append(error_line)\n",
    "    labels.append(\"error\")\n",
    "    return pred_line, error_lines\n",
    "\n",
    "\n",
    "def _add_loss_surface(ax, m_min=-1, m_max=1.5, b_min=-.4, b_max=.9):\n",
    "    steps = 50\n",
    "    m_space = np.linspace(m_min, m_max, steps)\n",
    "    b_space = np.linspace(b_min, b_max, steps)\n",
    "\n",
    "    MM, BB = np.meshgrid(m_space, b_space, indexing=\"ij\")\n",
    "    MM = MM.reshape(steps * steps)\n",
    "    BB = BB.reshape(steps * steps)\n",
    "\n",
    "    YY = MM[:, None] @ x_data[None, :] + BB[:, None]\n",
    "    EE = YY - y_data[None, :]\n",
    "    EE = np.mean(EE**2, axis=1)\n",
    "\n",
    "    MM = MM.reshape(steps, steps)\n",
    "    BB = BB.reshape(steps, steps)\n",
    "    EE = EE.reshape(steps, steps)\n",
    "\n",
    "    ax.contourf(MM, BB, np.log2(EE))\n",
    "    ax.set_title(\"Loss Surface\")\n",
    "    ax.set_xlabel(\"slope \" + r\"($m$)\")\n",
    "    ax.set_ylabel(\"intercept \" + r\"($b$)\")\n",
    "\n",
    "\n",
    "def plot_data(pred_m=None, pred_b=None, figsize=(6, 6)):\n",
    "    fig, ax = plt.subplots(1, 1, figsize=figsize)\n",
    "    handles = []\n",
    "    labels = []\n",
    "\n",
    "    _add_true_fn_and_data(ax=ax, handles=handles, labels=labels)\n",
    "\n",
    "    # Plot predicted function\n",
    "    if pred_m is not None or pred_b is not None:\n",
    "        if pred_m is None:\n",
    "            pred_m = 0\n",
    "        if pred_b is None:\n",
    "            pred_b = 0\n",
    "        _add_pred_fn_and_errors(pred_m=pred_m, pred_b=pred_b, ax=ax, handles=handles, labels=labels)\n",
    "\n",
    "    ax.legend(handles, labels)\n",
    "    plt.show()\n",
    "\n",
    "\n",
    "def plot_1d_loss_surface(pred_ms=None, pred_bs=None, figsize=(12, 6)):\n",
    "    if pred_ms is None and pred_bs is None:\n",
    "        raise ValueError(f\"Expected pred_ms or pred_bs to be not None\")\n",
    "    if pred_ms is not None and pred_bs is not None:\n",
    "        print(f\"Both pred_ms and pred_bs are not None and function will default to using pred_ms\")\n",
    "\n",
    "    fig, axes = plt.subplots(1, 2, figsize=figsize)\n",
    "    handles = []\n",
    "    labels = []\n",
    "\n",
    "    ### Input Output ###\n",
    "    inp_out_ax = axes[0]\n",
    "    _add_true_fn_and_data(ax=inp_out_ax, handles=handles, labels=labels)\n",
    "\n",
    "    # Plot predicted function\n",
    "    pred_vars = None\n",
    "    if pred_ms is not None:\n",
    "        pred_ms = np.array(pred_ms)\n",
    "        pred_ms = np.concatenate((pred_ms, pred_ms[::-1]))\n",
    "        pred_bs = np.zeros_like(pred_ms)\n",
    "        loss_title = \"Loss Surface With Respect To Slope\"\n",
    "        loss_xlabel = \"slope\"\n",
    "        pred_vars = pred_ms\n",
    "    else:\n",
    "        pred_bs = np.array(pred_bs)\n",
    "        pred_bs = np.concatenate((pred_bs, pred_bs[::-1]))\n",
    "        pred_ms = np.zeros_like(pred_bs)\n",
    "        loss_title = \"Loss Surface With Respect To Intercept\"\n",
    "        loss_xlabel = \"intercept\"\n",
    "        pred_vars = pred_bs\n",
    "\n",
    "    pred_line, error_lines = _add_pred_fn_and_errors(pred_m=pred_ms[0], pred_b=pred_bs[0], ax=inp_out_ax, handles=handles, labels=labels)\n",
    "\n",
    "    inp_out_ax.legend(handles, labels)\n",
    "\n",
    "    ### 1D Loss Surface ###\n",
    "    loss_ax = axes[1]\n",
    "\n",
    "    pred_ys = x_data[:, None] @ pred_ms[None, :] + pred_bs\n",
    "    sses = np.sum((y_data[:, None] - pred_ys)**2, axis=0)\n",
    "\n",
    "    loss_ax.plot(pred_vars[:len(pred_vars)//2], sses[:len(sses)//2])\n",
    "\n",
    "    loss_scatter = loss_ax.scatter(pred_vars[0:1], sses[0:1])\n",
    "\n",
    "    loss_ax.set_title(loss_title)\n",
    "    loss_ax.set_xlabel(loss_xlabel)\n",
    "    loss_ax.set_ylabel(\"Sum Square Error\")\n",
    "\n",
    "    xs = np.linspace(0, 1, 100)\n",
    "    def update(frame):\n",
    "        # for each frame, update the data stored on each artist.\n",
    "        pred_m = pred_ms[frame]\n",
    "        pred_b = pred_bs[frame]\n",
    "        pred_ys = pred_m * xs + pred_b\n",
    "\n",
    "        pred_line.set_ydata(pred_ys)\n",
    "\n",
    "        pred_y = pred_m * x_data + pred_b\n",
    "        errors = pred_y - y_data\n",
    "\n",
    "        for error_line, y_i, error in zip(error_lines, y_data, errors):\n",
    "            error_line.set_ydata([y_i, y_i + error])\n",
    "\n",
    "        loss_scatter.set_offsets(np.array([pred_vars[frame], sses[frame]]))\n",
    "\n",
    "        return (pred_line, *error_lines, loss_scatter)\n",
    "\n",
    "    anim = animation.FuncAnimation(fig=fig, func=update, frames=len(pred_ms), interval=50, blit=True)\n",
    "    from IPython.display import HTML\n",
    "    anim = HTML(anim.to_html5_video())\n",
    "    plt.close('all')\n",
    "    del fig\n",
    "    return anim\n",
    "\n",
    "\n",
    "def plot_2d_loss_surface():\n",
    "    def fan_linspace(start, diff, step, fan_up=True):\n",
    "        quarter_step = step//4\n",
    "        offset = diff\n",
    "        if not fan_up:\n",
    "            offset = -diff\n",
    "        return np.concatenate([np.linspace(start, start+offset, quarter_step),\n",
    "                            np.linspace(start+offset, start, quarter_step),\n",
    "                            np.linspace(start, start-offset, quarter_step),\n",
    "                            np.linspace(start-offset, start, quarter_step)])\n",
    "\n",
    "    sim_steps = 50\n",
    "    anim_pred_ms = np.concatenate([np.full(sim_steps, true_m), fan_linspace(true_m, true_m*2, sim_steps), (true_m - .5 + np.cos(np.linspace(0, 2*np.pi, sim_steps)) / 2).tolist(), (true_m + .5 + np.cos(np.linspace(np.pi, 3*np.pi, sim_steps)) / 2).tolist()])[:, None]\n",
    "    anim_pred_bs = np.concatenate([fan_linspace(true_b, true_b*2, sim_steps), np.full(sim_steps, true_b), (true_b + np.sin(np.linspace(0, 2*np.pi, sim_steps)) / 2).tolist(), (true_b + np.sin(np.linspace(0, 2*np.pi, sim_steps)) / 2).tolist()])[:, None]\n",
    "\n",
    "    fig, axes = plt.subplots(1, 2, figsize=(12, 6))\n",
    "    handles = []\n",
    "    labels = []\n",
    "\n",
    "    ### Input Output ###\n",
    "    inp_out_ax = axes[0]\n",
    "    _add_true_fn_and_data(inp_out_ax, handles, labels)\n",
    "    pred_line, error_lines = _add_pred_fn_and_errors(anim_pred_ms[0], anim_pred_bs[0], inp_out_ax, handles, labels)\n",
    "    inp_out_ax.set_xlim(-.2, 1.2)\n",
    "    inp_out_ax.set_ylim(-.2, 1.2)\n",
    "    inp_out_ax.legend(handles, labels)\n",
    "\n",
    "    ### Loss Surface ###\n",
    "    loss_ax = axes[1]\n",
    "    _add_loss_surface(loss_ax)\n",
    "    loss_scatter = loss_ax.scatter(anim_pred_ms[0:1], anim_pred_bs[0:1], c=\"orange\")\n",
    "\n",
    "    xs = np.linspace(0, 1, 100)\n",
    "    def update(frame):\n",
    "        # for each frame, update the data stored on each artist.\n",
    "        pred_m = anim_pred_ms[frame]\n",
    "        pred_b = anim_pred_bs[frame]\n",
    "        pred_ys = pred_m * xs + pred_b\n",
    "\n",
    "        pred_line.set_ydata(pred_ys)\n",
    "\n",
    "        pred_y = pred_m * x_data + pred_b\n",
    "        errors = pred_y - y_data\n",
    "\n",
    "        for error_line, y_i, error in zip(error_lines, y_data, errors):\n",
    "            error_line.set_ydata([y_i, y_i + error])\n",
    "\n",
    "        loss_scatter.set_offsets(np.concatenate([anim_pred_ms[frame], anim_pred_bs[frame]]))\n",
    "\n",
    "        return (pred_line, *error_lines, loss_scatter)\n",
    "\n",
    "\n",
    "    anim = animation.FuncAnimation(fig=fig, func=update, frames=len(anim_pred_ms), interval=45, blit=True)\n",
    "    from IPython.display import HTML\n",
    "    anim = HTML(anim.to_html5_video())\n",
    "    plt.close('all')\n",
    "    del fig\n",
    "    return anim\n",
    "\n",
    "def plot_slope_grad(m: torch.Tensor | List[torch.Tensor], grad: torch.Tensor | List[torch.Tensor] | None, learning_rate: float = 1., figsize=(4, 3)):\n",
    "    fig, ax = plt.subplots(figsize=figsize)\n",
    "    # Plot loss surface\n",
    "    xs = np.linspace(-1.2, 2.5, 100)\n",
    "    y_hat = x_data[:, None] @ xs[None, :]\n",
    "    sses = np.sum((y_hat - y_data[:, None])**2, axis=0)\n",
    "    ax.plot(xs, sses)\n",
    "\n",
    "    # Plot gradient\n",
    "    if isinstance(m, torch.Tensor):\n",
    "        m = [m]\n",
    "    handle = None\n",
    "    for i in range(len(m)):\n",
    "        loss = np.sum((x_data * m[i].item() - y_data)**2)\n",
    "        ax.scatter(x=[m[i].item()], y=[loss], color='r')\n",
    "        if grad is not None:\n",
    "            if grad[i] is None:\n",
    "                continue\n",
    "            handle = ax.arrow(x=m[i].item(), y=loss, dx=grad[i].item() * learning_rate, dy=0, head_width=0.2, head_length=0.1, width=0.01, color='r', length_includes_head=True, label=\"gradient\")\n",
    "\n",
    "    if handle is not None:\n",
    "        ax.legend([handle], [\"gradient\"])\n",
    "\n",
    "    ax.set_xlabel(\"slope \" + r\"($m$)\")\n",
    "    ax.set_ylabel(\"SSE Loss\")\n",
    "\n",
    "    plt.show()\n",
    "\n",
    "\n",
    "def plot_grad(m: torch.Tensor | List[torch.Tensor],\n",
    "              b: torch.Tensor | List[torch.Tensor],\n",
    "              m_grad: torch.Tensor | List[torch.Tensor] | None,\n",
    "              b_grad: torch.Tensor | List[torch.Tensor] | None,\n",
    "              learning_rate: float = 1., figsize=(4, 4)):\n",
    "    fig, ax = plt.subplots(figsize=figsize)\n",
    "    _add_loss_surface(ax, m_min=-3, m_max=3, b_min=-3, b_max=3)\n",
    "\n",
    "    if isinstance(m, torch.Tensor):\n",
    "        m = [m]\n",
    "        m_grad = [m_grad]\n",
    "        b = [b]\n",
    "        b_grad = [b_grad]\n",
    "\n",
    "    handle = None\n",
    "    for i in range(len(m)):\n",
    "        ax.scatter(x=[m[i].item()], y=[b[i].item()], color='r')\n",
    "        if m_grad is not None:\n",
    "            if m_grad[i] is None:\n",
    "                continue\n",
    "            handle = ax.arrow(x=m[i].item(), y=b[i].item(), dx=m_grad[i].item() * learning_rate, dy=b_grad[i].item() * learning_rate,\n",
    "                              head_width=0.2, head_length=0.1, width=0.01, color='r', length_includes_head=True, label=\"gradient\")\n",
    "\n",
    "    if handle is not None:\n",
    "        ax.legend([handle], [\"gradient\"])\n",
    "\n",
    "    ax.set_xlabel(\"slope \" + r\"($m$)\")\n",
    "    ax.set_ylabel(\"intercept \" + r\"($b$)\")"
   ]
  },
  {
   "cell_type": "markdown",
   "metadata": {
    "id": "LDFz2kmhOquz"
   },
   "source": [
    "Now that we have generated our data, call `plot_data()` so we can see what it looks like, you don't have to pass in any arguments."
   ]
  },
  {
   "cell_type": "code",
   "execution_count": null,
   "metadata": {
    "id": "b93saVj_Oquz"
   },
   "outputs": [],
   "source": []
  },
  {
   "cell_type": "markdown",
   "metadata": {
    "id": "-Df39gJjOquz"
   },
   "source": [
    "Now call `plot_data()`, but this time pass in a prediction for the slope (e.g.\n",
    "`pred_m=0.5`) and intercept (e.g. `pred_b=0.1`)."
   ]
  },
  {
   "cell_type": "code",
   "execution_count": null,
   "metadata": {
    "id": "MlGZHS3uOquz"
   },
   "outputs": [],
   "source": []
  },
  {
   "cell_type": "markdown",
   "metadata": {
    "id": "ahhxkaYUOquz"
   },
   "source": [
    "The errors $e$ are computed by looking at the difference between the true data $y$ and our predictions $\\hat{y}$, i.e. $e = y - \\hat{y}$.\n",
    "Now if we squared our errors and then took their sum, i.e compute the sum squared error (SSE), $\\sum (y - \\hat{y})^2$ then we get a single value, which we call the loss, that tells us how good our prediction function fits the data.\n",
    "\n",
    "Furthermore, if we moved the predicted slope around we could see how different slopes compare to each either through the loss.\n",
    "To visualize this look execute the cell below."
   ]
  },
  {
   "cell_type": "code",
   "execution_count": null,
   "metadata": {
    "id": "JMPWwaHOOqu0"
   },
   "outputs": [],
   "source": [
    "plot_1d_loss_surface(pred_ms=np.linspace(0, 1, 40))"
   ]
  },
  {
   "cell_type": "markdown",
   "metadata": {
    "id": "rDiJTGjPOqu0"
   },
   "source": [
    "If we are trying to find the slope that will minimize our loss, we can use the gradient to tell is which direction we need to move in order to optimize our objective.\n",
    "First, we are going to convert `x_data` and `y_data` from numpy arrays into tensors."
   ]
  },
  {
   "cell_type": "code",
   "execution_count": null,
   "metadata": {
    "id": "6GneqZWuOqu0"
   },
   "outputs": [],
   "source": [
    "x = torch.from_numpy(x_data).float().unsqueeze(1)\n",
    "y = torch.from_numpy(y_data).float().unsqueeze(1)"
   ]
  },
  {
   "cell_type": "markdown",
   "metadata": {
    "id": "VjqT73AvOqu0"
   },
   "source": [
    "Now create two functions: `forward()` and `sse_loss()`.\n",
    "\n",
    "The `forward()` function does forward propagation.\n",
    "We apply the slope formula $m \\times x+b$, but we need to vectorize it. Dimension 0 of `x` is the \"batch\" dimension: it separates the 9 individual points. Dimension 1 of `x` is the \"channel\" dimension which contains a single channel of data (since the input is a point in 1D space). To get our y predictions, we perform the same function on each batch instance: so we need to matrix-multiply our slope `m` across dimension 1 of `x`. Our model's prediction is:\n",
    "\n",
    "$\\hat{y} = xm + b$\n",
    "\n",
    "where `x.shape==[9,1]`, `m.shape==[1,1]`, `b.shape=[1]`.\n",
    "\n",
    "This ensures that the output `y_hat.shape==[9,1]`: we predict one y-value per point."
   ]
  },
  {
   "cell_type": "code",
   "execution_count": null,
   "metadata": {
    "id": "3vjJRoe3Oqu0"
   },
   "outputs": [],
   "source": [
    "def forward(m, b, x):\n",
    "    # implement forward and return xm^T + b\n",
    "    pass"
   ]
  },
  {
   "cell_type": "markdown",
   "metadata": {
    "id": "7uIAhgpbOqu0"
   },
   "source": [
    "The `sse_loss()` function takes your predictions `y_hat` and compares it to the true output `y`, by computing the sum of the squared errors."
   ]
  },
  {
   "cell_type": "code",
   "execution_count": null,
   "metadata": {
    "id": "fOOw3snZOqu1"
   },
   "outputs": [],
   "source": [
    "def sse_loss(y_hat, y):\n",
    "    # return the sse loss\n",
    "    pass"
   ]
  },
  {
   "cell_type": "markdown",
   "metadata": {
    "id": "Twyf8izMOqu1"
   },
   "source": [
    "Execute the cell below to validate your `forward()` and `sse_loss()` work correctly."
   ]
  },
  {
   "cell_type": "code",
   "execution_count": null,
   "metadata": {
    "id": "AarcvNJGOqu1"
   },
   "outputs": [],
   "source": [
    "m = torch.tensor([[2.]])\n",
    "b = torch.tensor([[0.]])\n",
    "y_hat = forward(m, b, x)\n",
    "loss = sse_loss(y_hat, y)\n",
    "assert torch.allclose(loss, torch.tensor(5.4452))\n",
    "\n",
    "m = torch.tensor([[1.]])\n",
    "b = torch.tensor([[1.]])\n",
    "y_hat = forward(m, b, x)\n",
    "loss = sse_loss(y_hat, y)\n",
    "assert torch.allclose(loss, torch.tensor(11.8534))"
   ]
  },
  {
   "cell_type": "markdown",
   "metadata": {
    "id": "6Q5-vFbyOqu1"
   },
   "source": [
    "We will now analyze what the gradients tell us.\n",
    "At the moment we will only focus on a single parameter: the slope `m`.\n",
    "Go ahead and execute the cell below."
   ]
  },
  {
   "cell_type": "code",
   "execution_count": null,
   "metadata": {
    "id": "l1peeg3MOqu1"
   },
   "outputs": [],
   "source": [
    "m = torch.tensor([[2.]]).float()\n",
    "b = torch.tensor([[0]]).float()\n",
    "m.requires_grad = True\n",
    "b.requires_grad = False"
   ]
  },
  {
   "cell_type": "markdown",
   "metadata": {
    "id": "gfdwqmErOqu2"
   },
   "source": [
    "Now use your `forward()` and `sse_loss()` functions to get the SSE loss for `m` and `b` and then calculate the derivative of loss, i.e. call `loss.backward()`."
   ]
  },
  {
   "cell_type": "code",
   "execution_count": null,
   "metadata": {
    "id": "srZPQY28Oqu2"
   },
   "outputs": [],
   "source": [
    "y_hat = forward(m, b, x)\n",
    "loss = sse_loss(y_hat, y)\n",
    "loss.backward()"
   ]
  },
  {
   "cell_type": "markdown",
   "metadata": {
    "id": "1DSTCqR4Oqu2"
   },
   "source": [
    "Execute the cell below and validate you calculated the correct gradient."
   ]
  },
  {
   "cell_type": "code",
   "execution_count": null,
   "metadata": {
    "id": "SKXVvM52Oqu2"
   },
   "outputs": [],
   "source": [
    "assert torch.allclose(m.grad, torch.tensor(7.7423))"
   ]
  },
  {
   "cell_type": "markdown",
   "metadata": {
    "id": "ov4jevzjOqu2"
   },
   "source": [
    "Now call the `plot_slope_grad()` function below to visualize what the gradient is pointing towards.\n",
    "\n",
    "![](data:image/png;base64,iVBORw0KGgoAAAANSUhEUgAAAXoAAAEqCAYAAAAbLptnAAAAOXRFWHRTb2Z0d2FyZQBNYXRwbG90bGliIHZlcnNpb24zLjcuMSwgaHR0cHM6Ly9tYXRwbG90bGliLm9yZy/bCgiHAAAACXBIWXMAAA9hAAAPYQGoP6dpAAA27klEQVR4nO3deXhTZb4H8G+atOmeUrqXQkspa6GUHQqCUkEGFYcZFi8oCle8DijLCMIoiiIUVBRBB5SZq3AHBQfFBQUHEZC9LG1lLUsLbaELBZruSZuc+0d6IpGlTZvknKTfz/PkecxJ0vNLsd+8+b3vOUchCIIAIiJyWW5SF0BERPbFoCcicnEMeiIiF8egJyJycQx6IiIXx6AnInJxDHoiIhfHoCcicnEqqQuwN6PRiKtXr8LPzw8KhULqcoiImkwQBJSVlSEiIgJubvWP110+6K9evYqoqCipyyAisrnc3Fy0atWq3ue5fND7+fkBMP1C/P39Ja6GiKjpSktLERUVZc63+rh80IvtGn9/fwY9EbmUhrajORlLROTiGPRERC6OQU9E5OJcvkdPRL8RBAG1tbUwGAxSl0L3oFQqoVKpbLYkXNKg/+WXX/D222/j2LFjyM/Px5YtW/DYY4+ZHxcEAa+99hrWrl2LkpISJCUlYfXq1YiLi5OuaCInpdfrkZ+fj8rKSqlLoQbw9vZGeHg4PDw8mvyzJA36iooKJCQkYPLkyRg9evRtj7/11ltYuXIl1q1bh5iYGCxYsADDhw/H6dOn4enpKUHFRM7JaDQiOzsbSqUSERER8PDw4AGEMiUIAvR6Pa5du4bs7GzExcU16KCoe5E06EeMGIERI0bc8TFBELBixQq88sorGDVqFABg/fr1CA0Nxddff43x48c7slRyoDn/zsCpq6V4cXh7PNAxVOpyXIJer4fRaERUVBS8vb2lLofq4eXlBXd3d1y+fBl6vb7JA1vZTsZmZ2ejoKAAycnJ5m0ajQZ9+/bFwYMH7/o6nU6H0tJSixs5l7MFZTidXwqDUepKXE9TR4bkOLb8t5Ltv3pBQQEAIDTUckQXGhpqfuxOUlJSoNFozDee/sD55GurAAARAWzPEdmCbIO+sebPnw+tVmu+5ebmNurnVOkNuHy9wsbVUX2qawwoLtcDACI0XhJXQ+QaZLu8MiwsDABQWFiI8PBw8/bCwkJ07979rq9Tq9VQq9VN2neBthr9UnZC5aZA5psjoHTjpJWjFGirAQBe7koEeLtLXE0zkZMDFBc7bn9BQUDr1o7bnxUWLlyIr7/+Gunp6QCAp556CiUlJfj6668lraupZBv0MTExCAsLw86dO83BXlpaisOHD+O5556z676D/dRQuilQaxRwrUyHMA1bCI5ytcTUtgkP8OSqEEfIyQE6dACqqx23T09PIDNTtmF/q/fffx+CINj0Z/7+w8QRJA368vJyXLhwwXw/Ozsb6enpCAwMROvWrTFz5ky8+eabiIuLMy+vjIiIsFhrbw9KNwXC/D1xpaQKV0qqGPQOdLVuRB8ZwLaNQxQXOzbkAdP+iovtFvR6vd4ma88B0wIQVyBpj/7o0aNITExEYmIiAGD27NlITEzEq6++CgCYO3cunn/+eUydOhW9e/dGeXk5tm/f7pA19OJEoDgxSI5hHtHzw5XqlJWVYcKECfDx8UF4eDjee+89DBkyBDNnzgQAREdHY9GiRXjyySfh7++PqVOnAgBeeukltG/fHt7e3mjbti0WLFiAmpoai5+9dOlShIaGws/PD1OmTEH17z70nnrqKYuBpdFoREpKCmJiYuDl5YWEhARs3rzZ/Pju3buhUCiwc+dO9OrVC97e3hgwYAAyMzMBAJ9++ilef/11ZGRkQKFQQKFQ4NNPP7X9L+13JA36IUOGQBCE227iG1coFHjjjTdQUFCA6upq/PTTT2jfvr1DaouoG1GKwUOO8duKG47oyWT27NnYv38/vv32W+zYsQN79+7F8ePHLZ7zzjvvICEhAWlpaViwYAEA07UoPv30U5w+fRrvv/8+1q5di/fee8/8mi+++AILFy7EkiVLcPToUYSHh+Pvf//7PWtJSUnB+vXrsWbNGpw6dQqzZs3CxIkTsWfPHovnvfzyy1i+fDmOHj0KlUqFyZMnAwDGjRuHv/71r+jSpQvy8/ORn5+PcePG2eLXdE+y7dFLLVwjBr2Dv9Y2c1fqft9ccUOAaTS/bt06fPbZZxg6dCgA4JNPPkFERITF8x544AH89a9/tdj2yiuvmP87OjoaL774IjZu3Ii5c+cCAFasWIEpU6ZgypQpAIA333wTP/30022jepFOp8OSJUvw008/oX///gCAtm3bYt++ffjoo48wePBg83MXL15svj9v3jyMHDkS1dXV8PLygq+vL1QqlXnBiSMw6O8isq51c4UjeocSv0FxRE8AkJWVhZqaGvTp08e8TaPRoEOHDhbP69Wr122v3bRpE1auXImLFy+ivLwctbW1FhcfOnPmDP7nf/7H4jX9+/fHrl277ljLhQsXUFlZiQcffNBiu16vN7efRd26dTP/t7hqsKioCK0lmoBm0N+FGDTs0TuOIAjmoI9swaCnhvPx8bG4f/DgQUyYMAGvv/46hg8fDo1Gg40bN2L58uWN3kd5eTkA4Pvvv0dkZKTFY79f0u3u/tvSYHH1mNEo3aHeDPq7+K1Hz9aNo2iralCpN50+l5OxBJhaI+7u7jhy5Ih5NKzVanHu3Dncd999d33dgQMH0KZNG7z88svmbZcvX7Z4TqdOnXD48GE8+eST5m2HDh2668/s3Lkz1Go1cnJyLNo01vLw8HD4aaIZ9Hch9ohvVOhRpTfAy0MpcUWuT2yTBfl6wNOdv28yTahOmjQJc+bMQWBgIEJCQvDaa6/Bzc3tnsdZxMXFIScnBxs3bkTv3r3x/fffY8uWLRbPmTFjBp566in06tULSUlJ2LBhA06dOoW2bdvetZYXX3wRs2bNgtFoxMCBA6HVarF//374+/tj0qRJDXpP0dHR5qXkrVq1gp+fX5MP8qyPy50CwVb8vVTwVZs+B6+yfeMQ4rcn9ucdKCjIdACTI3l6mvbbQO+++y769++Phx9+GMnJyUhKSkKnTp3uucz60UcfxaxZszB9+nR0794dBw4cMK/GEY0bNw4LFizA3Llz0bNnT1y+fLnegzEXLVqEBQsWICUlBZ06dcJDDz2E77//HjExMQ1+P3/605/w0EMP4f7770dwcDA+//zzBr+2sRSCrQ/7kpnS0lJoNBpotVqLiZiGGPbeHpwrLMf6yX1wX/tgO1VIonUHLuG1b0/hoS5hWPNET6nLcSnV1dXIzs5GTEzM7QHpZKdAqKioQGRkJJYvX25eMeOK7vVvZm2usXVzDxEBXjhXWM619A7CFTcSad1a1qcjSEtLw9mzZ9GnTx9otVq88cYbAGC+TgXVj0F/D5E8aMqhrpTw9MR0Z++88w4yMzPh4eGBnj17Yu/evQiyov3T3DHo70EcWeYx6B1CDPpWXFpJt0hMTMSxY8ekLsOpcTL2Hjiid6wrN9m6IbIHBv09iAftcC29/elqDSgq0wHgmSvtycXXXrgUW/5bMejv4dajYw1G/oHYk3jBEU93NwT62OYUs/Qb8UjNyspKiSuhhhL/rW49yrax2KO/h9C6C5DUGHgBEnu7tW3DC47YnlKpREBAAIqKigAA3t7e/D3LlCAIqKysRFFREQICAqBUNv3gQQb9PaiUbrdcgKSSQW9H4oQ32zb2I54tUQx7kreAgACbneGSQV+PyBZeuFJShbybVejZRupqXJc4omfQ249CoUB4eDhCQkJuuwAHyYu7u7tNRvIiBn09WgV4IRU8XbG9XeGI3mGUSqVNQ4Tkj5Ox9RBX3ogjTrIP84iea+iJbI5BXw9xhMkRvX39drCUt8SVELkeBn09OKK3P4NRMF/ghSN6Ittj0Nfj1hE9Dzaxj6KyatQYBKjcFAj1s+95uYmaIwZ9PcSDpir1BpRUcqWCPYjflsI0nlAp+b8kka3xr6oenu5KhNSNMvPYvrELrrghsi8GfQOIfeO8mzx83B7ED1BOxBLZB4O+AcQA4ojePvK4tJLIrhj0DSC2FDiitw/x9xrFoCeyCwZ9A4gXwuBaevu4wtYNkV0x6BtADPrcGwx6WzMaBfMJzXhlKSL7YNA3gDjS5Fp62ysu10Ffa4TSTYFwnh2UyC4Y9A0gjjTLdbVcS29jueIaen+uoSeyF/5lNYCnuxJBvlxLbw/iRCzbNkT2I+ugNxgMWLBgAWJiYuDl5YXY2FgsWrRIkvZJVCBX3tgD19AT2Z+sz0e/bNkyrF69GuvWrUOXLl1w9OhRPP3009BoNHjhhRccWkurFt5IyylBLoPepsQPTq6hJ7IfWQf9gQMHMGrUKIwcORIAEB0djc8//xypqakOryXKfHQsWze2JK5k4hp6IvuRdetmwIAB2LlzJ86dOwcAyMjIwL59+zBixAiH18KjY+3DfLBUIFs3RPYi6xH9vHnzUFpaio4dO0KpVMJgMGDx4sWYMGHCXV+j0+mg0+nM90tLS21Si9ijz73B1o2tGIyC+SA0Bj2R/ch6RP/FF19gw4YN+Oyzz3D8+HGsW7cO77zzDtatW3fX16SkpECj0ZhvUVFRNqnl1hE919LbRmGp6Tz07koFwvy5hp7IXmQd9HPmzMG8efMwfvx4dO3aFU888QRmzZqFlJSUu75m/vz50Gq15ltubq5NaokI8IRCAVTVGFBcrrfJz2zuxG9HEQFeULopJK6GyHXJunVTWVkJNzfLzyKlUgmj0XjX16jVaqjVtr9KkVqlRJi/J/K11ci9WYlgXgmpyXJv8tQHRI4g66B/5JFHsHjxYrRu3RpdunRBWloa3n33XUyePFmSeqICvU1Bf6MSPVq3kKQGVyKO6KO4hp7IrmQd9KtWrcKCBQvwl7/8BUVFRYiIiMCzzz6LV199VZJ6olp4IzX7Blfe2EguV9wQOYSsg97Pzw8rVqzAihUrpC4FAFfe2Jp5RM+gJ7IrWU/Gyo3YYshh0NuEeLBUawY9kV0x6K0gjjx5GoSmq64xoKC0GgCPiiWyNwa9FcSR59WSatQY7r7yh+onHijl46FEoI+HxNUQuTYGvRVC/NTwULnBYBSQX1ItdTlOLeeW/rxCwTX0RPbEoLeCm5vC3GZgn75p8jgRS+QwDHorie0bBn3T5HANPZHDMOitxKC3DfH316Ylg57I3hj0VjKvvGHQN8nl66bfH5dWEtkfg95KYjBdvlEhcSXOSxAEHixF5EAMeiu1aekDAMi5zhF9Y92o0KNCb4BCwROaETkCg95K4mkQSqtroa2skbga53S5bjQf5u8JT3elxNUQuT4GvZW8PVTmUxSzfdM4YtuG/Xkix2DQN0IbsU/P9k2jcCKWyLEY9I3QuiWXWDaFGPRcWknkGAz6RmgTyAnZpsipa3m1rpvYJiL7YtA3QuuWpglZ9ugbxzyiZ+uGyCEY9I3AJZaNV6U3oKhMB4CtGyJHYdA3gjgSzS+tRnWNQeJqnIs4r+HvqUKAN09PTOQIDPpGCPTxgJ9aBUEA8ngREqtcum5qd0UHsT9P5CgM+kZQKBTmlTeXihn01sjh0koih2PQN1J0XZ9eHKFSw5hH9FxxQ+QwDPpG4lr6xuEaeiLHY9A3UnRdUGUXc0RvDfboiRyPQd9I5iWWHNE3mK7WgKt1FwVn64bIcRj0jRRTNyLNu1mFGoNR4mqcQ97NKhgFwMdDiSBfLq0kchQGfSOF+Knh5a6EwSgg72aV1OU4hUt1ba42LX2gUCgkroao+Why0BsMBqSnp+PmzZu2qMdpKBQK84TiJfbpG+RS3URsdBAnYokcyeqgnzlzJv75z38CMIX84MGD0aNHD0RFRWH37t22rk/WuMTSOuIHIvvzRI5lddBv3rwZCQkJAIDvvvsO2dnZOHv2LGbNmoWXX37Z5gXKmbhyhOelbxiuoSeShtVBX1xcjLCwMADADz/8gDFjxqB9+/aYPHkyTpw4YfMC5SymrgWRxdZNg4hLUbm0ksixrA760NBQnD59GgaDAdu3b8eDDz4IAKisrIRS2byu/2lu3TDo62WxtJI9eiKHUln7gqeffhpjx45FeHg4FAoFkpOTAQCHDx9Gx44dbV6gnP22xLIS+lojPFRcxHQ3uTcqzUsrg33VUpdD1KxYnUwLFy7EP/7xD0ydOhX79++HWm36o1UqlZg3b57NC7xy5QomTpyIli1bwsvLC127dsXRo0dtvp/GCPZTw8dDCaPAA6fqk10srrjh0koiR7N6RA8Af/7zny3ul5SUYNKkSTYp6FY3b95EUlIS7r//fmzbtg3BwcE4f/48WrRoYfN9NYZCoUB0kA9OXS3FpeIKtAvxlbok2brE/jyRZKwe0S9btgybNm0y3x87dixatmyJVq1a4ddff7VpccuWLUNUVBQ++eQT9OnTBzExMRg2bBhiY2Ntup+mEIOL57y5N3HCOpZBT+RwVgf9mjVrEBUVBQDYsWMHduzYgW3btuGhhx7Ciy++aNPivv32W/Tq1QtjxoxBSEgIEhMTsXbt2nu+RqfTobS01OJmTzF1E7JceXNv2cXlAICYYAY9kaNZHfQFBQXmoN+6dSvGjh2LYcOGYe7cuThy5IhNi8vKysLq1asRFxeHH3/8Ec899xxeeOEFrFu37q6vSUlJgUajMd/EWu2lbbA4oi+3636cnfiNJyaI7S0iR7M66Fu0aIHc3FwAwPbt282rbgRBgMFg2+unGo1G9OjRA0uWLEFiYiKmTp2KZ555BmvWrLnra+bPnw+tVmu+ibXaSwxbN/Wq0NWisNR0QfAYHixF5HBWT8aOHj0a//Vf/4W4uDhcv34dI0aMAACkpaWhXbt2Ni0uPDwcnTt3ttjWqVMnfPnll3d9jVqtNq8EcoS2dSPUwlIdKnS18FE3an7bpYkfgi19PKDxdpe4GqLmx+oR/XvvvYfp06ejc+fO2LFjB3x9TUGXn5+Pv/zlLzYtLikpCZmZmRbbzp07hzZt2th0P02h8XZHSx/TKXc5qr+zLK64IZKU1cNPd3f3O066zpo1yyYF/f5nDhgwAEuWLMHYsWORmpqKjz/+GB9//LHN99UUMUE+uF6hR1ZxBeIjNVKXIztZ10zzF20Z9ESSaNShnBcvXsTzzz+P5ORkJCcn44UXXkBWVpata0Pv3r2xZcsWfP7554iPj8eiRYuwYsUKTJgwweb7agrzhOw1jujvJKvu99I2mBOxRFKwekT/448/4tFHH0X37t2RlJQEANi/fz86d+6M7777znzuG1t5+OGH8fDDD9v0Z9qauJLk4jWuvLmTrLoVSW25tJJIElYH/bx58zBr1iwsXbr0tu0vvfSSzYPeGcQGi2vpGfQWDAYIv/yC7PwKAArEBnpJXRFRs2R16+bMmTOYMmXKbdsnT56M06dP26QoZyO2JLKvVUAQBImrkYmvvgKio1H46BhUGBVQGg1o3S/BtJ2IHMrqoA8ODkZ6evpt29PT0xESEmKLmpxO60BvKN0UqNAbzOvFm7WvvgL+/GcgLw9ZgZEAgKiSQnjk5pi2M+ypObt6FXj9daCoyGG7tLp188wzz2Dq1KnIysrCgAEDAJh69MuWLcPs2bNtXqAz8FC5oU2gN7KKK3DxWjnCNJ5SlyQdgwGYMQOo+2ZzsWUrAEDsjTzTNoUCmDkTGDUKaGbXLyACAGzYACxcCHz8MbBtG9Ctm913aXXQL1iwAH5+fli+fDnmz58PAIiIiMDChQsxY8YMmxfoLNoG+yCruAJZ18qR1C5I6nKks3cvkJdnvnsxsC7or9cdoSwIQG4uoOKBZdTMFRYCffsCaWmAna/lYXXrRqFQYNasWcjLyzOfZiAvLw/PPPMMDhw4YI8anUJsXZ/+QlEzn5DNz7e4azGiJ6LfCILpG3Btrd131aRhlZ+fn/m/z58/j0GDBtn8fDfOQgz6Zn8Wy/Bwi7vmoL/+u6DftQsYMsRBRRHJyNtvA3PnAi1aAFu3AvHxdt8lvz/bSGyIaYllsx/RDxoEtGoFXLmCCpUaV/1NE/TmoFcoTI8PGiRhkUQSGjPGNCE7ezZg57PriniRUxtpF2z6dpOvrUa5zv5fxWRLqQTefx8AkF03mg+s1KJFdZkp5AFgxQpOxFLzFR0NvPeew0IeYNDbjMbbHUF1F73Oau5HyI4eDWzejAvtTKsJ2okTsa1aAZs3mx4nIodpcOvm22+/vefj2dnZTS7G2cUG+6C4XIeL18rRrVWA1OVIa/RoXPDuBOzOQmxCe+CZXaZ2DUfyRA7X4KB/7LHH6n2OQvxq3ky1C/HF4ewbOF/YzEf0dS5cqwQAtBvQHRgYI20xRM1Yg4PeaDTasw6XEBfCJZa3ulDXwhJ/L0QkDfbobahdiGlClkEP1BiMuFS31LQdg55IUgx6G4oLNQXa5RuV0NU2z+MJRJevV6DWKMDHQ4nw5nxKCCIZYNDbUIifGn6eKhiMAi4VV0pdjqTEeYp2Ib7Nfu6GSGoMehtSKBTmfvT5ojKJq5HW+SIx6P3qeSYR2RuD3sbi6oLtXDNfeSMGfftQ9ueJpNbgoE9NTb3neWx0Oh2++OILmxTlzMQ+/YXmPqIvNL3/OAY9keQaHPT9+/fH9evXzff9/f0tLgheUlKCxx9/3LbVOaG4UI7oaw1G8wXB49i6IZJcg4P+95fIu9Ml83gZvd9aFZeKK6CvbZ7HHly+UQm9wQhPdzdEBvA6sURSs2mPnqsrgDB/T/ipVag1CshupqcsFts27UP94ObG/yeIpMbJWBtTKBRoVzeqP1fYPPv0mQXiEbFs2xDJgVXnoz99+jQKCgoAmNo0Z8+eRXm56Y+6uLjY9tU5qQ6hfkjLKTGPbJubc3UT0R3COBFLJAdWBf3QoUMt+vAPP/wwANMoVhAEtm7qtK+bkD1b0EyDvuC31g0RSa/BQc/TEDdchzBx5U3zC3p9rdE8NyH+HohIWg0O+jZt2tizDpciBtzlG5Wo0hvg5dF8zsGeVVyOWqMAP7UKYf48xw2RHDR4Mra4uBiXL1+22Hbq1Ck8/fTTGDt2LD777DObF+esgnzVaOnjAUFofmeyzCwQ+/N+bOURyUSDg/7555/HypUrzfeLioowaNAgHDlyBDqdDk899RT+7//+zy5FOqPf+vSlElfiWGdvCXoikocGB/2hQ4fw6KOPmu+vX78egYGBSE9PxzfffIMlS5bgww8/tEuRzkgMusxmNiF7Nt/0wdaRQU8kGw0O+oKCAkRHR5vv//zzzxg9ejRUKlOb/9FHH8X58+dtXqCz6hTePFfe/Na68Ze4EiISNTjo/f39UVJSYr6fmpqKvn37mu8rFArodDqbFufMxKBrTkGvrarBVW01ANOxBEQkDw0O+n79+mHlypUwGo3YvHkzysrK8MADD5gfP3fuHKKiouxSpGjp0qVQKBSYOXOmXfdjC+1DfaFQAMXlOlwrax4fgOJoPjLACxpvd4mrISJRg4N+0aJF+Pbbb+Hl5YVx48Zh7ty5aNGihfnxjRs3YvDgwXYpEgCOHDmCjz76CN26dbPbPmzJ20OFNoHeAJpPn16ceGZ/nkheGryOvlu3bjhz5gz279+PsLAwi7YNAIwfPx6dO3e2eYEAUF5ejgkTJmDt2rV488037bIPe+gY5o9L1ytxtqAUA+OCpC7H7s6IE7HhDHoiObHqpGZBQUEYNWrUbSEPACNHjkRMTIzNCrvVtGnTMHLkSCQnJ9f7XJ1Oh9LSUoubVDqFm/r0p/ObxxLLM/mmby7i+yYieWhw0B88eBBbt2612LZ+/XrExMQgJCQEU6dOtctk7MaNG3H8+HGkpKQ06PkpKSnQaDTmm73nDe5FXHkjBqArMxoFc4uqI1fcEMlKg4P+jTfewKlTp8z3T5w4gSlTpiA5ORnz5s3Dd9991+Awbqjc3FzMmDEDGzZsgKdnww6nnz9/PrRarfmWm5tr05qs0TnCFHgXispc/iIkl65XoKrGALXKDdEtvaUuh4hu0eCgT09Px9ChQ833N27ciL59+2Lt2rWYPXs2Vq5cafNrxh47dgxFRUXo0aMHVCoVVCoV9uzZg5UrV0KlUt3xGrZqtRr+/v4WN6lEBnjB31OFGoPg8qdCOG3uz/tDpeRlDojkpMGTsTdv3kRoaKj5/p49ezBixAjz/d69e9t89Dx06FCcOHHCYtvTTz+Njh074qWXXoJSKe+ThSkUCnQM90dq9g2czi81j/Bd0emrpqDvzP48kew0eOgVGhpqPlWxXq/H8ePH0a9fP/PjZWVlcHe37dppPz8/xMfHW9x8fHzQsmVLxMfH23Rf9tKlLtzFIHRV4ojelT/MiJxVg4P+D3/4A+bNm4e9e/di/vz58Pb2xqBBg8yP//rrr4iNjbVLkc5MHOGeuqqVuBL74oieSL4a3LpZtGgRRo8ejcGDB8PX1xfr1q2Dh4eH+fH//d//xbBhw+xS5K12795t933YUpcIDQDTiNdVr8J1rUyHojIdFAoeLEUkRw0O+qCgIPzyyy/QarXw9fW9rT/+73//G76+vEbo78WF+sJD6Yay6lrk3axCVKDrrUgRv620DfKBj9qqq1MSkQNYvTxCo9HccRI0MDDQYoRPJu5KN7Svu0j2ySuu2b45Vde2Eb+9EJG8cB2cA8TXBeBJF+3Tix9g8ZHszxPJEYPeAbpE1gX9FddceSOO6OM5oieSJQa9A3Q1B70WgiBIXI1taStrkHOjEgBbN0RyxaB3gI5hflC6KXC9Qo+C0mqpy7EpsR3VOtCb56AnkikGvQN4uisRF2KakP01z7X69OL7Eb+1EJH8MOgdpFsrUxCecLGg/20ilkFPJFcMegfp2ioAAPCriy2x/PVKCQCO6InkjEHvIN0ixRF9ictMyN6s0CP3RhUABj2RnDHoHaRjuB/clQrcrKxB3s0qqcuxiYy8EgBATJAPJ2KJZIxB7yBqldJ85SUxIJ2dOBErzj8QkTwx6B0oIcoUiBm5JdIWYiO/1n1gdaubfyAieWLQO1BCXSBm5Dr/hKwgCEivex8JHNETyRqD3oG6RwUAAE5c0aLW4NzXkL1SUoXich1UbgourSSSOQa9A8UG+8JXrUJVjQGZhWVSl9Mk6XXtp07h/vB0l/clHYmaOwa9A7m5Kcx9+nQn79On5ZQA+O1bChHJF4PewRKjWgAAjl8ukbaQJhI/qBJbB0haBxHVj0HvYD3aBAAA0nJvSltIE+hrjThRd4QvR/RE8segd7DudSP6rGsVKKnUS1xN45y6qoW+1ohAHw/EBPlIXQ4R1YNB72C3hqPY53Y2xy6bvo30aB3gkhc7J3I1DHoJ9GxjGtWLgelsxA+oxNYtpC2EiBqEQS8BMeiPXr4hcSXWEwTBXHcPBj2RU2DQS6BXXdBn5GpR42QHTuXdrEJhqQ7uSgUnYomcBINeArHBvtB4uaOqxoDTV53rguFHLplG8/GRGnh58EApImfAoJeAm5vCPKoXg9NZHLlkmlcQ6yci+WPQS6R3TCAAIDXb2YLeVG+v6ECJKyGihmLQS6R3XVAeuXTDaa44VVyuw4WicgC/1U9E8segl0jXSA083d1ws7LGHJ5yd7RuNN8h1A+BPh4SV0NEDcWgl4iHys28zPJQ1nWJq2mYQ1mmoO8Tw9E8kTNh0EuoX0xLAL8FqNyJH0gMeiLnIuugT0lJQe/eveHn54eQkBA89thjyMzMlLosm+kXKwb9ddn36W9U6HG2wHQO/X5tW0pcDRFZQ9ZBv2fPHkybNg2HDh3Cjh07UFNTg2HDhqGiokLq0myiWytTn/56hR7nCuXdpz9cN5qPC/FFsJ9a4mqIyBoqqQu4l+3bt1vc//TTTxESEoJjx47hvvvuk6gq21GrlOgdHYi954tx4GIxOoT5SV3SXR2sC/oBsRzNEzkbWY/of0+rNZ0DPTDQdXrEA2KDAAD7L8h7Qnb/hWIAQH8GPZHTkfWI/lZGoxEzZ85EUlIS4uPj7/o8nU4HnU5nvl9aKu9TDIgj5MNZ11FrMEKllN9nb762ChevVcBNAfRvGyR1OURkJfmlyl1MmzYNJ0+exMaNG+/5vJSUFGg0GvMtKirKQRU2TnykBhovd5TpapGRp5W6nDvad940mu/aKgAab3eJqyEiazlF0E+fPh1bt27Frl270KpVq3s+d/78+dBqteZbbm6ug6psHKWbAgPbmUbJe89fk7iaO9tX17YZ2I5tGyJnJOugFwQB06dPx5YtW/Dzzz8jJiam3teo1Wr4+/tb3ORuUJwp6MWRs5wYjQL21tU1KC5Y4mqIqDFk3aOfNm0aPvvsM3zzzTfw8/NDQUEBAECj0cDLy0vi6mxnUHtTgKbllkBbWSOr9sipq6W4UaGHr1rFC40QOSlZj+hXr14NrVaLIUOGIDw83HzbtGmT1KXZVGSAF9qF+MJgFLD3grzaN3vOFQEwTRp7qGT9vwsR3YWsR/RyP1rUlu7vEIwLReXYnXkND3eLkLocs12Zpg+ewR3YtiFyVhyiycSQDiEAgN2Z12A0yuMD7kaFHsdzTBcaub+uPiJyPgx6megdHQhftQrF5Tr8ekUeyyz3nCuCIAAdw/wQEeA6cyJEzQ2DXiY8VG4YXDcpu/NMocTVmPx0xtSff6AjR/NEzoxBLyNDO5kCdcdp6YNeV2vA7rOmoB/WJUziaoioKRj0MvJAxxAo3RQ4W1CGnOuVktZy8OJ1VOgNCPFTo1ukRtJaiKhpGPQyEuDtgb51F/X48VSBpLX8eMr0rSK5cyjc3BSS1kJETcOgl5mH4k1tkm0n8yWrodZgxH/qPmj+EB8uWR1EZBsMepkZ3iUMCgVwPKcEV0uqJKkhNfsGrlfo0cLbHX3bus4poYmaKwa9zIT6e6J3G1O4/nBCmlH91rr9DuscBncZnjaZiKzDv2IZejjB1C75LuOqw/etrzWaP2AeSZDPEbpE1HgMehkaER8OpZsCGXlaZBc79vq4+y5cQ0llDYJ81byaFJGLYNDLULCf2nyO+q/Trjh0318dN+3v4W6mDxsicn4Mepn6Y2IkAOCrtDyHnftGW1WD/9QdrPWnHve+wAsROQ8GvUwN7xIGP7UKuTeqcCjLMRcO3/rrVehrjWgf6ov4SPlfsIWIGoZBL1NeHko80t00GbrpqGMuh7gx1bSfMT2joFCwbUPkKhj0Mja+t+nC5ttOFOB6uc6u+zqRp8WJK1p4KN3wp55s2xC5Ega9jHVrFYBurTTQG4z44mieXfe1/uAlAKYjcwN9POy6LyJyLAa9zE3s1wYA8H8HL6HWYLTLPq6X6/BN3Zr9SQPa2GUfRCQdBr3MPZoQgZY+Hriqrca2k/Y50dmGwznQ1xoRH+nPC4ATuSAGvcx5uivxRH/TKPujXy7a/Dq61TUGfHrgEgDgmUFtOQlL5IIY9E7gyf7R8HJX4uSVUuw5d82mP/vz1BzcqNCjVQsvjOzKM1USuSIGvRMI9PHAhL6tAQDv/XTeZqP66hoD/r77IgDguSGxUPEEZkQuiX/ZTuLZwbHwclciI7fEfPRqU32y/xKulekQGeCFMT2jbPIziUh+GPROIthPjSkDYwAAKT+cgb62aStwist1+PuuCwCAvw5rDw8V/1cgclX863Yi/zMkFsF+aly6Xol/7Mtq0s9K+eEsynS1iI/0x2PdI21UIRHJEYPeifiqVZg/oiMA4P2fziPrWnmjfs6+88X48ngeFApg0ah4XhOWyMUx6J3MHxMjMSguCLpaI2ZuSre6hXOzQo85mzMAAE/0a4NErpsncnkMeiejUCiw7E/doPFyx695Wrz+3akGr8KpNRjxwsY05GurERPkg3l13w6IyLUx6J1QRIAX3h2bAIXCdFSruETyXoxGAfO/OoG954vh5a7E6ok94O2hckC1RCQ1Br2TGtopFH8b0QkA8PaPmVi2/SwMd7lASaW+FjM2pePfx/LgpgDeH98dHcN4vnmi5oJDOif2zH1toas14J3/nMPq3RdxKOs65gzrgH5tW8LNTYEagxE7zxTire2ZyCqugMpNgeVjEzCsS5jUpRORAykEW588RWZKS0uh0Wig1Wrh7++ao9hv0q/glS0nUaarBQBovNwR5OuBfG01KvUGAECInxrvj0/kBb+JXIC1ueYUrZsPP/wQ0dHR8PT0RN++fZGamip1SbIyqnsk/jP7Pkzs1xp+ahW0VTW4eK0ClXoDgnw9MO3+WPz018EMeaJmSvYj+k2bNuHJJ5/EmjVr0LdvX6xYsQL//ve/kZmZiZCQkHpf3xxG9LfS1xpxoagc2qoaBPl6oG2wL5RcJ0/kUqzNNdkHfd++fdG7d2988MEHAACj0YioqCg8//zzmDdvXr2vb25BT0Suz6VaN3q9HseOHUNycrJ5m5ubG5KTk3Hw4ME7vkan06G0tNTiRkTUnMk66IuLi2EwGBAaGmqxPTQ0FAUFd77aUkpKCjQajfkWFcWzMhJR8ybroG+M+fPnQ6vVmm+5ublSl0REJClZr6MPCgqCUqlEYaHl+dcLCwsRFnbnteBqtRpqtdoR5REROQVZj+g9PDzQs2dP7Ny507zNaDRi586d6N+/v4SVERE5D1mP6AFg9uzZmDRpEnr16oU+ffpgxYoVqKiowNNPPy11aURETkH2QT9u3Dhcu3YNr776KgoKCtC9e3ds3779tglaIiK6M9mvo28qrVaLgIAA5Obmch09EbmE0tJSREVFoaSkBBqNpt7ny35E31RlZWUAwGWWRORyysrKGhT0Lj+iNxqNuHr1Kvz8/KBQOMepAMRPa1f4FuJK7wVwrffjSu8FcK33U997EQQBZWVliIiIgJtb/WtqXH5E7+bmhlatWkldRqP4+/s7/f+wIld6L4BrvR9Xei+Aa72fe72XhozkRbJeXklERE3HoCcicnEMehlSq9V47bXXXOIIX1d6L4BrvR9Xei+Aa70fW78Xl5+MJSJq7jiiJyJycQx6IiIXx6AnInJxDHoiIhfHoJeZDz/8ENHR0fD09ETfvn2RmpoqdUmNkpKSgt69e8PPzw8hISF47LHHkJmZKXVZNrF06VIoFArMnDlT6lIa7cqVK5g4cSJatmwJLy8vdO3aFUePHpW6rEYxGAxYsGABYmJi4OXlhdjYWCxatAjOsM7kl19+wSOPPIKIiAgoFAp8/fXXFo8LgoBXX30V4eHh8PLyQnJyMs6fP2/1fhj0MrJp0ybMnj0br732Go4fP46EhAQMHz4cRUVFUpdmtT179mDatGk4dOgQduzYgZqaGgwbNgwVFRVSl9YkR44cwUcffYRu3bpJXUqj3bx5E0lJSXB3d8e2bdtw+vRpLF++HC1atJC6tEZZtmwZVq9ejQ8++ABnzpzBsmXL8NZbb2HVqlVSl1aviooKJCQk4MMPP7zj42+99RZWrlyJNWvW4PDhw/Dx8cHw4cNRXV1t3Y4Eko0+ffoI06ZNM983GAxCRESEkJKSImFVtlFUVCQAEPbs2SN1KY1WVlYmxMXFCTt27BAGDx4szJgxQ+qSGuWll14SBg4cKHUZNjNy5Ehh8uTJFttGjx4tTJgwQaKKGgeAsGXLFvN9o9EohIWFCW+//bZ5W0lJiaBWq4XPP//cqp/NEb1M6PV6HDt2DMnJyeZtbm5uSE5OxsGDByWszDa0Wi0AIDAwUOJKGm/atGkYOXKkxb+RM/r222/Rq1cvjBkzBiEhIUhMTMTatWulLqvRBgwYgJ07d+LcuXMAgIyMDOzbtw8jRoyQuLKmyc7ORkFBgcX/bxqNBn379rU6E1z+pGbOori4GAaD4bYLqoSGhuLs2bMSVWUbRqMRM2fORFJSEuLj46Uup1E2btyI48eP48iRI1KX0mRZWVlYvXo1Zs+ejb/97W84cuQIXnjhBXh4eGDSpElSl2e1efPmobS0FB07doRSqYTBYMDixYsxYcIEqUtrkoKCAgC4YyaIjzUUg57sbtq0aTh58iT27dsndSmNkpubixkzZmDHjh3w9PSUupwmMxqN6NWrF5YsWQIASExMxMmTJ7FmzRqnDPovvvgCGzZswGeffYYuXbogPT0dM2fOREREhFO+H3tg60YmgoKCoFQqUVhYaLG9sLAQYWFhElXVdNOnT8fWrVuxa9cupz1d9LFjx1BUVIQePXpApVJBpVJhz549WLlyJVQqFQwGg9QlWiU8PBydO3e22NapUyfk5ORIVFHTzJkzB/PmzcP48ePRtWtXPPHEE5g1axZSUlKkLq1JxL97W2QCg14mPDw80LNnT+zcudO8zWg0YufOnejfv7+ElTWOIAiYPn06tmzZgp9//hkxMTFSl9RoQ4cOxYkTJ5Cenm6+9erVCxMmTEB6ejqUSqXUJVolKSnptqWu586dQ5s2bSSqqGkqKytvu/iGUqmE0WiUqCLbiImJQVhYmEUmlJaW4vDhw9Zngo0mjMkGNm7cKKjVauHTTz8VTp8+LUydOlUICAgQCgoKpC7Nas8995yg0WiE3bt3C/n5+eZbZWWl1KXZhDOvuklNTRVUKpWwePFi4fz588KGDRsEb29v4V//+pfUpTXKpEmThMjISGHr1q1Cdna28NVXXwlBQUHC3LlzpS6tXmVlZUJaWpqQlpYmABDeffddIS0tTbh8+bIgCIKwdOlSISAgQPjmm2+EX3/9VRg1apQQExMjVFVVWbUfBr3MrFq1SmjdurXg4eEh9OnTRzh06JDUJTUKgDvePvnkE6lLswlnDnpBEITvvvtOiI+PF9RqtdCxY0fh448/lrqkRistLRVmzJghtG7dWvD09BTatm0rvPzyy4JOp5O6tHrt2rXrjn8nkyZNEgTBtMRywYIFQmhoqKBWq4WhQ4cKmZmZVu+HpykmInJx7NETEbk4Bj0RkYtj0BMRuTgGPRGRi2PQExG5OAY9EZGLY9ATEbk4Bj0RkYtj0BMRuTgGPTUrQ4YMkc21Xq9fv46QkBBcunSpST9n/PjxWL58uW2KIpfEoCeSyOLFizFq1ChER0c36ee88sorWLx4sfkqXkS/x6AnkkBlZSX++c9/YsqUKU3+WfHx8YiNjcW//vUvG1RGrohBTy5n8+bN6Nq1K7y8vNCyZUskJyejoqLijs/V6XR44YUXEBISAk9PTwwcONDicoFDhgzB9OnTMX36dGg0GgQFBWHBggW49VyARqMRKSkpiImJgZeXFxISErB58+Z71vjDDz9ArVajX79+5m2XLl2CQqHAl19+ifvuuw9eXl7o3bs3cnJysHfvXvTr1w/e3t4YOnQoSkpKLH7eI488go0bNzbit0XNAYOeXEp+fj4ef/xxTJ48GWfOnMHu3bsxevRo3O0krXPnzsWXX36JdevW4fjx42jXrh2GDx+OGzdumJ+zbt06qFQqpKam4v3338e7776Lf/zjH+bHU1JSsH79eqxZswanTp3CrFmzMHHiROzZs+eude7duxc9e/a02JaRkQEAWL16NZYsWYIDBw6gsLAQEydOxNKlS/HBBx9g165dyMjIwCeffGLx2j59+iA1NRU6nc7q3xk1AzY8tTKR5I4dOyYAEC5dunTHx289j3x5ebng7u4ubNiwwfy4Xq8XIiIihLfeesv8/E6dOglGo9H8nJdeekno1KmTIAiCUF1dLXh7ewsHDhyw2M+UKVOExx9//K51jho1Spg8ebLFtoULFwqBgYFCcXGxedvEiROF6OhooaKiwrztoYceuu2iGhkZGfd839S8cURPLiUhIQFDhw5F165dMWbMGKxduxY3b96843MvXryImpoaJCUlmbe5u7ujT58+OHPmjHlbv379oFAozPf79++P8+fPw2Aw4MKFC6isrMSDDz4IX19f8239+vW4ePHiXeusqqq67ULjGRkZ+OMf/4iWLVuat+Xk5GDcuHHw9va22Pb7SzN6eXkBMPX+iX6PQU8uRalUYseOHdi2bRs6d+6MVatWoUOHDsjOzrbL/srLywEA33//vcU1ZU+fPn3PPn1QUNBtH0Dp6eno27evxbaMjAyLPn51dTUyMzORkJBg8Tyx1RQcHNyk90OuiUFPLkehUCApKQmvv/460tLS4OHhgS1bttz2vNjYWHh4eGD//v3mbTU1NThy5Ag6d+5s3nb48GGL1x06dAhxcXFQKpXo3Lkz1Go1cnJy0K5dO4tbVFTUXWtMTEzE6dOnzfdLS0tx6dIlJCYmmrdlZ2dDq9VabDtx4gQEQUDXrl0tft7JkyfRqlUrBAUFNeA3RM2NSuoCiGzp8OHD2LlzJ4YNG4aQkBAcPnwY165dQ6dOnW57ro+PD5577jnMmTMHgYGBaN26Nd566y1UVlZaLHvMycnB7Nmz8eyzz+L48eNYtWqV+QAlPz8/vPjii5g1axaMRiMGDhwIrVaL/fv3w9/fH5MmTbpjncOHD8f8+fNx8+ZNtGjRAhkZGVAqlYiPjzc/Jz09HYGBgWjTpo3FttjYWPj6+lr8vL1792LYsGFN+t2R62LQk0vx9/fHL7/8ghUrVqC0tBRt2rTB8uXLMWLEiDs+f+nSpTAajXjiiSdQVlaGXr164ccff0SLFi3Mz3nyySdRVVWFPn36QKlUYsaMGZg6dar58UWLFiE4OBgpKSnIyspCQEAAevTogb/97W93rbNr167o0aMHvvjiCzz77LPIyMhAhw4dLPr2GRkZFqN5cdvv2zbV1dX4+uuvsX37dqt+V9R88OLgRPcwZMgQdO/eHStWrLD5z/7+++8xZ84cnDx5Em5uje+irl69Glu2bMF//vMfG1ZHroQjeiKJjBw5EufPn8eVK1fu2c+vj7u7O1atWmXDysjVMOiJJGSLE6z993//d9MLIZfG1g0RkYvj8koiIhfHoCcicnEMeiIiF8egJyJycQx6IiIXx6AnInJxDHoiIhfHoCcicnEMeiIiF8egJyJycQx6IiIX9/8gxFXuUTxKPQAAAABJRU5ErkJggg==)"
   ]
  },
  {
   "cell_type": "code",
   "execution_count": null,
   "metadata": {
    "id": "9Kwof-YAOqu3"
   },
   "outputs": [],
   "source": [
    "# execute this cell\n",
    "plot_slope_grad(m, m.grad)"
   ]
  },
  {
   "cell_type": "markdown",
   "metadata": {
    "id": "PKyDv94jOqu3"
   },
   "source": [
    "Notice how the gradient points towards away from the minimal point, this is because gradients point towards \"steepest ascent\" (which will become more apparent when we work with 2d loss surfaces).\n",
    "To move towards the the minimal point we therefore need to move in the opposite direction, i.e. `-x.grad`.\n",
    "Create the same plot, but point the gradient in the opposite direction.\n",
    "\n",
    "![](data:image/png;base64,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)"
   ]
  },
  {
   "cell_type": "code",
   "execution_count": null,
   "metadata": {
    "id": "EUDLRsXgOqu4"
   },
   "outputs": [],
   "source": []
  },
  {
   "cell_type": "markdown",
   "metadata": {
    "id": "vHdN1xlJOqu4"
   },
   "source": [
    "Now we are pointing in the right direction, but as you can see the gradient, $\\nabla m$, is telling our slope, $m$, to become $m \\approx -6$, which clearly overshoots the minimal point.\n",
    "Therefore let's apply a learning rate, $\\alpha$, to our gradient.\n",
    "Call `plot_slope_grad()` one more time, but this time pass in the argument `learning_rate=.05`.\n",
    "\n",
    "![](data:image/png;base64,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)"
   ]
  },
  {
   "cell_type": "code",
   "execution_count": null,
   "metadata": {
    "id": "Iegany5KOqu4"
   },
   "outputs": [],
   "source": []
  },
  {
   "cell_type": "markdown",
   "metadata": {
    "id": "kCtHdxADOqu4"
   },
   "source": [
    "Now we are pointing in the right direction and with an acceptable magnitude (this learning rate is perhaps a little too small, but it is useful for our other visualizations).\n",
    "Now let's update our slope by apply the gradient, i.e. $m \\leftarrow m - \\alpha \\nabla m$.\n",
    "First print out `m - .05 * m.grad` below."
   ]
  },
  {
   "cell_type": "code",
   "execution_count": null,
   "metadata": {
    "id": "RHeyLsRKOqu4"
   },
   "outputs": [],
   "source": [
    "# execute this cell\n",
    "m - .05 * m.grad"
   ]
  },
  {
   "cell_type": "markdown",
   "metadata": {
    "id": "bi7wWtAVOqu4"
   },
   "source": [
    "You will notice this contains a `grad_fn` which means this operation was put on the computation graph because `m` is a tensor that requires gradients.\n",
    "We do not want to calculate gradients on our update step since we aren't doing meta-learning.\n",
    "\n",
    "Instead you should update `m` by accessing its `.data` variable and setting `m.data = m.data - .05 * m.grad.data`"
   ]
  },
  {
   "cell_type": "code",
   "execution_count": null,
   "metadata": {
    "id": "7EUFjBhBOqu5"
   },
   "outputs": [],
   "source": []
  },
  {
   "cell_type": "markdown",
   "metadata": {
    "id": "9z8b_25vOqu5"
   },
   "source": [
    "Now that we have updated our slope, call `plot_slope_grad()` below.\n",
    "\n",
    "![](data:image/png;base64,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)"
   ]
  },
  {
   "cell_type": "code",
   "execution_count": null,
   "metadata": {
    "id": "z_uSnnyGOqu5"
   },
   "outputs": [],
   "source": [
    "# execute this cell\n",
    "plot_slope_grad(m, None)"
   ]
  },
  {
   "cell_type": "markdown",
   "metadata": {
    "id": "hGfcKQv5Oqu5"
   },
   "source": [
    "We have take a step closer towards minimizing our loss, which means that our slope is beginning to fit our data better."
   ]
  },
  {
   "cell_type": "markdown",
   "metadata": {
    "id": "7QPGpbPfOqu5"
   },
   "source": [
    "Let's see how this function will operate for many timesteps.\n",
    "Follow the directions below and implement the `slope_optimization_step()` function."
   ]
  },
  {
   "cell_type": "code",
   "execution_count": null,
   "metadata": {
    "id": "WakbGjeeOqu6"
   },
   "outputs": [],
   "source": [
    "def slope_optimization_step(m: torch.Tensor, b, x, y, learning_rate):\n",
    "    # zero out your gradient\n",
    "    pass\n",
    "    # call your forward function\n",
    "    pass\n",
    "    # compute sse loss\n",
    "    pass\n",
    "    # call backward\n",
    "    pass\n",
    "    # apply your gradient and don't forget to use the learning_rate\n",
    "    pass"
   ]
  },
  {
   "cell_type": "markdown",
   "metadata": {
    "id": "4GK6rZfAOqu6"
   },
   "source": [
    "We will now use your `optimization_step` function to plot multiple optimization steps. Execute the cell below.\n",
    "\n",
    "![](data:image/png;base64,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)"
   ]
  },
  {
   "cell_type": "code",
   "execution_count": null,
   "metadata": {
    "id": "WEXmsmEpOqu6"
   },
   "outputs": [],
   "source": [
    "def plot_slope_optimization_steps(m, b, x, y, learning_rate, steps=4):\n",
    "    ms = [m.clone()]\n",
    "    grads = []\n",
    "    for _ in range(steps):\n",
    "        slope_optimization_step(m, b, x, y, learning_rate)\n",
    "        ms.append(m.clone())\n",
    "        grads.append(-m.grad.clone())\n",
    "\n",
    "    grads.append(None)\n",
    "    plot_slope_grad(ms, grads, learning_rate)\n",
    "\n",
    "m = torch.tensor([[2.5]]).float()\n",
    "b = torch.tensor([[0]]).float()\n",
    "m.requires_grad = True\n",
    "b.requires_grad = False\n",
    "\n",
    "plot_slope_optimization_steps(m, b, x, y, learning_rate=.05, steps=4)"
   ]
  },
  {
   "cell_type": "markdown",
   "metadata": {
    "id": "z12r6KeZOqu6"
   },
   "source": [
    "Now if we had a smaller learning rate ($\\alpha = .02$), it will take us more gradient steps to solve the problem. Execute the cell below to see.\n",
    "\n",
    "![](data:image/png;base64,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)"
   ]
  },
  {
   "cell_type": "code",
   "execution_count": null,
   "metadata": {
    "id": "Pz4XZdjZOqu7"
   },
   "outputs": [],
   "source": [
    "m = torch.tensor([[2.5]]).float()\n",
    "m.requires_grad = True\n",
    "\n",
    "plot_slope_optimization_steps(m, b, x, y, learning_rate=.02, steps=8)"
   ]
  },
  {
   "cell_type": "markdown",
   "metadata": {
    "id": "GHAgdtfgOqu7"
   },
   "source": [
    "But if our learning rate is too large ($\\alpha = .42$), then the parameter will bounce away from the minimal point. Execute the cell below to see. *Note that $m$ starts at 1 in this case*.\n",
    "\n",
    "![](data:image/png;base64,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)"
   ]
  },
  {
   "cell_type": "code",
   "execution_count": null,
   "metadata": {
    "id": "__ExxMDMOqu7"
   },
   "outputs": [],
   "source": [
    "m = torch.tensor([[1]]).float()\n",
    "m.requires_grad = True\n",
    "\n",
    "plot_slope_optimization_steps(m, b, x, y, learning_rate=.42, steps=4)"
   ]
  },
  {
   "cell_type": "markdown",
   "metadata": {
    "id": "TomPDXHDOqu7"
   },
   "source": [
    "Now let's work with on optimizing the slope $m$ and intercept $b$.\n",
    "Execute the cell below to see what the gradient tells us about $m$ and $b$.\n",
    "\n",
    "![](data:image/png;base64,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)"
   ]
  },
  {
   "cell_type": "code",
   "execution_count": null,
   "metadata": {
    "id": "D5Z2tn1fOqu7"
   },
   "outputs": [],
   "source": [
    "m = torch.tensor([[2.]]).float()\n",
    "b = torch.tensor([[1]]).float()\n",
    "m.requires_grad = True\n",
    "b.requires_grad = True\n",
    "y_hat = forward(m, b, x)\n",
    "loss = sse_loss(y_hat, y)\n",
    "loss.backward()\n",
    "plot_grad(m, b, m.grad, b.grad, learning_rate=.02)"
   ]
  },
  {
   "cell_type": "markdown",
   "metadata": {
    "id": "lnHwUPStOqu7"
   },
   "source": [
    "As stated before, the gradient points towards steepest ascent, and as you can imagine if we looked at the negative gradient it would point (indirectly) towards the minimal point of the loss.\n",
    "\n",
    "Let's visualize what gradient descent looks like for multiple steps.\n",
    "Follow the directions below and implement the `optimization_step()` function."
   ]
  },
  {
   "cell_type": "code",
   "execution_count": null,
   "metadata": {
    "id": "xY3HMSY4Oqu8"
   },
   "outputs": [],
   "source": [
    "def optimization_step(m: torch.Tensor, b: torch.Tensor, x, y, learning_rate):\n",
    "    # zero out your gradients\n",
    "    pass\n",
    "    pass\n",
    "    # call your forward function\n",
    "    pass\n",
    "    # compute sse loss\n",
    "    pass\n",
    "    # call backward\n",
    "    pass\n",
    "    # apply your gradients\n",
    "    pass\n",
    "    pass"
   ]
  },
  {
   "cell_type": "markdown",
   "metadata": {
    "id": "f2HEUiTjOqu8"
   },
   "source": [
    "We will now use your `optimization_step` function and plot what it looks like to perform multiple gradient descent steps.\n",
    "You can set the argument `plot_grads=False` to make the plot less noisy.\n",
    "\n",
    "![loss1](data:image/png;base64,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)"
   ]
  },
  {
   "cell_type": "code",
   "execution_count": null,
   "metadata": {
    "id": "uoB7N3q0Oqu8"
   },
   "outputs": [],
   "source": [
    "def plot_optimization_steps(m, b, x, y, learning_rate, steps=4, plot_grads=True, figsize=(8, 8)):\n",
    "    ms = [m.clone()]\n",
    "    bs = [b.clone()]\n",
    "    m_grads = []\n",
    "    b_grads = []\n",
    "    for _ in range(steps):\n",
    "        optimization_step(m, b, x, y, learning_rate)\n",
    "        ms.append(m.clone())\n",
    "        bs.append(b.clone())\n",
    "        m_grads.append(-m.grad.clone())\n",
    "        b_grads.append(-b.grad.clone())\n",
    "\n",
    "    m_grads.append(None)\n",
    "    b_grads.append(None)\n",
    "    if plot_grads:\n",
    "        plot_grad(ms, bs, m_grads, b_grads, learning_rate, figsize=figsize)\n",
    "    else:\n",
    "        plot_grad(ms, bs, None, None, learning_rate, figsize=figsize)\n",
    "\n",
    "m = torch.tensor([[2.5]]).float()\n",
    "b = torch.tensor([[2]]).float()\n",
    "m.requires_grad = True\n",
    "b.requires_grad = True\n",
    "\n",
    "plot_optimization_steps(m, b, x, y, .02, steps=10, plot_grads=True)"
   ]
  },
  {
   "cell_type": "markdown",
   "metadata": {
    "id": "3QmzOZ1-Oqu8"
   },
   "source": [
    "After 10 optimization steps, we were not able to reach the minimal loss, so let's start over and optimize for 100 steps.\n",
    "\n",
    "![loss2](data:image/png;base64,iVBORw0KGgoAAAANSUhEUgAAAroAAALBCAYAAAC3GAIbAAAAOXRFWHRTb2Z0d2FyZQBNYXRwbG90bGliIHZlcnNpb24zLjcuMSwgaHR0cHM6Ly9tYXRwbG90bGliLm9yZy/bCgiHAAAACXBIWXMAAA9hAAAPYQGoP6dpAABgO0lEQVR4nO3dd3xVhf3/8fcNkEVIAAlLdqQgspSNiCAI1ZZKbbXDgah8qV+0UqoW+hUpdeCqo9YfUhVQW+ssapeKyBAHRRkCCgqiYctMIECA3PP7A2/Mzj33nn1ez8cjDyXcXA4ZN698+JxzI4ZhGAIAAAACJsXtAwAAAADsQOgCAAAgkAhdAAAABBKhCwAAgEAidAEAABBIhC4AAAACidAFAABAIBG6AAAACCRCFwAAAIFE6AIAqvXMM8+oc+fOqlevnho2bOj24QCAKYQugNCbO3euIpGIPvzwQ7cPpVZLly7VBRdcoFNPPVXp6elq06aNRo0apWeffdbyP2v9+vW66qqrlJeXp8cff1x//vOfLf8zAMBOdd0+AABAfF588UX95Cc/Uc+ePXXjjTeqUaNG2rx5s5YsWaLHH39cP//5zy398xYtWqRoNKqHH35Yp512mqX3DQBOIHQBwCd+97vfqUuXLvrggw+Umppa7ve+/vpry/6coqIi1a9fv/Q+WVkA4FesLgBAnFauXKkLLrhA2dnZysrK0rBhw/TBBx+Uu83x48c1ffp0dezYUenp6TrllFM0aNAgzZ8/v/Q2O3fu1NixY9WqVSulpaWpRYsWuuiii/Tll1/W+Odv2rRJffr0qRS5ktS0adPS/1+0aJEikYgWLVpU7jZffvmlIpGI5s6dW/q6q666SllZWdq0aZMuvPBCNWjQQJdddpnatWunadOmSZJyc3MViUT0u9/9TpL06quv6nvf+55atmyptLQ05eXl6fbbb1dJSUml41q2bJkuvPBCNWrUSPXr11f37t318MMPl7vN+vXr9eMf/1iNGzdWenq6evfurddee63G9wUAxIOJLgDEYd26dTrnnHOUnZ2tW265RfXq1dOsWbM0ZMgQLV68WP369ZN0cuo6Y8YMXXvtterbt68KCwv14YcfasWKFTr//PMlST/60Y+0bt063XDDDWrXrp2+/vprzZ8/X/n5+WrXrl21x9C2bVstWLBAW7duVatWrSz7u504cUIjR47UoEGDdP/99yszM1NXXXWVnn76ac2bN08zZ85UVlaWunfvLunkTnNWVpYmTZqkrKwsvf3227rttttUWFio++67r/R+58+fr+9///tq0aKFbrzxRjVv3lyffvqp/vnPf+rGG28sfb+effbZOvXUUzV58mTVr19fL7zwgkaPHq2XX35ZP/zhDy37ewIIIQMAQm7OnDmGJGP58uXV3mb06NFGamqqsWnTptLXbd++3WjQoIExePDg0tf16NHD+N73vlft/ezfv9+QZNx3332mj/PJJ580JBmpqanG0KFDjalTpxrvvPOOUVJSUu52CxcuNCQZCxcuLPf6zZs3G5KMOXPmlL5uzJgxhiRj8uTJlf68adOmGZKM3bt3l3v94cOHK912/PjxRmZmpnH06FHDMAzjxIkTRvv27Y22bdsa+/fvL3fbaDRa+v/Dhg0zunXrVvp2sd8fOHCg0bFjxxrfHwBQG1YXAKAWJSUlevPNNzV69Gh16NCh9PUtWrTQz3/+cy1dulSFhYWSTu6zrlu3Tp9//nmV95WRkaHU1FQtWrRI+/fvN3UcV199tV5//XUNGTJES5cu1e23365zzjlHHTt21HvvvZf4X1DSddddF/dtMzIySv//4MGD2rNnj8455xwdPnxY69evl3RyzWPz5s2aOHFipR3fSCQiSdq3b5/efvttXXrppaX3s2fPHu3du1cjR47U559/rm3btiX19wIQboQuANRi9+7dOnz4sDp16lTp904//XRFo1Ft2bJFkvT73/9eBw4c0He+8x1169ZNN998sz7++OPS26elpemee+7Rf/7zHzVr1kyDBw/Wvffeq507d8Z1LCNHjtQbb7yhAwcOaMmSJZowYYK++uorff/730/4hLS6deuaWoVYt26dfvjDHyonJ0fZ2dnKzc3V5ZdfLkkqKCiQdHKfWJK6du1a7f1s3LhRhmFo6tSpys3NLfcS2w+28iQ7AOFD6AKAhQYPHqxNmzZp9uzZ6tq1q5544gmdddZZeuKJJ0pvM3HiRH322WeaMWOG0tPTNXXqVJ1++ulauXJl3H9OZmamzjnnHP3pT3/Srbfeqv379+s///mPpG8nphVVdbKYdDK+U1Li+3Zw4MABnXvuuVq9erV+//vf6x//+Ifmz5+ve+65R5IUjUbj/jvEbnvTTTdp/vz5Vb5wWTMAyeBkNACoRW5urjIzM7Vhw4ZKv7d+/XqlpKSodevWpa9r3Lixxo4dq7Fjx+rQoUMaPHiwfve73+naa68tvU1eXp5+/etf69e//rU+//xz9ezZU3/4wx/0l7/8xfTx9e7dW5K0Y8cOSVKjRo0knYzSsr766ivT913RokWLtHfvXv3973/X4MGDS1+/efPmcrfLy8uTJK1du1bDhw+v8r5iayD16tWr9jYAkAwmugBQizp16mjEiBF69dVXy10CbNeuXXr22Wc1aNAgZWdnS5L27t1b7m2zsrJ02mmnqbi4WJJ0+PBhHT16tNxt8vLy1KBBg9LbVGfBggVVvv7f//63JJWuVrRt21Z16tTRkiVLyt3u//2//1fL37R2derUkSQZhlH6umPHjlW677POOkvt27fXQw89VCm4Y2/btGlTDRkyRLNmzSqN9LJ2796d9PECCDcmugDwjdmzZ+v111+v9Pobb7xRd9xxh+bPn69Bgwbpf//3f1W3bl3NmjVLxcXFuvfee0tv26VLFw0ZMkS9evVS48aN9eGHH+qll17S9ddfL0n67LPPNGzYMF166aXq0qWL6tatq3nz5mnXrl366U9/WuPxXXTRRWrfvr1GjRqlvLw8FRUV6a233tI//vEP9enTR6NGjZIk5eTk6JJLLtEjjzyiSCSivLw8/fOf/7Rk33XgwIFq1KiRxowZo1/+8peKRCJ65plnyoWvJKWkpGjmzJkaNWqUevbsqbFjx6pFixZav3691q1bpzfeeEOS9Oijj2rQoEHq1q2bxo0bpw4dOmjXrl16//33tXXrVq1evTrpYwYQYu5e9AEA3Be7vFh1L1u2bDEMwzBWrFhhjBw50sjKyjIyMzONoUOHGu+99165+7rjjjuMvn37Gg0bNjQyMjKMzp07G3feeadx7NgxwzAMY8+ePcaECROMzp07G/Xr1zdycnKMfv36GS+88EKtx/m3v/3N+OlPf2rk5eUZGRkZRnp6utGlSxfj//7v/4zCwsJyt929e7fxox/9yMjMzDQaNWpkjB8/3li7dm2VlxerX79+lX9edZcXe/fdd43+/fsbGRkZRsuWLY1bbrnFeOONN6q8pNnSpUuN888/32jQoIFRv359o3v37sYjjzxS7jabNm0yrrzySqN58+ZGvXr1jFNPPdX4/ve/b7z00ku1vk8AoCYRw6jwYzgAAAAQAOzoAgAAIJAIXQAAAAQSoQsAAIBA8m3ozpw5U927d1d2drays7M1YMCA0oulAwAAAL49Ge0f//iH6tSpo44dO8owDD311FO67777tHLlSp1xxhluHx4AAABc5tvQrUrjxo1133336ZprrnH7UAAAAOCyQDxhRElJiV588UUVFRVpwIAB1d6uuLi43DMPRaNR7du3T6ecckq1zw0PAAAA9xiGoYMHD6ply5ZKSTG3devr0F2zZo0GDBigo0ePKisrS/PmzVOXLl2qvf2MGTM0ffp0B48QAAAAVtiyZYtatWpl6m18vbpw7Ngx5efnq6CgQC+99JKeeOIJLV68uNrYrTjRLSgoUJs2bdTusV8rJSPNqcMOtU7NeO56AN8695TP3D4EAB539NAJ/W7ouzpw4IBycnJMva2vQ7ei4cOHKy8vT7NmzYrr9oWFhcrJyVGHp36rOpnpNh8dKjq9+S63DwGAR5zXZL3bhwDAo44eOqHJfRaroKBA2dnZpt7Wt5cXq0o0Gi03sYW3fbqzmT7d2cztwwDgAW/v6ay393R2+zAABIxvd3SnTJmiCy64QG3atNHBgwf17LPPatGiRXrjjTfcPjSYVDZ2mfIC4RaLXSa8AKzg29D9+uuvdeWVV2rHjh3KyclR9+7d9cYbb+j88893+9CQhFj0ErxAuBG8AKzg29B98skn3T4E2IgpLwCJ4AWQnEDt6CKY2OUFwA4vgET4dqKL8GHKC4AJLwAzmOjCl5jyAuHGhBdAPJjowteY8gLhxoQXQE2Y6CIwmPIC4cWEF0BVmOgicJjyAuHFhBdAWUx0EWhMeYFwYsILQCJ0ERIELxBOBC8QbqwuIFRYawDCiZUGIJyY6CK0mPIC4cOEFwgXJroIPaa8QPgw4QXCgYkuUAZTXiBcmPACwcZEF6gCU14gXJjwAsHERBeoBVNeIDyY8ALBQugCcSJ4gfAgeIFgYHUBMIm1BiA8WGkA/I2JLpAEprxAODDhBfyJ0AUsQPAC4UDsAv7C6gJgIdYagOBjnQHwDya6gE2Y8gLBxjoD4H1MdAGbMeUFgo0JL+BdTHQBBzHlBYKLCS/gPYQu4AKCFwgughfwDlYXABex1gAEFysNgPuY6AIewZQXCCYmvIB7CF3AYwheIJgIXsB5rC4AHsVaAxBMrDQAzmGiC/gAU14geJjwAvYjdAEfIXiB4CF4AfsQuoAPEbxA8BC8gPXY0QV8jD1eIHjY4QWsw0QXCAimvECwMOEFkkfoAgFD8ALBQvACiWN1AQgo1hqAYGGlATCPiS4QAkx5geBgwgvEj9AFQoTgBYKD2AVqx+oCEEKsNQDBwDoDUDMmukDIMeUF/I91BqBqhC4ASQQvEAQEL1AeoQugHIIX8D+CFziJHV0AVWKPF/A/dngRdkx0AdSKKS/gb0x4EVaELoC4EbyAvxG8CBtCF4BpBC/gbwQvwoLQBZAwghfwN4IXQcfJaACSxolrgL9x0hqCiokuAEsx5QX8iwkvgobQBWALghfwL2IXQUHoArAVwQv4E9NdBAE7ugAcwR4v4E/s78LPmOgCcBxTXsB/mPDCjwhdAK4heAH/IXjhJ4QuANcRvID/ELzwA0IXgGcQvID/ELzwMk5GA+A5nLgG+A8nrcGLCF1JJTszZaSn13ibui0PO3Q0AMqKRS/BC/gDwQsvIXTjdGJ7ZrW/RwQD9iN4AX8heOEFhK4FqotgAhiwHsEL+MvbezoTu3ANoWsjAhiwD8EL+AfTXbiF0HVBVQFM/AKJ4cQ1wD8IXjiN0PUI4hdIHlNewB8IXjiF0PWwivFL+ALxIXgBfyB4YTdC10eY+gLmELyAPxC8sAuh63NMfYHaEbyAPxC8sBqhGzCEL1A9ghfwB4IXViF0A451B6AyghfwB4IXySJ0Q6hs/BK9CDMuTQb4A086gUQRuiHHqgNwElNewNuY7iIRhC7KIXwRdgQv4G0EL8wgdFEjwhdhRfAC3kbwIh6ELkxhvxdhQ/AC3kbwoiaELhLGtBdhQvAC3kbwoiqELizDtBdhQPAC3kbwoixCF7Zg2oug49JkgLcRvJCkFLcPAOFwYntm6QsQNJ/ubFYufAF4Ryx4EU5MdOE4VhwQVKw1AN7EdDe8CF24ihUHBBHBC3gTwRs+hC48hWkvgoTgBbyJ4A0PQheeRfQiKAhewJsI3uAjdOELRC+CgOAFvIngDS6uugDf4QoO8Duu0gB4E1doCB4muvA1Jr3wMya8gPcw3Q0WQheBQfTCrwhewHsI3mAgdBFIXLYMfkTwAt5D8PoboYtQYNoLP+HphQHvIXj9idBF6BC98BOmvIC3ELz+Qugi1Ihe+AXBC3gLwesPXF4M+AaXLIMfcGkywFve3tOZy5J5GKELVMB1euEHBC/gLcSuN7G6ANSA1QZ4HSsNgHewzuA9hC4QJ6IXXkbwAt7hZvBGSgy1/OiA6u8uVlFumrb3aiijTsTx4/AK34bujBkz9Pe//13r169XRkaGBg4cqHvuuUedOnVy+9AQAkQvvIrgBbzD6eDNe/NrnTvjMzXYWVz6uoPN07R4yne0aURTR47Ba3y7o7t48WJNmDBBH3zwgebPn6/jx49rxIgRKioqcvvQEDLs88KL2OEFvMOJE9by3vxa35u4RlllIleSsnYV63sT1yjvza9t/fO9yrcT3ddff73cr+fOnaumTZvqo48+0uDBg106KoQZU154ERNewDve3tPZlulupMTQuTM+kwyp4pJCxJCMiHTujM/0xbDc0K0x+DZ0KyooKJAkNW7cuNrbFBcXq7j42590CgsLbT8uhBPRC68heAFvsGOdoeVHB8qtK1QUMaQGO4vV8qMD2ta3kWV/rh/4dnWhrGg0qokTJ+rss89W165dq73djBkzlJOTU/rSunVrB48SYcXlyuAlrDQA3mDlOkP93dVHbiK3C5JAhO6ECRO0du1aPffcczXebsqUKSooKCh92bJli0NHCJxE9MIrCF7AG6wI3qLcNEtvFyS+X124/vrr9c9//lNLlixRq1atarxtWlqa0tLC90GGN8Vil9UGuImVBsAbkllp2N6roQ42T1PWrmJFjMq/b0SkQ81OXmosbHw70TUMQ9dff73mzZunt99+W+3bt3f7kICEMOWFFzDhBbwhkQmvUSeixVO+c/L/K5xrFvv14infCd2JaJKPQ3fChAn6y1/+omeffVYNGjTQzp07tXPnTh05csTtQwMSRvTCbQQv4A1mg3fTiKb610PddKhZ+X+5PtQsTf96qFtor6MbMQyjiiG390UiVf9UMmfOHF111VVx3UdhYaFycnLU9p47lJKebuHRAdZhtQFuYqUBcJ+ZdYYgPjPa0UMnNLnPYhUUFCg7O9vU2/p2R9enfQ6YxqXK4CZ2eAH3mdnfNepEQncJsZr4NnSBMCJ64RaCF3Cf008pHAS+3dEFwo5dXriBHV7AfU48pXBQMNEFfI4pL9zAhBdwHxPe2jHRBQKEKS+cxoQXcB/T3eox0QUCiCkvnMaEF3AX092qMdEFAo4pL5zEhBdwF/u75THRBUKCKS+cxIQXcBcT3pOY6AIhxJQXTmHCC7gr7BNeJrpAiDHlhVOY8ALuCuuEl4kuAEnfTnmZ9MJOTHgBd4VtukvoAqiE4IXdCF7APWFaZ2B1AUC1WG2A3VhpANwThnUGJroA4sKUF3Ziwgu4J8gTXkIXgCkEL+xE8ALuCWLwEroAEsLJa7ATwQu4J0ixS+gCSBrBC7sQvIA7gjLdJXQBWIbghV0IXsAdfg9erroAwHJcrQF24SoNgDv8eoUGJroAbMWUF3Zgwgu4w28TXkIXgCM4eQ12IHgBd/gldgldAI4jeGE1ghdwnh+mu+zoAnANu7ywGju8gPO8vL/LRBeAJzDlhZWY8ALO8+KEl9AF4CkEL6xE8ALO81LwEroAPImT12Alghdwnhdil9AF4HkEL6xC8ALOcnu6S+gC8A2CF1YheAFnuRW8XHUBgO9wtQZYhas0AM5y+goNTHQB+BpTXliBCS/gLKemu4QugEAgeGEFYhdwjhPrDIQugEAheJEspruAs+wMXnZ0AQQSe7xIFvu7gLPs2N9logsg8JjyIhlMeAFnWTnhJXQBhAbBi2QQvICzrIhdVhcAhA5rDUgGKw2Ac97e01nHi45JWpzQ2zPRBRBqTHmRKCa8gPcRugAggheJI3gB7yJ0AaAMgheJIngB72FHFwCqwB4vEsUOL+AdTHQBoBZMeZEIJryA+whdAIgTwYtEELyAewhdADCJ4EUiiF3AeYQuACSI4IVZTHcBZ3EyGkIhc2vyP9MdbhW14EgQRLHY5aQ1xIsT1gBnELoIFCuCNpH7JoIhcaUGmEfwAvYidOF7dsatFcdABIcTU16YQfAC9iB04WteiNzaVHWMxG94ELwwg+AFrEXowrf8ELnVIX7Dh+CFGQQvYA1CF77k58itTsW/E+EbTAQvzCB4geQQuvCVIAZudZj6BhsnrsEMghdIDKEL3whT5FaHqW8wMeVFvAhewBzKAb5A5FYtc2tKuRf4G09AgXjxpBNAfJjowvMIuPiVfV8x7fUvJryIB9NdoHaELjyLwE0Oaw7+R/AiHgQvUD1CF55E5FqPaa9/EbyIB8ELVEboAiHEtNefCF7Eg+AFvkXoAmDa6zMEL+JB8AJcdQEeRWy5h6s4+AdXaUA8Pt3ZjKs0ILT4TgagWly+zB8IXsSD2EUYsboAIG6sOHgbz7aG2rDOgLAhdAEkhOj1NvZ4UROCF2FB6AJIGtHrXQQvakLwIugIXUl1mh+WcSDd7cMAAoHo9SaCFzUheBFUnF3yDR78vYdI8j9OYvMeTlxDTbhCA4KG70BlELuAPbhyg/cQvKgJwYug4LtOBXVbHiZ4ARsRvd5C8KImxC78ju801SB2AfsRvd5B8KI6THfhZ3x3qQGx6z72dMOD4PUGghfVIXjhR3xXqQWx6z5iN1yY8noDwYvqELzwE76TxIHYBdxB9LqP4EV1CF74Ad894kTsuoupLohedxG8qA7BCy/jO4YJXJEB8Aai1z0EL6pD7MKL+C6RAGLXHUx1URWC1x0EL6rCdBdew3eHBBG7gLcw5XUHwYuqELzwCr4jJIHYdR5TXcSD4HUewYuqELxwG98JkkTsOo/YRbyY8jqP4EVVCF64hUd/CxC7gPcRvM4ieFEVYhdO41HfIlyRwVlMdZEoprzOInhREdNdOIlHeosRu4B/ELzOIXhREcELJ/AIbwNi1xlMdWEVgtc5BC8qInhhJx7ZbULsOoPYhZVYa3AOwYuKCF7YgUdzGxG7ziB2YQeC1xkELyoidmElHsVtxklqziB2YRemvM4geFEW011YhUduhxC79iN2YTeC134EL8oieJEsHrEdROzaj9iFE5jy2o/gRVkELxLFo7TDiF0gWAheexG8KIvghVk8OruAvV17MdWFG5jy2ovgRVnELuLFI7KLiF37ELtwE8FrH4IXMUx3EQ8eiV1G7NqH2IXbCF77ELyIIXhREx6BPYDYtQ+xCy8geO1D8CKG4EVVeOT1CPZ27UPswisIXvsQu4ghdlEWj7geQ+wCwUfw2oPpLmKY7iLG14+0S5Ys0ahRo9SyZUtFIhG98sorbh+SJYhd6zHVhRdxpQZ7ELyIIXjh60fXoqIi9ejRQ48++qjbh2I5Ytd6h1tFCV54FsFrPYIXMQRveNV1+wCSccEFF+iCCy5w+zBsE4tdHqitdbhVlKCAZ8U+N/mhzDqxx1AGCIjF7unNd7l8JHCKr0PXrOLiYhUXF5f+urCw0MWjiV/dloeJXYsRu/C6sp+fRK81CN7wSimJqvf6r5S7/6B2N2qgD0vaqtOpu90+LDggVKE7Y8YMTZ8+3e3DSAixaz1iF37BlNdaBG+4jFj2if5vzr/VYu+3w60dp2TrzrEX6s1+XZjuBlyovstPmTJFBQUFpS9btmxx+5BM4RJk1iMc4Cfs8VqLHd7gG7HsE/3x/ufUbG/5f8FttrdQf7z/OY1Y9gn7uwEXqkfMtLQ0ZWdnl3vxI2LXWsQu/IbgtRbBG0wpJVH935x/n/z/ir/3zX9/O+ffSik5+T2A4A2mUK0uBAmrDNZijcEaWduS/6Hh0Kl8HOLFSoO1WGkIlt7rvyq3rlBRiqSWewvVe/1X+u8Z7Utf/+nOZqwzBIivQ/fQoUPauHFj6a83b96sVatWqXHjxmrTpo2LR+YMYtdaxG5irIjb2u6P+K0ZwWstgjcYcvcfTPh2XJ0hOHwduh9++KGGDh1a+utJkyZJksaMGaO5c+e6dFTO4hJk1iJ242N13Cb65xHA5XGlBmud2J5J7PrY7kYNkr4dwet/vg7dIUOGyDAMtw/DE5juWofYrZrTcRuPssdE9JbHlNcaTHf968PObbXjlGw121tY5QlJUUk7T8nWh53b1npfBK9/8Z0hQHggtg5xUJ4XI7eirG3Rci84iRPXrMEJa/4TrZOiO8deePL/K/7eN/+9a+yFitaJ/+uDk9X8h0e/gOESZNYhdk/yazQSvuURvNYgeP3lzX5d9Mubfqpdp5S/ytLOU7L1y5t+qjf7dTF9n1ydwV98vbqA6rHKYA3WGIKDNYeTWGmwBisN/vFmvy56q3fn8s+M1rmtqUluVVhn8AdCN8CIXWsQu8FD9BK8ViF4/SFaJ6XcJcSsRPB6Wzgf4UOEVQZrhDkGgh6CYV9xYKXBGqw0gHUGb+LRLSSI3eSFOXbDJKzRS/Bag9gNN/Z3vYdHtRAhdpMX1tgN+lS3OmGM3ljwEr2JY7oLgtc72NENGZ5gInmx2CUEwiWMe73s8SaH/V2wv+u+cDxaoxIeeJPHN//wCtuklwlvcpjwgumue3jkCjFiN3lhit2wTDHNClvwInEEb7ixzuAOVhdCjlWG5HH5MUjhWW1gnSF5rDSEG+sMzgruozFM4QE3OXzTR1lhWG1gnSF5DBjCjQmvM3iUQiliNznELqpC8KImrDOA2LUXj04ohyeYSE7QYzfI/yRvN4IXNSF4w43prn14VEKViN3EHW4VDXTwErvJCfpaA8GbHII33Ahe6/FohGox3U1OkGMX1ghy9BK8ySF4w43YtQ6PQqgVsZu4oMYuU13rEbyoCrEbXkx3rcGjD+JC7CaO2IUZQZ3yEryJY7obbgRvcnjUQdxYZUhcUPd2iV17Ebwoi+ANN4I3MTzawDRiN3HELhIRxCkvwZs4gjfciF1zeJRBQpjuJo7YRTIIXsQQvOHFdDd+PLogKcRuYohdJIvgRQyxG14Eb+14VEHSiN3EBHVvF84ieCEx3Q07Yrd6PJrAEqwyJC5IsctU1z1B2+MleBND8IYX092q8SgCSxG7iSF2YSWCFwRveBG85fHoAcsx3U0MsQurEbwgdsOL2D2JRw3Yhtg1L0h7u8SudwQteGEO093wYrpL6MJmxG5iiF3YISjBy3Q3MQRveIU5eHmkgO1YZUgMsQu7ELzhRvCGVxhjl0cIOIbYNS8oqwzErjcF5UoNBG9iiN1wCtt0l0cGOIrpbmKIXdiN4A0nprvhFZbgrev2ASCc6rY8zIOrSYdbRX3/TTwWu34PqrIabD5S620Ots9w4EisEfvY+PkHk9jXSRB+QHRK7PGYQUT4xGL39Oa7XD4SexC6cE3sAZXgjV/sG3cQgtdvsRtP0Jp9Wy8HMMEbTgRveH26s1kgY9e/j2AIDB5QzQvCN24/BVQykVvb/ZZ98SJWGsKJAUQ4BXGdga98eAK7u+YRu85wMkC9HL0Eb/iwvxteQQpevuLhKcSuOUG4KoMfYtcNXo3eoAQv4kfwhlcQYpevdngOsWsesRtsXoxevwcv013ziN1w8vt0l69yeBKrDOYRu9bzUljGeC16Cd5wYbobXn6NXb664WnErjl+X2XwYux6GcFrHWLXHII3nPw43eUrG57HdNc8v8cuwWsOwWsNprvmEbvh5Kfg5SsavkHsmuPn2JW8Md092D7D09e6rchLaw0Eb3gw3Q0vP8QuX8nwFaa75rDKYA0/xW6MV6KX4A0PgjecvD7d5SsYvkTsmkPshpsXopfgDQ+CN5y8Grx85cK3mO6a4+fprhf2dv041a0KwZs4gtccYjecvBa7fMXC94hdc/wau5L7092gxK5E8CaD2I0f091w8tJ0l69WBALTXXOI3cQFKXYl99ca/Bq8THfNIXjDyQvBy1cpAoXYjR+rDIkLWuzGELzmEbzmELzh5Gbs8tWJwGG6a45fY1dyd7ob1NiV3A9ePyJ4zSF2w8et6S5flQgsYjd+fp/uuiXIsSu5F7x+ne5K7O+awXQ3nJwOXr4iEWhMd80hds0LeuxKBK9ZTHfLS4lG1e/zjRr10Ur1+3yjUqLlP6YEbzg5Fbt1HflTAJfVbXmYB9I4xWLXb9+oY7HrRhgdbJ/h+hMzOCH2d3Q67rO2RV0/CTERsa8hv/4AaYWRq9fotr+/ohYHCkpft6Nhjn5/8Wi90aNbudue2J7JYCJkYrF7evNdtv0Z/nvkABLEdNccv35zdiuIwjDZjXFjwuvX6a7kvx8arTJy9Ro9OvspNSsTuZLU7ECBHp39lEauXlPpbZjuhpOd6wzh/OpDqBG78fPr7i6x6wyCN35hW2dIiUZ1299fOfn/FX/vm/9O/furldYYYojdcLIjdsPzVVeDTs12u30IcBjTXXP8GrtuBG/YYlcieM0IS/D22fSFWhwoqDYyUiS1PHBAfTZ9Ue19MN0NJ6unu0l9tR0/flxbtmzRhg0btG/fPquOyRWnN99l644IvInYjR/T3fgdbJ9B8DqE4PWmpoUHLbsdwRtOVsWu6a+ygwcPaubMmTr33HOVnZ2tdu3a6fTTT1dubq7atm2rcePGafny5ZYcnBuI3fBhumuOX2OX6a5zCN74BTV2v85uYOntJNYZwsiK6a6pr7AHHnhA7dq105w5czR8+HC98sorWrVqlT777DO9//77mjZtmk6cOKERI0bou9/9rj7//POkDs4tTHfDidiNH9Pd+IU1diX3gtdvgjjdXZ7XQTsa5qi6j0ZU0vaGDbU8r4Op+2W6G04bduUm/LYRwzCMeG/8s5/9TLfeeqvOOOOMGm9XXFysOXPmKDU1VVdffXXCB2e3wsJC5eTk6ILXx6le/dQqb+P2czTDHTyQxs+v36DdCCK3L0FWd9M2SdKJvFNd+fOdjn4/XpJM8ue/mlQldtUFqfxULfa3m3D1mEqXGDOLAUU4lBw+qi/G3KWCggJlZ2ebeltToRs08YRuDMEbTgRv/PwYvGGL3VjoVsepACZ4axek2K14Hd3tDRvq9osvSjpyY4jd4HM1dPft26doNKomTZokczeuMBO6ErEbVsRu/PwYu1I4gre2yK2OXfHrxkoHweuOlGhUfTZ9oaaFB/V1dgMtz+ugaIr1HwuCN7iSCd2EP9PWrl2r7t27Kzc3V82aNVObNm00bdo0FRUVJXqXnsfubjhxslr82N2Nn192d+tu2pZwJNeE/d34BGF/N5qSomUdT9M/ep2pZR1PsyVyJfZ3UbWEP9uuvvpqNWnSREuXLtW6des0ffp0vfbaa+rdu7f2799v5TF6DsEbTsRu/Pwau04Hr1Oxa0WoBiV4uTpD8BG7KCvh1YX69evro48+UufOnUtfZxiGLrnkEqWnp+svf/mLZQdpF7OrC1VhnSGceCCNnx+/QQdplcGOOJWCs9LAOkOwMaAIBldWF3r37q0DBw6Ue10kEtGdd96p1157LdG79R2mu+HEg2f8/PhNOcjTXavEJrxWhzTrDLXz4w+PbmEoAVNfLT/4wQ80depUvfjii/rFL36hiRMnateu8pF38OBB5eTkWHqQfkDshg+7u/Fjdzc+fovdGKuDl3WG2gVhd9cp7O6GW10zNz7jjDP04Ycf6oknnigN3A4dOujSSy9Vz549VVJSojlz5ujBBx+05WC9Lha7rDOES92Wh3kQjdPhVlHffXOOxa5TIRSLXatCL7ZiYNcKQ1l1N22zdKUh9j5w6geA2MfYT+sMsa8nP/4g6bTY4zQDinBJeEd3165dWrVqVbmXzz//XHXq1FGnTp308ccfW32slrNiR7c6xG44Ebzx81vwSs7/M7fVU00nYjfG6h1edndrR+zGj9j1F888YcSRI0f08ccfa9WqVRo/frxVd2sbO0M3huANJ4I3Pn6MXYngjZcdJ6wRvLUjeONH8PqDY6Gbn5+vNm3axH3n27Zt06mnuvNUk/FwInRjCN7wIXbj58fg9XvsSgRvvPwYuxLBawbB622OXXWhT58+Gj9+vJYvX17tbQoKCvT444+ra9euevnll00dTJBxslr4cLJa/Px4sprTV2Y42D7D8rg7kXeqI0/76/erM/jxZDXJnz9AuoXBRHCZOhntk08+0Z133qnzzz9f6enp6tWrl1q2bKn09HTt379fn3zyidatW6ezzjpL9957ry688EK7jtuXOFktnDhZLX5+PVnNyQg62D7D8sg7kXcqJ6vFgZPVgo2T1YIpoR3dI0eO6F//+peWLl2qr776SkeOHFGTJk105plnauTIkeratasdx2o5J1cXKiJ2w4ngjZ/fgldincEMTlZzHrEbP2LXWzxzMprfuBm6MQRvOBG88SF2a+e3Z1Qry++7uxLBG3QErze48sxosAbPrBZOPHjGh93d2tmxuys5s7/r991dyb/PrObHHyLdwFDC/0zt6MI+pzffxXQ3ZGKxywNp7WKx66dvzn5/ookYO/Z360ZPaNThNRpw7CtJht4/2E7/qN9NRzu2teT+2d2NT+bWFN/9IOkGdnf9jdUFl1cXqkLwhg+xGz8/xW5MENYZrIrdqw++rx8dWV3pnxMNSR/Xaa7JvcfrRIp1Mxg3nlbZb8Ersc5gBsHrPFYXAoZVhvDhUmTxY52hdnZdiixZVx98Xz8+slqRKn4vIqlHyU79e9l03frhbKUY1nyMG2w+wjpDHPz4A6RbGEz4S8Kf2fn5+apqGGwYhvLz85M6KLC7G1YEb/wI3tpZHbzJ7O3WjZ7QxUdOPjV8VaEbE5F07vHN+vcH03TFV/MtDV4n+fHau+zuxu/E9kyC1ycS/oxu3769du/eXen1+/btU/v27ZM6KHyL4A0nYjd+fotdyfl/2vbCE01878g61ZFRY+SWVUfSlduX6N8fTNPl+W9ZErxMd+ND7MaP2PW+hD+bDcNQJFL5IevQoUNKT09P6qBQGbEbPkx348d0t3ZuP7Nai2hhQn9GHUljti3Wvz74naXB6ySmu8HGdNfbTG/8T5o0SZIUiUQ0depUZWZ++8EtKSnRsmXL1LNnT8sOEN/imdXCiWdWix/PrFY7O67OEIvdmk5Y25Fi7gSSiurK0Jhti/XzbUt0d8dLtKRJt6Tur8HmI46fqJa1LeqbE9VSolH12vqFmnxaqK3tsrQ8r4OiKf44drec2J7JcMKDTIfuypUrJZ2c6K5Zs0apqd9erSA1NVU9evTQTTfdZN0RohIuRRY+XIosflyKLD52Bq9UOXr/lXGG/qfo/aTPgK4nQ7d+/oI2b1moCT3+N6krNDh9GTLJH5ciG/7Zx5q8YJ6aHyoofd3OrBxNv3S03uiR3A8YQcelyLwn4cuLjR07Vg8//LDpyzx4iVcvL2YGwRtOBG/8/BS8MUG4HFlVxq96UT+K44S0eBmSFjXuoru/8xNFI8l9nLkM2UnDP/tYD7w6V1L53cbYZ+SEq8cQu3Eidq3jyuXF5syZU/qHGYZR5RUYYD9OVgsnHkDj57fdXSkY+7tVmdXzEr3bsLNl9xeRNHTfJ5acsOb03q7kvRPVUqJRTV4w7+T/V/y9b/5724uvKosLK8WF3V1vSOqR9Mknn1TXrl2Vnp6u9PR0de3aVU888YRVxwYTiN3w4WS1+PnxZDUpmME7/fTLdMdpP1aJhfdp1Qlrbl2VwSvB22vrF2p+qKDaMEiR1OLgAfXa+oUv/6XELQSvuxL+TL3tttt04403atSoUXrxxRf14osvatSoUfrVr36l2267zcpjRJyY7oYTwRs/Pwevk+wO3iW5PXRh/+l6puVgWfnRiJ2wZkXwOs0LsdukKL4rY8Rux5UZzCF23ZHwjm5ubq7++Mc/6mc/+1m51//tb3/TDTfcoD179lhygHYKwo5uTdjfDR8eSOPn12/QbgSRneGXYkR1ef4CXbZ9ieVP1XlcEf311CH6W+shCe3wurG3K7m3u9snf6PmPP//ar3d2J/8r5a3Oa3c6/z4A6SbGE6Y48qO7vHjx9W7d+9Kr+/Vq5dOnDiR6N3CQkx3w4fpbvz8PN0N0oQ3GknR023P1wXfTHitXGmoJ0NXbVuof3wwXZflv216wuvGKoPk3nT3o1YdtDMrp9ope1TSjgYN9VGrDpV+j+muOQwlnJPwZ+UVV1yhmTNnVnr9n//8Z1122WVJHRSswzpDOBG88SN44+dE8F7Yf7qebjlYVo5LUhVNOnid5sbubjQlRXcP++HJ/6/4e9/8957zRtd4PV1iN37s7joj4dWFG264QU8//bRat26t/v37S5KWLVum/Px8XXnllapXr17pbR944AFrjtZiQV9dqIhVhnDigdQcv36jDuJKw2X5C3S5DSsNRyN1dW/HH+mdU7qaeruwrDJUdR3dHQ0a6p7zRuut73SP+378+AOkWxhM1CyZ1YWEQ3fo0KHx/QGRiN5+++1E/gjbhS10YwjecCJ440fsmmN38E7Z8LzO3f+JJdfejTEkLWzcVfd85xJT+7thid3SZ0YrKtSe+tn6qFViz4xG7JpD8FbNldANgrCGbgzBGz7ErjkErzl2Bm/d6AnNWDdXPQ59ZWnwHlNEz5o8Yc2t2JW8+SQT8SB440fsVubKyWhe8eijj6pdu3ZKT09Xv3799N///tftQ/INdnfDh91dc9jfNcfOHd4TKXV1c7drdWG/aVqZ1U5WTWhSEzhhzY2d3RgvXIYsEX79odEN7O5aK6nPvHfeeUeXX365BgwYoG3bTj6v+TPPPKOlS5dacnC1ef755zVp0iRNmzZNK1asUI8ePTRy5Eh9/fXXjvz5QcDJauFE8Jrjx9iV3Jv+2R28t3S7xobgNXfCGrFrHldmMIfYtUbCn3Evv/yyRo4cqYyMDK1cuVLFxcWSpIKCAt11112WHWBNHnjgAY0bN05jx45Vly5d9NhjjykzM1OzZ8925M8PEoI3nAje+DHdNc/J4LXqI2MmeIndxBC78WO6m7yEP9vuuOMOPfbYY3r88cfLXWHh7LPP1ooVKyw5uJocO3ZMH330kYYPH176upSUFA0fPlzvv/9+lW9TXFyswsLCci8oj9gNJ2I3fgSveU4E7/dcmvC6Hbt+DV6mu+YQu4lL+LNsw4YNGjx4cKXX5+Tk6MCBA8kcU1z27NmjkpISNWtW/oSqZs2aaefOnVW+zYwZM5STk1P60rp1a9uP04+Y7oYT011zCF7zYsFrR/TGgvf2jpfqUEq92t8gTvEEr5uxKzHdDQumu4lJ+DOsefPm2rhxY6XXL126VB06VH7WFC+YMmWKCgoKSl+2bNni9iF5GsEbTgSvOX6MXcnd4JXsm/K+06SbftT3Vt18+lVaV7+V5RPeV5fdrnP2rrXoXq0TT+ymRKPqk79RF3y6Qn3yNyol6o3PXWLXHGLXnLqJvuG4ceN04403avbs2YpEItq+fbvef/993XTTTZo6daqVx1ilJk2aqE6dOtq1q3yI7dq1S82bN6/ybdLS0pSWlmb7sQXN6c13cSmyEKrb8jAPqHGKxa4fv2HHYtetqWAsdq2cikYjKVrVME8TG+bpnD1rdMvnLyvdoicXTjdOaOpnz2th43XlrsHbYPMRVy87Jn37MazqB5iqngRiZ1aO7h72Q1NPAmGX2NeOX39wdFrssZmhRO0SflSePHmyfv7zn2vYsGE6dOiQBg8erGuvvVbjx4/XDTfcYOUxVik1NVW9evXSggULSl8XjUa1YMECDRgwwPY/P2yY7oYT011z/LrOIHlnwmt1LL7TpJsu6n+bnjp1iI5ZdEXNiKTz9q3Vax/8XpdtWVi6ztBg8xHX1xikyj+0DP/sYz3w6lw1LRO5ktT0UIEeeHWuhn/2sZOHVyM//rDoJoYRtUv6CSOOHTumjRs36tChQ+rSpYuysrKsOrZaPf/88xozZoxmzZqlvn376qGHHtILL7yg9evXV9rdrUrYnzAiGUx4w4kHVXP8/E3bK3ufVoZjihHVz7cs1M+2LVGqZddpOPmUws+1PKfck064Pd2VTv7wkhKN6s1Zt6vpoYIqMz8qaVeDhhr5P7cm9MxndvLrD41uCfJQwpUnjJgxY4Zmz56t1NRUdenSRX379lVWVpZmz56te+65J9G7NeUnP/mJ7r//ft12223q2bOnVq1apddffz2uyEVymO6GU5AfSO3AhDd5Vk55o5EU/aXNMI3qP83SCW+6caLS/q5XJruDVm1U82oiVzoZAS0OHlCvrV84eWhx8fMPim5gEFG1hD+LZs2apc6dO1d6/RlnnKHHHnssqYMy4/rrr9dXX32l4uJiLVu2TP369XPszw471hnCiXUG8/wauxLBa0Zsf/ehNbPU48AmT5zsdcqRg3HdrkmRNy+3Seyaw5UZKkv4M2jnzp1q0aJFpdfn5uZqx44dSR0U/IXgDSeC1xw/T3cl7wWvFdFrR/BGJJ1xaKvu/3Su3nxpqoZ+tTrp+0zG3owGcd1uT31z/xzsJK65ax6x+62EP3Nat26td999t9Lr3333XbVs2TKpg4I/EbvhROyaQ/Bax6rotWvCm3WiWHe9+4xmvfGIeu38zJUJ76rcDtqVmVPtRnJU0o4GDfVRK29eFrQsYtccprsnJXV5sYkTJ+r48eM677zzJEkLFizQLbfcol//+teWHSD8JRa7nKwWLrHY5UE1fn6+JJnk/mXJKiobu4nux8aC99nWQy07aS0iqcfer/To239WUd1U/fX0IZp7xnDbTvxKiUbVc/cXOuXIQe3NaKBVuR30YK/RmvHOU4qq/HQr9je757zRnjsRrTqZW1N8/YOiG05szwz1QCLhqy4YhqHJkyfrj3/8o44dOyZJSk9P129+8xvddtttlh6kXbjqgr2I3fAieM3xa+yW5ZXgLSvZE8JSjKgmb3hBQ/avU8SiY5KkQ3XTdGe/S7WwbQ8L71UasmWNfvXRK2p2+NvLiO3KzNGDvUZLUqXf29Ggoe45b7QnrqObCILXHD/HbjJXXUj68mKHDh3Sp59+qoyMDHXs2NFXT8hA6DqD4A0vgtccvwevF2M3JpnoPWfPGk3a9IqyoscsOx5D0vw2PfS7gZdZMk0dsmWNZrzzlAxVntpGJE05Z4yWnHpGuWnv0p6n+WaSWx1i1zw/Bq/joXv8+HF997vf1WOPPaaOHTuafXPPIHSdRfCGE7FrHsHrDDPxm2JE1b1gs67Kf0tdirZaNuE9klJXr5zWX++07qpVuR0SCs+UaFTzXrtTuYerv1bu15kNdfEPflvl/Xtl5zpRxK55fovdZEI3oR3devXq6eOPvfNMKvAHnko4nNjfNS8o+7uSt6O34klsNYVvpacV3vh3pRsnkj6GjOgJ/eyzpfrZZ0u1P62+7u19cdwrDbF93N47Py+3klDpdpKaHz6gnru/0Ipmp1X6/axtUV/HLk8fbF6YnkI44dWFX/3qV0pLS9Pdd99t9TE5homuewje8CJ4zfNr8Jbl5eBNRM4XRfr5loX6yfZ3lG6UWHa/8a40VLWPW5upAy/T/HZnVvv7fo7dGGLXPD/EruMTXUk6ceKEZs+erbfeeku9evVS/fr1y/3+Aw88kOhdIwS4OkN4MeE1z+8TXsl7V2lIVkGH+prZ4fuaFb1QV61boCvXLVB6NPkJb0TSiPzVOmfLWr3b6gzN69hfK5t+u0ubEo3qqnULNG7NGzI7partmrp+n+xKTHcTEfTpbsIT3aFDh1Z/p5GI3n777YQPyilMdL2D4A0nYjcxfg7esoISvdI3Abp2vq78ZKElwVtWUd1U/bXzuYoooks3vKOc4+ZOrKttR7civ8duDLFrnldj19WrLvgZoestxG54EbyJIXi9JzZxveyThapfYt1VGhJV9qoLi1p3i/vtiN1w81rwJhO6SX0mv/POO7r88ss1cOBAbdu2TZL0zDPPaOnSpcncLUKKpxIOL55OODF+f5a1GC8921qyoikpmt3tfJ1/yR2aMHS8Pj6ljekVAyt9ndnQdORKwfnhg6cPTkyQhg8Jf/RffvlljRw5UhkZGVqxYoWKi4slSQUFBbrrrrssO0CED8EbXgRvYoIQu1LwgvejFh31PyN/qd8OukKH6jp7jfknzxiu/x32C138g9+ajtyYoMSuFJx//XBSUJ5COOGP/B133KHHHntMjz/+uOrVq1f6+rPPPlsrVqyw5OAQbsRueBG75gVluisFK3glaWGbHhrx49v1Zpsetk93o5J2ZjbUk91GaEWz5J8QgtiF32M34Y/6hg0bNHjw4Eqvz8nJ0YEDB5I5JqAU093wYrqbGILXm6IpKbpt0BX67aArtC+tfu1vkMifoZP7uA/1usjSZzwjduHn2E348mLNmzfXxo0b1a5du3KvX7p0qTp06JDscQHlcDmy8OJyZIkJwiXJYoJ0abKFbXpocatu6rn7Cw3eulYXfb5MGdHjltz31xk5eqj36IRXFWoShEuPxXAJssT49TJkCX/Wjhs3TjfeeKOWLVumSCSi7du3669//atuuukmXXfddVYeI1CK6W54MeFNDBNe74mmpGhFs9P0UK/RGnbpnfpzt5EqqpPYlX+Mb17+3G2ELr7o/2yJ3Jgg/KBRVhB+CHSD34YOCV9ezDAM3XXXXZoxY4YOHz75zSctLU033XSTbr/9dksP0i5cXszfmO6Gl98eaL0iiN/YgxJfiV6WbH9qpu7pd4mtgVtREH7YKCsoPwi6wanhg6vX0T127Jg2btyoQ4cOqUuXLsrKykrm7hxF6AYDwRteBG/igha9QQreM3dt0sUb31e/HeuVdaLq6D2QmqkXOg3S3DOGW7qPG4+gha5E7CbDidh15SmA8/Pz1bp1a6WmpqpLly6Vfq9NmzaJ3jVgyunNdxG7IcX+buKCtMMrlY8vP0dv7LJkH7XoqJRoVD13f6FTjhzUvrQsKWKo8dEi7c1ooFW5HRwP3Jgg7evGsLebuBPbMz29VpZw6LZv3147duxQ06ZNy71+7969at++vUpKSpI+OCBenKwWbgRv4oIWvFJwTl6L7fJ6URBjVzr5dUDsmuflE9US/iw1DEORSKTS6w8dOqT09PSkDgpIFJcjCzdOWEtckE5aiwnKyWte5fcfJKoTpB/6nObFYYPpie6kSZMkSZFIRFOnTlVm5rd/qZKSEi1btkw9e/a07ACBRDDhDbe6LQ978gHXD4I84ZWCG2duYbKLirw23TUduitXrpR0cqK7Zs0apaZ+exJXamqqevTooZtuusm6IwSSwP5ueLHOkJwgBq9E9NohyLErsbebKK/s7poO3YULF0qSxo4dq4cfftj02W+A05juhhvBm5ygBq8UnF1eLwhq7EpMd5PhhdhN+GS0OXPmWHkcgO0I3nAjeJMThuCViF5UjdhNnNurDAmHriQtWLBACxYs0Ndff61otPwnwOzZs5M6MMAurDOEG8GbnCAHr8SUF9UjdpPj1nQ34Ueq6dOna8SIEVqwYIH27Nmj/fv3l3sBvIyrM8Dtf07zu6B/w+eKDeaF4YeDoP6A5xQ3BgwJT3Qfe+wxzZ07V1dccYWVxwM4inWGcGO6m5ygT3cl1hpQGZPd5Di9ypBw6B47dkwDBw608lgA1xC84UbwJicMwSsRvfgWV2RInlOrDAk/Kl177bV69tlnrTwWwHWsM4QbTziRnCA+6UR1YqsNrDeUF7YfAIL+w53dnBguJDzRPXr0qP785z/rrbfeUvfu3VWvXr1yv//AAw8kfXCAG5jugglvcsIy4Y3hBLZwY5UhOXavMiQcuh9//HHpM6CtXbvWquMBPIPgBc+wlpyy3/zDEL0Vp7uEb3gQu8mza5Uh4dCNPXEEEHQEb7gx3bVG2Ka8Unh3eoP85BE1IXaTZ0fsmgrdSZMm6fbbb1f9+vU1adKkam8XiUT0hz/8IemDA7yE6++GG8FrjTAGrxTe6A0bYjd5Vq8ymArdlStX6vjx46X/X51IJJLcUQEexXQXBK81whq8EtEbdMSuNaya7kYMwzAsOB5fKiwsVE5Oji54fZzq1U91+3DgQwQvCF5rhDF4qxKk8A3j+kJFBG/y6rY8rJLDR/XFmLtUUFCg7Oxsc29v03EBocCEF0x4rRHmCW9ZQZn2ErknMd1N3ontmYoeTfzzic9EwAJcfxdcg9caYboWb23KXqvXL+Hop2N1Sth/eHMb733AIqc330Xwgti1CMFbmdej16vH5QXErntYXQAsxjoDWGewDisNVasqKt1cdSBya8cagzsIXcAmXI4MBK91CN7aORW/RG3iiF3nEbqAjZjuQiJ4rUTwmhNvlFYXxESt9YhdZxG6gAMIXkgEr5XC9vTCdiNonUXsOofPbMBBnLAGiSs0WI0T1+BH/IDmDN7LgAsIXkgEr9UIXvgNsWs/3sOAi4hdSASv1WLBS/TCD4hde/HeBVzGdBcxBK/1CF74AbFrH96zgEcQvIgheK1H8MLriF178F4FPIbgRQzBaz2CF15G7FqP9yjgUcQuYohd67HHC68idq3FexPwMKa7iGG6ax+CF15D7FqH9yTgAwQvYghe+xC8QPAQuoCPELyIIXjtQ/DCC5jqWoP3IuBDxC5iCF77ELxwG7GbPN6DgE8x3UVZBK99OHENbiJ2k8N7D/A5ghdlEbz2InjhBmI3cbzngIAgeFEWwWsvghfwB0IXCBiCF2URvPZirQFOYaqbGN5rQEARvCiL4LUfwQu7Ebvm8R4DAo7YRVkEr/2Y8sJOxK45vLeAEGC6i4oIXmcQvLADsRs/3lNAiBC8qIjgdQZTXliN2I0P7yUghAheVETwOofgBZxD6AIhRvCiIoLXOQQvksVUt3a8hwAQu6iE4HUOaw1IBrFbM947ACQx3UXVCF5nEbyAtQhdAOUQvKgKwessprwwg6lu9eq6fQAAvCkWu5/ubObykcBLYrF7Ynumy0cSHmVjl6ABzOErBkCNmO6iKkx43cGUF9Xhh6Cq8V4BUCvWGVAdgtcdrDagKsRuZawuAIgb6wyoDisN7mG1AageXxEATGPCi+ow4XUXU17ww055vDcAJIzgRXUIXnex2hBuxO63WF0AkDRWGlAdVhrcx2oDwozPeACWYcKL6jDh9QYmveHBDzUn8V4AYDliF9UheL2D4EUYsLoAwBasM6AmrDR4B6sNCDJCV9K5p3ym9Ky6entPZ7cPBQgcghc1IXi9hehF0PBZXMZ5Tda7fQhAYLG/i5qw0uA97PMiCJjoVhCLXaa7gD2Y8KImTHi9iUkv/IrP1mqc12Q9E17ARkx4URMmvN7FpNc/+KGE0K0VwQvYi9hFTQhebyN64XWEbpyIXcA+THdRG4LX+4heeBE7uiawvwvYi/1d1KZs7LLH613s9MIrCN0EELyAvQhexIMT1/yh4oSX8IWTCN0kELyAvQhexIPg9RemvXASn2EWYH8XsBc7vIgHe7z+U3avl91e2IGJrkWY7gL2Y8KLeDDh9S+mvdbihwcmupbjcmSA/ZjuIh5MeP2NaS+swETXJkx4AXsx3UW8mPAGA9Pe+PGDwbd8+5ly5513auDAgcrMzFTDhg3dPpxqMd0F7MX+LuLFhDc4mPZWjfdHZb4N3WPHjumSSy7Rdddd5/ah1Ip1BsB+BC/iRfAGT8XwDWPshfHvHA/fri5Mnz5dkjR37lx3D8QE1hkA+7HSgHjx5BPBFpbr9xK4NfNt6CaiuLhYxcXFpb8uLCx05TgIXsB+BC/MYI83+KoKQr/HL5FbO39/hE2aMWOGcnJySl9at27t6vGwzgDYj5UGmMFaQ7j4deXBT8fqNk+F7uTJkxWJRGp8Wb8+8TicMmWKCgoKSl+2bNli4dEnhv1dwBkEL8wgeMOrqvj1SlR66Vj8wlOrC7/+9a911VVX1XibDh06JHz/aWlpSktLS/jt7cQ6A+AMVhpgBisNiKkpMO1egSBuE+ep0M3NzVVubq7bh+EqghdwxunNdxG7iBsnrqEmZkM0c2sK8eoQT60umJGfn69Vq1YpPz9fJSUlWrVqlVatWqVDhw65fWiWYJ0BsB/rDEgEaw1IFpHrHE9NdM247bbb9NRTT5X++swzz5QkLVy4UEOGDHHpqKzFdBdwBusMSARrDYD3RQzDMNw+CLcUFhYqJydHdy8/V+lZ3m9+ghdwBsGLRBC8gD2iR4/qq9/cqoKCAmVnZ5t6W9+uLoQRV2gAnMFKAxLBSgPgPYSuDxG7gDMIXiSC4AW8w/v/Xo8qsb8LOIcdXiSCKzUA7mOi63OsMwDOYcKLRDHlBdxB6AYEwQs4h+BFoghewFmEbsAQvIBzCF4kiuAFnEHoBhSxCziH4EWiYsFL9AL2IHQDjOku4CxiF8kgeAHrEbohQPACzmG6i2QRvIB1uLxYiHBJMsA5XJIMyeLyZEDymOiGENNdwDlMeGEFprxAYgjdkGKdAXAWwQsrELyAOawuhBzrDICzWGmAFVhrAOLDRBeSmPACTmPCC6sw5QWqR+iiHIIXcBbBC6sQvEBlhC6qROwCziJ4YRWCF/gWO7qoFvu7gPPY4YVV2OMFmOgiDqwzAM5jwgsrMeVFWBG6iBvBCziP4IWVCF6EDasLMI2VBsB5rDTASqw1ICyY6CJhTHcB5zHhhdWY8iLImOgiKUx3AXcw4YXVmPIiiJjowhLs7wLuYMILOzDlRVAw0YWlmPAC7mDCCzsw5YXfMdGFLZjwAu5gwgu7MOWFHxG6sBWxC7iD4IVdCF74CaEL2zHdBdxD7MIuseAleuFlhC4cQ/AC7mC6C7sRvPAqTkaD4zhhDXAHJ6zBbpy8Bq9hogvXMOEF3MGEF05gygsvIHThOmIXcAfBCyewyws3EbrwBKa7gHsIXjiF4IXT2NGFp7C/C7iHHV44hV1eOIXQhScRvIB7yk53iV7YLRa9BC/sQOjC0whewF1MeeEUprywAzu68AX2dwF3sccLJ3ECG6xC6MI3OGENcB/BC6cRvEgGoQvfIXgB9xG7cBrBi0SwowvfYn8XcBf7u3ADu7wwg9CF7xG8gLsIXriF6EVtWF1AYLDSALiL/V24idUGVIXQReAQu4C7CF64iSs2oCxWFxBIrDMA7uOJJ+A2VhvARBeBxjoD4A1MeeE2przhxEQXocCEF/AGTlyD25jyhguhi1AheAFvIHjhBURv8BG6CCWCF/AGghdeQfQGEzu6CDX2dwFvYIcXXsI+b3Aw0UXoMd0FvIMJL7yEKa//EbrANwhewDsIXngN0etPhC5QAcELeAfBCy8iev2DHV2gGlyDF/AOdnjhVezzehsTXaAWTHgB72DCC69iyutNTHSBODHdBbyDCS+8LDblZdLrPia6gAlMdwFvYcILr2PS6y5CF0gAwQt4C8ELPyB6nUfoAkkgeAFvIXjhF0SvMwhdwAIEL+AtBC/8hOi1D6ELWIjgBbyF4IXfEL3WInQBGxC8gLeUvUID0Qu/IHqTx+XFABtxSTLAe7g0GfyIS5YlhokuYDOmu4A3sdYAv2LSGz9CF3AIwQt4E8ELPyN6a0boAg4jeAFvInjhd0RvZYQu4BKCF/AmghdBUHGXN6zhS+gCLiN4AW8ieBEkYZ32ctUFwCO4QgPgTVylAUETpis4MNEFPITpLuBdTHgRREFfcSB0AQ8ieAHvIngRZEFbcSB0AQ8jeAHv4tnWEHRBiF5CF/ABghfwNqa8CDq/rjgQuoCPELyAtxG8CAu/hC+hC/gQwQt4G8GLsPHqmgOhC/gYwQt4G8GLMPLStJfQBQKA4AW8jeBFmLkZvjxhBBAgPOkE4G08+QRQ/gkr7H7SCia6QMAw3QW8jwkv8C07J76ELhBQBC/gfVyLF6isYvge+yLxBQRWF4CAO6/JelYaAB9grQGoWp3mia83ELpASBC8gD8QvIB1CF0gZAhewB8IXiB5hC4QUgQv4A8EL5A4QhcIOYIX8AeCFzCP0AUgiWvwAn4RC16iF6gdoQugFNNdwF8IXqBmhC6ASghewF8IXqBqhC6AahG8gL8QvEB5hC6AWhG8gL8QvMBJPAUwgLjxtMKAv/AUwwg7JroATGPCC/gPU16EEaELIGEEL+A/BC/ChNAFkDSCF/Afghdh4MvQ/fLLL3XNNdeoffv2ysjIUF5enqZNm6Zjx465fWhAqBG8gP8QvAgyX56Mtn79ekWjUc2aNUunnXaa1q5dq3HjxqmoqEj333+/24cHhN55TdZzwhrgM5y4hiCKGIZhuH0QVrjvvvs0c+ZMffHFF3G/TWFhoXJycnT38nOVnuXL5gc8j+AF/IvghReUHD6qL8bcpYKCAmVnZ5t628DUXUFBgRo3blzjbYqLi1VcXFz668LCQrsPCwg9LkkG+Fdsykvwwq98uaNb0caNG/XII49o/PjxNd5uxowZysnJKX1p3bq1Q0cIgP1dwL/Y44VfeSp0J0+erEgkUuPL+vXlv1Fu27ZN3/3ud3XJJZdo3LhxNd7/lClTVFBQUPqyZcsWO/86AKpA8AL+FQteohd+4akd3d27d2vv3r013qZDhw5KTU2VJG3fvl1DhgxR//79NXfuXKWkmOt2dnQB97HSAPgbaw2wW2B2dHNzc5WbmxvXbbdt26ahQ4eqV69emjNnjunIBeAN7PAC/sYeL7zMU6Ebr23btmnIkCFq27at7r//fu3evbv095o3b+7ikQFIFMEL+BvBCy/yZejOnz9fGzdu1MaNG9WqVatyv+ehTQwACSB4AX8jeOElvvz3/quuukqGYVT5AiAYOGkN8DdOXIMX+DJ0AYQHwQv4H8ELtxC6AHyB2AX8j+CF0whdAL7BdBcIBoIXTvHlyWgAwo0T1oBgKBu7nLwGOzDRBeBbTHiB4GDKCzsQugB8j+AFgoPghZVYXQAQGKw0AMHBWgOswEQXQOAw4QWChSkvEkXoAggsghcIFoIXZrG6ACDwWGkAgoW1BsSLiS6A0GDCCwQPU17UhNAFEDoELxA8BC+qQugCCC2CFwgeghdlsaMLIPTY4QWChz1eSEx0AaAUE14gmJjyhhehCwAVELxAMBG84cPqAgBUg5UGIJhYawgPJroAUAsmvEBwMeUNNkIXAOJE7ALBFQteojdYCF0AMIHpLhB8BG9wELoAkACCFwg+gtf/OBkNAJLACWtA8HHymn8x0QUACzDhBcKBKa+/ELoAYCGCFwgHgtcfWF0AABuw0gCEA2sN3sZEFwBsxIQXCA+mvN5D6AKAAwheIDwIXu9gdQEAHMRKAxAerDW4j4kuALiACS8QLkx53cFEFwBcxIQXCBemvM5iogsAHsCEFwgfprz2Y6ILAB7ChBcIH6a89mGiCwAexIQXCCemvNZiogsAHsaEFwgnprzWYKILAD7AhBcIL6a8iSN0AcBHCF4gvAhe81hdAAAfYqUBCC/WGuLHRBcAfIwJLxBuTHlrxkQXAAKACS8Qbkx5q8ZEFwAChAkvAKa832KiCwABxIQXAFNeJroAEGhMeAFI4Z3yMtEFgBBgwgtACt+Ul4kuAIQIE14AMWGY8jLRBYAQYsILICbIU14mugAQYkx4AZQVtCkvE10AABNeAOUEZcrLRBcAUIoJL4CK/DzlZaILAKiECS+Aivw45WWiCwCoFhNeAFXxy5SXiS4AoFZMeAFUxetTXkIXABA3ghdAdbwYvawuAABMY6UBQE28strARBcAkDAmvABq4vaUl4kuACBpTHgB1MaNKS8TXQCAZZjwAqiNk1NeQhcAYDmCF0A87I5eVhcAALZhpQFAvOxYbWCiCwCwHRNeAPGycspL6AIAHEPwAjDj9Oa7dLzomL5I8O1ZXQAAOI6VBgBOIHQBAK4heAHYidAFALiO4AVgB0IXAOAZBC8AKxG6AADPIXgBWIHQBQB4FsELIBmELgDA8wheAIkgdAEAvkHwAjCD0AUA+A7BCyAehC4AwLcIXgA1IXQBAL5H8AKoCqELAAgMghdAWXXdPgAAAKxWNnbf3tPZxSMB4CYmugCAQGPKC4QXoQsACAWCFwgfQhcAECoELxAehK6kEfV5wAOAsCF4geAjdL9xYdYnujDrE7cPAwDgMIIXCC5CtwKCFwDCieAFgofQrQaxCwDhRPACwUHo1oDpLgCEF8EL+B+hGweCFwDCi+AF/IvQNYHgBYDwIngB/yF0E0DwAkB4EbyAfxC6SSB4ASC8CF7A+whdCxC8ABBeBC/gXYSuhYhdAAgvghfwHkLXYkx3ASDcCF7AO+q6fQBBFYvdfx/q4vKRAADcUDZ2397T2cUjAcKLia7NmPACAJjyAu4gdB1C8AIACF7AWYSuwwheAADBCzjDt6H7gx/8QG3atFF6erpatGihK664Qtu3b3f7sOJG8AIACF7AXr4N3aFDh+qFF17Qhg0b9PLLL2vTpk368Y9/7PZhmUbsAgAIXsAeEcMwDLcPwgqvvfaaRo8ereLiYtWrVy+utyksLFROTo5WfNJMWQ3cb36u0AAAkLhKA1DW8aJj+s93H1dBQYGys7NNvW0gLi+2b98+/fWvf9XAgQNrjNzi4mIVFxeX/rqgoECSdOhQ1PZjjMdgrZUkvVnEAxwAhNnA9JPfDxbv/Y7LRwK473jRMUlSQrNZw8duueUWIzMz05Bk9O/f39izZ0+Nt582bZohiRdeeOGFF1544YUXn71s2rTJdCt6anVh8uTJuueee2q8zaeffqrOnU9OPPfs2aN9+/bpq6++0vTp05WTk6N//vOfikQiVb5txYnugQMH1LZtW+Xn5ysnJ8e6vwiSVlhYqNatW2vLli2m/5kC9uJj4218fLyLj4138bHxtoKCArVp00b79+9Xw4YNTb2tp0J39+7d2rt3b4236dChg1JTUyu9fuvWrWrdurXee+89DRgwIK4/L7ajm8jOB+zFx8a7+Nh4Gx8f7+Jj4118bLwtmY+Pp3Z0c3NzlZubm9DbRqMn92zLTmwBAAAQXp4K3XgtW7ZMy5cv16BBg9SoUSNt2rRJU6dOVV5eXtzTXAAAAASb+9fUSkBmZqb+/ve/a9iwYerUqZOuueYade/eXYsXL1ZaWlrc95OWlqZp06aZehs4g4+Nd/Gx8TY+Pt7Fx8a7+Nh4WzIfH0/t6AIAAABW8eVEFwAAAKgNoQsAAIBAInQBAAAQSIQuAAAAAonQ/cYPfvADtWnTRunp6WrRooWuuOIKbd++3e3DCr0vv/xS11xzjdq3b6+MjAzl5eVp2rRpOnbsmNuHhm/ceeedGjhwoDIzM00/Yw2s9eijj6pdu3ZKT09Xv3799N///tftQ4KkJUuWaNSoUWrZsqUikYheeeUVtw8J35gxY4b69OmjBg0aqGnTpho9erQ2bNjg9mFB0syZM9W9e3dlZ2crOztbAwYM0H/+8x/T90PofmPo0KF64YUXtGHDBr388svatGmTfvzjH7t9WKG3fv16RaNRzZo1S+vWrdODDz6oxx57TL/97W/dPjR849ixY7rkkkt03XXXuX0oofb8889r0qRJmjZtmlasWKEePXpo5MiR+vrrr90+tNArKipSjx499Oijj7p9KKhg8eLFmjBhgj744APNnz9fx48f14gRI1RUVOT2oYVeq1atdPfdd+ujjz7Shx9+qPPOO08XXXSR1q1bZ+p+uLxYNV577TWNHj1axcXFqlevntuHgzLuu+8+zZw5U1988YXbh4Iy5s6dq4kTJ+rAgQNuH0oo9evXT3369NGf/vQnSSefLbJ169a64YYbNHnyZJePDjGRSETz5s3T6NGj3T4UVGH37t1q2rSpFi9erMGDB7t9OKigcePGuu+++3TNNdfE/TZMdKuwb98+/fWvf9XAgQOJXA8qKChQ48aN3T4MwDOOHTumjz76SMOHDy99XUpKioYPH67333/fxSMD/KWgoECS+B7jMSUlJXruuedUVFRk+hlwCd0yfvOb36h+/fo65ZRTlJ+fr1dffdXtQ0IFGzdu1COPPKLx48e7fSiAZ+zZs0clJSVq1qxZudc3a9ZMO3fudOmoAH+JRqOaOHGizj77bHXt2tXtw4GkNWvWKCsrS2lpafrFL36hefPmqUuXLqbuI9ChO3nyZEUikRpf1q9fX3r7m2++WStXrtSbb76pOnXq6MorrxSbHfYw+7GRpG3btum73/2uLrnkEo0bN86lIw+HRD4+AOBnEyZM0Nq1a/Xcc8+5fSj4RqdOnbRq1SotW7ZM1113ncaMGaNPPvnE1H0Eekd39+7d2rt3b4236dChg1JTUyu9fuvWrWrdurXee+8902Ny1M7sx2b79u0aMmSI+vfvr7lz5yolJdA/o7kuka8ddnTdc+zYMWVmZuqll14qt/s5ZswYHThwgH+d8hB2dL3p+uuv16uvvqolS5aoffv2bh8OqjF8+HDl5eVp1qxZcb9NXRuPx3W5ubnKzc1N6G2j0agkqbi42MpDwjfMfGy2bdumoUOHqlevXpozZw6R64BkvnbgvNTUVPXq1UsLFiwoDahoNKoFCxbo+uuvd/fgAA8zDEM33HCD5s2bp0WLFhG5HheNRk13WaBDN17Lli3T8uXLNWjQIDVq1EibNm3S1KlTlZeXxzTXZdu2bdOQIUPUtm1b3X///dq9e3fp7zVv3tzFI0NMfn6+9u3bp/z8fJWUlGjVqlWSpNNOO01ZWVnuHlyITJo0SWPGjFHv3r3Vt29fPfTQQyoqKtLYsWPdPrTQO3TokDZu3Fj6682bN2vVqlVq3Lix2rRp4+KRYcKECXr22Wf16quvqkGDBqU77Tk5OcrIyHD56MJtypQpuuCCC9SmTRsdPHhQzz77rBYtWqQ33njD3B0ZMD7++GNj6NChRuPGjY20tDSjXbt2xi9+8Qtj69atbh9a6M2ZM8eQVOULvGHMmDFVfnwWLlzo9qGFziOPPGK0adPGSE1NNfr27Wt88MEHbh8SDMNYuHBhlV8jY8aMcfvQQq+67y9z5sxx+9BC7+qrrzbatm1rpKamGrm5ucawYcOMN9980/T9BHpHFwAAAOHFsiMAAAACidAFAABAIBG6AAAACCRCFwAAAIFE6AIAACCQCF0AAAAEEqELAACAQCJ0AQAAEEiELgAAAAKJ0AUAAEAgEboA4LAhQ4Zo4sSJbh+GJGnv3r1q2rSpvvzyy6Tu56c//an+8Ic/WHNQAGARQhcAQuzOO+/URRddpHbt2iV1P7feeqvuvPNOFRQUWHNgAGABQhcAQurw4cN68skndc011yR9X127dlVeXp7+8pe/WHBkAGANQhcAbPDSSy+pW7duysjI0CmnnKLhw4erqKioytsWFxfrl7/8pZo2bar09HQNGjRIy5cvL/39IUOG6Prrr9f111+vnJwcNWnSRFOnTpVhGKW3iUajmjFjhtq3b6+MjAz16NFDL730Uo3H+O9//1tpaWnq379/6eu+/PJLRSIRvfzyyxo8eLAyMjLUp08f5efn65133lH//v2VmZmpYcOG6cCBA+Xub9SoUXruuecSeG8BgD0IXQCw2I4dO/Szn/1MV199tT799FMtWrRIF198cbkwLeuWW27Ryy+/rKeeekorVqzQaaedppEjR2rfvn2lt3nqqadUt25d/fe//9XDDz+sBx54QE888UTp78+YMUNPP/20HnvsMa1bt06/+tWvdPnll2vx4sXVHuc777yjXr16lXvd6tWrJUkzZ87UXXfdpffee0+7du3S5Zdfrrvvvlt/+tOftHDhQq1evVpz5swp97Z9+/bVf//7XxUXF5t+nwGAHeq6fQAAEDQ7duzQiRMndPHFF6tt27aSpG7dulV526KiIs2cOVNz587VBRdcIEl6/PHHNX/+fD355JO6+eabJUmtW7fWgw8+qEgkok6dOmnNmjV68MEHNW7cOBUXF+uuu+7SW2+9pQEDBkiSOnTooKVLl2rWrFk699xzq/yzv/rqK7Vs2bLc61atWqXGjRvr+eef1ymnnCJJOvfcc7V06VKtW7dOmZmZkqQ+ffpo586d5d62ZcuWOnbsmHbu3Fn69wYANzHRBQCL9ejRQ8OGDVO3bt10ySWX6PHHH9f+/furvO2mTZt0/PhxnX322aWvq1evnvr27atPP/209HX9+/dXJBIp/fWAAQP0+eefq6SkRBs3btThw4d1/vnnKysrq/Tl6aef1qZNm6o9ziNHjig9Pb3c61avXq0f/vCHpZErSfn5+frJT35SGrmx17Vv377c22ZkZEg6ufsLAF5A6AKAxerUqaP58+frP//5j7p06aJHHnlEnTp10ubNm2358w4dOiRJ+te//qVVq1aVvnzyySc17uk2adKkUoCvWrVK/fr1K/e61atXl9vjPXr0qDZs2KAePXqUu11s1SI3Nzepvw8AWIXQBQAbRCIRnX322Zo+fbpWrlyp1NRUzZs3r9Lt8vLylJqaqnfffbf0dcePH9fy5cvVpUuX0tctW7as3Nt98MEH6tixo+rUqaMuXbooLS1N+fn5Ou2008q9tG7dutpjPPPMM/XJJ5+U/rqwsFBffvmlzjzzzNLXbd68WQUFBeVet2bNGhmGUWkdY+3atWrVqpWaNGkSx3sIAOzHji4AWGzZsmVasGCBRowYoaZNm2rZsmXavXu3Tj/99Eq3rV+/vq677jrdfPPNaty4sdq0aaN7771Xhw8fLnfZr/z8fE2aNEnjx4/XihUr9Mgjj5Q+QUODBg1000036Ve/+pWi0agGDRqkgoICvfvuu8rOztaYMWOqPM6RI0dqypQp2r9/vxo1aqTVq1erTp066tq1a+ltYju7ZXduV61apby8PGVlZZW7v3feeUcjRoxI6n0HAFYidAHAYtnZ2VqyZIkeeughFRYWqm3btvrDH/5QerJZRXfffbei0aiuuOIKHTx4UL1799Ybb7yhRo0ald7myiuv1JEjR9S3b1/VqVNHN954o/7nf/6n9Pdvv/125ebmasaMGfriiy/UsGFDnXXWWfrtb39b7XF269ZNZ511ll544QWNHz9eq1evVqdOncrt7a5evbrcNDf2uoprC0ePHtUrr7yi119/3dT7CgDsFDGqu94NAMAThgwZop49e+qhhx6y/L7/9a9/6eabb9batWuVkpL4NtvMmTM1b948vfnmmxYeHQAkh4kuAITY9773PX3++efatm1bjfu8talXr54eeeQRC48MAJJH6AJAyE2cODHp+7j22muTPxAAsBirCwAAAAgkLi8GAACAQCJ0AQAAEEiELgAAAAKJ0AUAAEAgEboAAAAIJEIXAAAAgUToAgAAIJAIXQAAAAQSoQsAAIBAInQBAAAQSP8fhLgoZNeFxOcAAAAASUVORK5CYII=)"
   ]
  },
  {
   "cell_type": "code",
   "execution_count": null,
   "metadata": {
    "id": "-m8vGQOgOqu9"
   },
   "outputs": [],
   "source": [
    "m = torch.tensor([[2.5]]).float()\n",
    "b = torch.tensor([[2]]).float()\n",
    "m.requires_grad = True\n",
    "b.requires_grad = True\n",
    "\n",
    "plot_optimization_steps(m, b, x, y, .02, steps=100, plot_grads=False)"
   ]
  },
  {
   "cell_type": "markdown",
   "metadata": {
    "id": "v3A6lgqpOqu9"
   },
   "source": [
    "After 100 steps we are pretty close to reaching the optimal point.\n",
    "For fun, go ahead and execute the code below, which performs 20 optimization steps with a larger learning rate.\n",
    "\n",
    "![loss3](data:image/png;base64,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)"
   ]
  },
  {
   "cell_type": "code",
   "execution_count": null,
   "metadata": {
    "id": "l62dQWJROqu9"
   },
   "outputs": [],
   "source": [
    "m = torch.tensor([[2.5]]).float()\n",
    "b = torch.tensor([[2]]).float()\n",
    "m.requires_grad = True\n",
    "b.requires_grad = True\n",
    "\n",
    "plot_optimization_steps(m, b, x, y, .085, steps=20, plot_grads=True)"
   ]
  },
  {
   "cell_type": "markdown",
   "metadata": {
    "id": "bHwRsmTkOqu-"
   },
   "source": [
    "It is interesting that the learning rate is a little too big for the intercept (not big enough for it to jump away from the minimal point though), but it is better for our slope, which converges faster than the previous examples.\n",
    "In the future you will learn about optimizers that can handle this issue."
   ]
  },
  {
   "cell_type": "markdown",
   "metadata": {
    "id": "iymNI1hrOqu-"
   },
   "source": [
    "This process of gradient descent is the power house of deep learning.\n",
    "We will usually not be able to visualize the optimization process in detail because once we scale up the number of parameters we are optimizing we lose our ability to visualize the loss surface, but this process still happens in that high-dimensional space."
   ]
  },
  {
   "cell_type": "markdown",
   "metadata": {
    "id": "8ddyvUr9Oqu-"
   },
   "source": [
    "---\n",
    "\n",
    "# Lab Submission Information:\n",
    "\n",
    "Colab stores the saved changes of your notebook on your Google Drive (NOT the file on your device). Remember to download your notebook as an .ipynb file to get your changes, and submit the downloaded file. The file should contain all the changes you've made, including code and output cells: if you can see it in Colab, it will be stored in the .ipynb file. If you download the file as .py, it will not contain the outputs.\n",
    "\n",
    "Submit your .ipynb file online."
   ]
  }
 ],
 "metadata": {
  "colab": {
   "provenance": []
  },
  "kernelspec": {
   "display_name": "Python 3 (ipykernel)",
   "language": "python",
   "name": "python3"
  },
  "language_info": {
   "codemirror_mode": {
    "name": "ipython",
    "version": 3
   },
   "file_extension": ".py",
   "mimetype": "text/x-python",
   "name": "python",
   "nbconvert_exporter": "python",
   "pygments_lexer": "ipython3",
   "version": "3.10.13"
  }
 },
 "nbformat": 4,
 "nbformat_minor": 4
}
