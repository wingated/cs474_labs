{
 "cells": [
  {
   "cell_type": "markdown",
   "metadata": {
    "colab_type": "text",
    "id": "tpnN_XZwq_vc"
   },
   "source": [
    "<a href=\"https://colab.research.google.com/github/wingated/cs474_labs_f2019/blob/master/DL_Lab4.ipynb\" target=\"_parent\"><img src=\"https://colab.research.google.com/assets/colab-badge.svg\" alt=\"Open In Colab\"/></a>"
   ]
  },
  {
   "cell_type": "markdown",
   "metadata": {
    "colab_type": "text",
    "id": "view-in-github"
   },
   "source": [
    "# Lab 4: Cancer Detection\n",
    "\n",
    "## Objective\n",
    "* To build a dense prediction model\n",
    "* To begin reading current papers in DNN research\n",
    "\n",
    "## Deliverable\n",
    "For this lab, you will turn in a notebook that describes your efforts at creating\n",
    "a pytorch radiologist. Your final deliverable is a notebook that has (1) a deep network,\n",
    "(2) method of calculating accuracy, \n",
    "(3) images that show the dense prediction produced by your network on the pos_test_000072.png image (index 172 in the validation dataset).\n",
    "This is an image in the test set that your network will not have seen before.\n",
    "This image, and the ground truth labeling, is shown below.\n",
    "(And is contained in the downloadable dataset below).\n",
    "\n",
    "<img src=\"https://github.com/wingated/cs474_labs/blob/master/images/pos_test_000072.png?raw=true\" width=\"200\">\n",
    "\n",
    "\n",
    "## Grading standards\n",
    "Your notebook will be graded on the following:\n",
    "* 40% Proper design, creation and debugging of a dense prediction network\n",
    "* 20% Proper implementation of train/test set accuracy measure\n",
    "* 20% Tidy visualizations of loss of your dense predictor during training\n",
    "* 20% Test image output\n",
    "\n",
    "\n",
    "## Data set\n",
    "The data is given as a set of 1024×1024 PNG images. Each input image (in \n",
    "the ```inputs``` directory) is an RGB image of a section of tissue,\n",
    "and there a file with the same name (in the ```outputs``` directory) \n",
    "that has a dense labeling of whether or not a section of tissue is cancerous\n",
    "(white pixels mean “cancerous”, while black pixels mean “not cancerous”).\n",
    "\n",
    "The data has been pre-split for you into test and training splits.\n",
    "Filenames also reflect whether or not the image has any cancer at all \n",
    "(files starting with ```pos_``` have some cancerous pixels, while files \n",
    "starting with ```neg_``` have no cancer anywhere).\n",
    "All of the data is hand-labeled, so the dataset is not very large.\n",
    "That means that overfitting is a real possibility.\n",
    "\n",
    "## Description\n",
    "For a video including some tips and tricks that can help with this lab: [https://youtu.be/Ms19kgK_D8w](https://youtu.be/Ms19kgK_D8w)\n",
    "For this lab, you will implement a virtual radiologist.\n",
    "You are given images of possibly cancerous tissue samples, \n",
    "and you must build a detector that identifies where in the tissue cancer may reside.\n",
    "\n",
    "---\n",
    "\n",
    "### Part 0\n",
    "Watch and follow video tutorial:\n",
    "\n",
    "https://youtu.be/Ms19kgK_D8w\n",
    "\n",
    "**TODO:**\n",
    "\n",
    "* Watch tutorial\n",
    "\n",
    "**DONE:**\n",
    "\n",
    "### Part 1\n",
    "Implement a dense predictor\n",
    "\n",
    "In previous labs and lectures, we have talked about DNNs that classify an \n",
    "entire image as a single class. Here, however, we are interested in a more nuanced classification: \n",
    "given an input image, we would like to identify each pixel that is possibly cancerous. \n",
    "That means that instead of a single output, your network should output an “image”, \n",
    "where each output pixel of your network represents the probability that a pixel is cancerous.\n",
    "\n",
    "___\n",
    "\n",
    "Implement your network topology\n",
    "\n",
    "Use the “Deep Convolution U-Net” from this paper: [(U-Net: Convolutional Networks for Biomedical Image Segmentation)](https://arxiv.org/pdf/1505.04597.pdf) \n",
    "\n",
    "![(Figure 1)](https://lh3.googleusercontent.com/qnHiB3B2KRxC3NjiSDtY08_DgDGTDsHcO6PP53oNRuct-p2QXCR-gyLkDveO850F2tTAhIOPC5Ha06NP9xq1JPsVAHlQ5UXA5V-9zkUrJHGhP_MNHFoRGnjBz1vn1p8P2rMWhlAb6HQ=w2400)\n",
    "\n",
    "You should use existing pytorch functions (not your own Conv2D module), such as ```nn.Conv2d``` and ```nn.CrossEntropyLoss```;\n",
    "you will also need the pytorch function ```torch.cat``` and ```nn.ConvTranspose2d```\n",
    "\n",
    "```torch.cat``` allows you to concatenate tensors.\n",
    "```nn.ConvTranspose2d``` is the opposite of ```nn.Conv2d```.\n",
    "It is used to bring an image from low res to higher res.\n",
    "[This blog](https://towardsdatascience.com/up-sampling-with-transposed-convolution-9ae4f2df52d0) should help you understand this function in detail.\n",
    "\n",
    "You can simplify the implementation of this lab by padding the feature maps as they pass through each convolution. This will make the concatenation process easier, though this is technically a departure from the cropping technique outlined in the orginal U-Net paper. \n",
    "\n",
    "Note that the simplest network you could implement (with all the desired properties)\n",
    "is just a single convolution layer with two filters and no relu! \n",
    "Why is that? (of course it wouldn't work very well!)\n",
    "\n",
    "**TODO:**\n",
    "\n",
    "* Understand the U-Net architecture\n",
    "* Understand concatenation of inputs from multiple prior layers\n",
    "* Understand ConvTranspose\n",
    "* Answer Question / Reflect on simplest network with the desired properties\n",
    "\n",
    "**DONE:**\n",
    "\n",
    "\n",
    "___\n",
    "The intention of this lab is to learn how to make deep neural nets. We'll help you with the implementation of Dataset.\n",
    "This code will download the dataset for you so that you are ready to use it and focus on network\n",
    "implementation, losses and accuracies."
   ]
  },
  {
   "cell_type": "code",
   "execution_count": null,
   "metadata": {
    "colab": {},
    "colab_type": "code",
    "id": "wQOefmcZVgTl",
    "pycharm": {
     "is_executing": false
    }
   },
   "outputs": [],
   "source": [
    "!pip3 install torch\n",
    "!pip3 install torchvision\n",
    "!pip3 install tqdm\n",
    "\n",
    "import torch\n",
    "import torch.nn as nn\n",
    "import torch.nn.functional as F\n",
    "import torch.optim as optim\n",
    "from torch.utils.data import Dataset, DataLoader\n",
    "import numpy as np\n",
    "import matplotlib.pyplot as plt\n",
    "from torchvision import transforms, utils, datasets\n",
    "from tqdm import tqdm\n",
    "from torch.nn.parameter import Parameter\n",
    "import pdb\n",
    "import torchvision\n",
    "import os\n",
    "import gzip\n",
    "import tarfile\n",
    "import gc\n",
    "from IPython.core.ultratb import AutoFormattedTB\n",
    "__ITB__ = AutoFormattedTB(mode = 'Verbose',color_scheme='LightBg', tb_offset = 1)\n",
    "\n",
    "assert torch.cuda.is_available(), \"You need to request a GPU from Runtime > Change Runtime\""
   ]
  },
  {
   "cell_type": "markdown",
   "metadata": {
    "colab_type": "text",
    "id": "49quyvIJvTq8"
   },
   "source": [
    "WARNING: You may run into an error that says \"RuntimeError: CUDA out of memory.\"\n",
    "\n",
    "In this case, the memory required for your batch is larger than what the GPU is capable of. You can solve this problem by adjusting the image size or the batch size and then restarting the runtime. "
   ]
  },
  {
   "cell_type": "code",
   "execution_count": null,
   "metadata": {
    "colab": {},
    "colab_type": "code",
    "id": "Il_53HLSWPTY"
   },
   "outputs": [],
   "source": [
    "class CancerDataset(Dataset):\n",
    "  def __init__(self, root, download=True, size=512, train=True):\n",
    "    if download and not os.path.exists(os.path.join(root, 'cancer_data')):\n",
    "      datasets.utils.download_url('http://liftothers.org/cancer_data.tar.gz', root, 'cancer_data.tar.gz', None)\n",
    "      self.extract_gzip(os.path.join(root, 'cancer_data.tar.gz'))\n",
    "      self.extract_tar(os.path.join(root, 'cancer_data.tar'))\n",
    "    \n",
    "    postfix = 'train' if train else 'test'\n",
    "    root = os.path.join(root, 'cancer_data', 'cancer_data')\n",
    "    self.dataset_folder = torchvision.datasets.ImageFolder(os.path.join(root, 'inputs_' + postfix) ,transform = transforms.Compose([transforms.Resize(size),transforms.ToTensor()]))\n",
    "    self.label_folder = torchvision.datasets.ImageFolder(os.path.join(root, 'outputs_' + postfix) ,transform = transforms.Compose([transforms.Resize(size),transforms.ToTensor()]))\n",
    "\n",
    "  @staticmethod\n",
    "  def extract_gzip(gzip_path, remove_finished=False):\n",
    "    print('Extracting {}'.format(gzip_path))\n",
    "    with open(gzip_path.replace('.gz', ''), 'wb') as out_f, gzip.GzipFile(gzip_path) as zip_f:\n",
    "      out_f.write(zip_f.read())\n",
    "    if remove_finished:\n",
    "      os.unlink(gzip_path)\n",
    "  \n",
    "  @staticmethod\n",
    "  def extract_tar(tar_path):\n",
    "    print('Untarring {}'.format(tar_path))\n",
    "    z = tarfile.TarFile(tar_path)\n",
    "    z.extractall(tar_path.replace('.tar', ''))\n",
    "\n",
    "  def __getitem__(self,index):\n",
    "    img = self.dataset_folder[index]\n",
    "    label = self.label_folder[index]\n",
    "    return img[0],label[0][0]\n",
    "  \n",
    "  def __len__(self):\n",
    "    return len(self.dataset_folder)"
   ]
  },
  {
   "cell_type": "code",
   "execution_count": null,
   "metadata": {
    "colab": {},
    "colab_type": "code",
    "id": "XPgrP88aOtfy"
   },
   "outputs": [],
   "source": [
    "# You'll probably want a function or something to test input / output sizes of the ConvTranspose2d layer\n"
   ]
  },
  {
   "cell_type": "code",
   "execution_count": null,
   "metadata": {
    "colab": {},
    "colab_type": "code",
    "id": "jq22IyKanxo_"
   },
   "outputs": [],
   "source": [
    "# Since you will be using the output of one network in two places(convolution and maxpooling),\n",
    "# you can't use nn.Sequential.\n",
    "# Instead you will write up the network like normal variable assignment as the example shown below:\n",
    "# You are welcome (and encouraged) to use the built-in batch normalization and dropout layer.\n",
    "\n",
    "# TODO: You need to change this to fit the UNet structure!!!\n",
    "class CancerDetection(nn.Module):\n",
    "  def __init__(self): # CancerDetection constructor\n",
    "    # You always need to use super to call nn.Module's init function when creating a class that inherits nn.Module.\n",
    "    super(CancerDetection, self).__init__()\n",
    "    \n",
    "    # Always initialize your layers in the init function.\n",
    "    self.conv1 = nn.Conv2d(3,64,kernel_size = 3, stride = 1, padding = 1)\n",
    "    self.relu2 = nn.ReLU()\n",
    "    self.conv3 = nn.Conv2d(64,128,kernel_size = 3, stride = 1, padding = 1)\n",
    "    self.relu4 = nn.ReLU()\n",
    " \n",
    "  def forward(self, input): # nn.Module sets up a hook that calls forward when you \"call\" the module object: net(x) calls net.forward(x)\n",
    "    conv1_out = self.conv1(input)\n",
    "    relu2_out = self.relu2(conv1_out)\n",
    "    conv3_out = self.conv3(relu2_out)\n",
    "    relu4_out = self.relu4(conv3_out) \n",
    "    return relu4_out\n"
   ]
  },
  {
   "cell_type": "code",
   "execution_count": null,
   "metadata": {
    "colab": {},
    "colab_type": "code",
    "id": "NAjagHCdGNAh"
   },
   "outputs": [],
   "source": [
    "# Create your datasets, dataloaders and neural network as you have before\n",
    "# Tip: Pass shuffle=True to constructor for training dataloader to automatically shuffle training data each epoch. You can shuffle the validation loader, but you don't need to.\n"
   ]
  },
  {
   "cell_type": "code",
   "execution_count": null,
   "metadata": {
    "colab": {},
    "colab_type": "code",
    "id": "RkieTbwlYWPS"
   },
   "outputs": [],
   "source": [
    "# This is what was talked about in the video for memory management\n",
    "\n",
    "def scope():\n",
    "  try:\n",
    "    #your code for calling dataset and dataloader\n",
    "    gc.collect()\n",
    "    print(torch.cuda.memory_allocated() / 1e9)\n",
    "    \n",
    "    #for epochs:\n",
    "    # Call your model, figure out loss and accuracy\n",
    "    \n",
    "  except:\n",
    "    __ITB__()\n",
    "    \n",
    "scope()\n"
   ]
  },
  {
   "cell_type": "markdown",
   "metadata": {
    "colab_type": "text",
    "id": "CZ062Jv1jIIu"
   },
   "source": [
    "\n",
    "___\n",
    "\n",
    "### Part 2\n",
    "\n",
    "Plot performance over time\n",
    "\n",
    "Please generate two plots:\n",
    "\n",
    " One that shows loss on the training and validation set as a function of training time. \n",
    "\n",
    " One that shows accuracy on the training and validation set as a function of training time. \n",
    "\n",
    " Make sure your axes are labeled!\n",
    "\n",
    "**TODO:**\n",
    "\n",
    "* Plot training/validation loss as function of training time (not epochs)\n",
    "* Plot training/validation accuracy as function of training time (not epochs)\n",
    "\n",
    "**DONE:**\n",
    "\n"
   ]
  },
  {
   "cell_type": "code",
   "execution_count": null,
   "metadata": {
    "colab": {},
    "colab_type": "code",
    "id": "mTg1jyIsYVZN"
   },
   "outputs": [],
   "source": [
    "# Your plotting code here\n"
   ]
  },
  {
   "cell_type": "markdown",
   "metadata": {
    "nteract": {
     "transient": {
      "deleting": false
     }
    }
   },
   "source": [
    "**NOTE:**\n",
    "\n",
    "Guessing that the pixel is not cancerous every single time will give you an accuracy of ~ 85%.\n",
    "Your trained network should be able to do better than that (but you will not be graded on accuracy).\n",
    "This is the result I got after 1 hour or training.\n",
    "\n",
    "![](http://liftothers.org/dokuwiki/lib/exe/fetch.php?w=400&tok=d23e0b&media=cs501r_f2016:training_accuracy.png)\n",
    "![](http://liftothers.org/dokuwiki/lib/exe/fetch.php?w=400&tok=bb8e3c&media=cs501r_f2016:training_loss.png)"
   ]
  },
  {
   "cell_type": "markdown",
   "metadata": {
    "colab_type": "text",
    "id": "S4s92S2_jQOG"
   },
   "source": [
    "___\n",
    "\n",
    "### Part 3\n",
    "\n",
    "Generate at least 5 predictions on the pos_test_000072.png image and display them as images. These predictions should be made at a reasonable interval (e.g. every epoch). \n",
    "\n",
    "You can load this image from the file pos_test_000072.png, or you can get it from the dataset object. It is item 172 of the validation dataset.\n",
    "You can print both the data instance (x) and the ground-truth label (y_hat) to see how well your network predicts on that instance.\n",
    "\n",
    "To do this, calculate the output of your trained network on the pos_test_000072.png image,\n",
    "then make a hard decision (cancerous/not-cancerous) for each pixel.\n",
    "The resulting image should be black-and-white, where white pixels represent areas\n",
    "the network considers cancerous.\n",
    "\n",
    "**TODO:**\n",
    "\n",
    "**DONE:**\n",
    "\n"
   ]
  },
  {
   "cell_type": "code",
   "execution_count": null,
   "metadata": {
    "colab": {},
    "colab_type": "code",
    "id": "XXfG3wClh8an",
    "pycharm": {
     "is_executing": false
    }
   },
   "outputs": [],
   "source": [
    "# Code for testing prediction on an image\n"
   ]
  }
 ],
 "metadata": {
  "accelerator": "GPU",
  "colab": {
   "collapsed_sections": [],
   "name": "lab4.ipynb",
   "provenance": []
  },
  "kernelspec": {
   "display_name": "Python 3",
   "language": "python",
   "name": "python3"
  },
  "language_info": {
   "codemirror_mode": {
    "name": "ipython",
    "version": 3
   },
   "file_extension": ".py",
   "mimetype": "text/x-python",
   "name": "python",
   "nbconvert_exporter": "python",
   "pygments_lexer": "ipython3",
   "version": "3.7.1"
  },
  "nteract": {
   "version": "0.28.0"
  },
  "pycharm": {
   "stem_cell": {
    "cell_type": "raw",
    "metadata": {
     "collapsed": false
    },
    "source": []
   }
  }
 },
 "nbformat": 4,
 "nbformat_minor": 2
}
